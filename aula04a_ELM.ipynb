{
  "nbformat": 4,
  "nbformat_minor": 0,
  "metadata": {
    "colab": {
      "provenance": [],
      "authorship_tag": "ABX9TyOGMApg4RHh1vW+JYxZq2JU",
      "include_colab_link": true
    },
    "kernelspec": {
      "name": "python3",
      "display_name": "Python 3"
    },
    "language_info": {
      "name": "python"
    }
  },
  "cells": [
    {
      "cell_type": "markdown",
      "metadata": {
        "id": "view-in-github",
        "colab_type": "text"
      },
      "source": [
        "<a href=\"https://colab.research.google.com/github/fboldt/aulasann/blob/main/aula04a_ELM.ipynb\" target=\"_parent\"><img src=\"https://colab.research.google.com/assets/colab-badge.svg\" alt=\"Open In Colab\"/></a>"
      ]
    },
    {
      "cell_type": "code",
      "execution_count": 120,
      "metadata": {
        "id": "R0LwMnzG84Wv",
        "colab": {
          "base_uri": "https://localhost:8080/",
          "height": 279
        },
        "outputId": "c3b267ef-5d0d-49b8-8aba-85ffd7fa40b4"
      },
      "outputs": [
        {
          "output_type": "display_data",
          "data": {
            "text/plain": [
              "<Figure size 432x288 with 1 Axes>"
            ],
            "image/png": "[encoded data removed]"
          },
          "metadata": {
            "needs_background": "light"
          }
        }
      ],
      "source": [
        "import numpy as np\n",
        "from sklearn.datasets import make_blobs\n",
        "from sklearn.model_selection import train_test_split\n",
        "import matplotlib.pyplot as plt\n",
        "\n",
        "def criaDatasetBidimensionalBinárioNãoLinearmenteSeparável(n=20, n_classes=3):\n",
        "    \"\"\"\n",
        "    Cria um dataset bidimensional Binário não linearmente separável.\n",
        "    \"\"\"\n",
        "    X, y = make_blobs(n_samples=n, centers=[[0,0],[1,0],[1,1],[0,1]], cluster_std=0.1)\n",
        "    y = np.array(y%2, dtype=int)\n",
        "    return X, y\n",
        "\n",
        "X, y = criaDatasetBidimensionalBinárioNãoLinearmenteSeparável(1000)\n",
        "Xtr, Xte, ytr, yte = train_test_split(X, y, test_size=0.9)\n",
        "\n",
        "\n",
        "def plotaDatasetBidimensional(X, y):\n",
        "    \"\"\"\n",
        "    Plota um dataset bidimensional.\n",
        "    \"\"\"\n",
        "    plt.xlabel('X1')\n",
        "    plt.ylabel('X2')\n",
        "    for k in set(y):\n",
        "        plt.plot(X[:,0][y==k],X[:,1][y==k], \"o\", alpha=0.3)\n",
        "\n",
        "plotaDatasetBidimensional(Xtr, ytr)\n",
        "\n",
        "def define_axes(X):\n",
        "    offset = 0.2\n",
        "    min1, max1 = X[:, 0].min(), X[:, 0].max()\n",
        "    min2, max2 = X[:, 1].min(), X[:, 1].max()\n",
        "    return [min1-offset, max1+offset, min2-offset, max2+offset]\n",
        "\n",
        "def plot_predictions(clf, X):\n",
        "    axes = define_axes(X)\n",
        "    x0s = np.linspace(axes[0], axes[1], 100)\n",
        "    x1s = np.linspace(axes[2], axes[3], 100)\n",
        "    x0, x1 = np.meshgrid(x0s, x1s)\n",
        "    X = np.c_[x0.ravel(), x1.ravel()]\n",
        "    y_pred = clf.predict(X).reshape(x0.shape)\n",
        "    plt.contourf(x0, x1, y_pred, cmap=plt.cm.brg, alpha=0.2)"
      ]
    },
    {
      "cell_type": "code",
      "source": [
        "def accuracy(yactual, ypred):\n",
        "    return sum(yactual == ypred)/len(yactual)"
      ],
      "metadata": {
        "id": "ocveu83-cybk"
      },
      "execution_count": 121,
      "outputs": []
    },
    {
      "cell_type": "code",
      "source": [
        "from scipy.special import expit\n",
        "\n",
        "def tanh(a):\n",
        "  return expit(a)*2-1"
      ],
      "metadata": {
        "id": "SNZltW3Ghzf3"
      },
      "execution_count": 122,
      "outputs": []
    },
    {
      "cell_type": "code",
      "source": [
        "from abc import ABC, abstractmethod\n",
        "\n",
        "class TrainingAlgorithm(ABC):\n",
        "  @abstractmethod\n",
        "  def getW(self, X, y, activation):\n",
        "    pass\n",
        "\n",
        "class PseudoInversa(TrainingAlgorithm):\n",
        "  def __init__(self, regularization=0):\n",
        "    self.regularization = regularization\n",
        "  def getW(self, X, y):\n",
        "    return np.linalg.inv(X.T @ X + np.eye(X.shape[1])*self.regularization) @ X.T @ y\n",
        "\n",
        "def include_bias(X):\n",
        "  bias = np.ones((X.shape[0], 1))\n",
        "  Xb = np.concatenate((bias, X), axis=1)\n",
        "  return Xb\n",
        "\n",
        "class ExtremeLearningMachine():\n",
        "  def __init__(self, n_hidden=1, regularization=0):\n",
        "    self.ihw = None\n",
        "    self.how = None\n",
        "    self.activation = tanh\n",
        "    self.n_hidden = n_hidden\n",
        "    self.training_algorithm = PseudoInversa(regularization)\n",
        "\n",
        "  def fit(self, X, y):\n",
        "    Xb = include_bias(X)\n",
        "    self.ihw = np.random.uniform(-1, 1, size=(Xb.shape[1], self.n_hidden))\n",
        "    H = self.activation(Xb @ self.ihw)\n",
        "    Hb = include_bias(H)\n",
        "    self.how = self.training_algorithm.getW(Hb, y)\n",
        "\n",
        "  def predict(self, X):\n",
        "    Xb = include_bias(X)\n",
        "    H = self.activation(Xb @ self.ihw)\n",
        "    Hb = include_bias(H)\n",
        "    return Hb @ self.how"
      ],
      "metadata": {
        "id": "l3gd0D90U-Tv"
      },
      "execution_count": 123,
      "outputs": []
    },
    {
      "cell_type": "code",
      "source": [
        "from sklearn.base import BaseEstimator, ClassifierMixin\n",
        "from sklearn.preprocessing import label_binarize\n",
        "\n",
        "class MLP(BaseEstimator, ClassifierMixin):\n",
        "  def __init__(self, training_algorithm=ExtremeLearningMachine(10)):\n",
        "    self.training_algorithm = training_algorithm\n",
        "\n",
        "  def encode_labels(self, y):\n",
        "    self.labels = list(set(y))\n",
        "    return label_binarize(y, classes=self.labels)*2-1\n",
        "\n",
        "  def fit(self, X, y):\n",
        "    yhot = self.encode_labels(y)\n",
        "    self.training_algorithm.fit(X, yhot)\n",
        "    return self\n",
        "\n",
        "  def predict(self, X):\n",
        "    a = self.training_algorithm.predict(X)\n",
        "    if len(self.labels) <= 2:\n",
        "      idx = np.array(a > 0, dtype=int).reshape((-1,))\n",
        "    else:\n",
        "      idx = np.argmax(a, axis=1)\n",
        "    ypred = np.array([self.labels[i] for i in idx])\n",
        "    return ypred\n",
        "\n",
        "elm = MLP()\n",
        "elm.fit(Xtr, ytr)\n",
        "print(accuracy(ytr, elm.predict(Xtr)))\n",
        "plotaDatasetBidimensional(Xtr, ytr)\n",
        "plot_predictions(elm, Xte)"
      ],
      "metadata": {
        "colab": {
          "base_uri": "https://localhost:8080/",
          "height": 297
        },
        "id": "SQZ6XzyTW0RS",
        "outputId": "40895d07-99df-4891-9777-9556e23a0c57"
      },
      "execution_count": 124,
      "outputs": [
        {
          "output_type": "stream",
          "name": "stdout",
          "text": [
            "1.0\n"
          ]
        },
        {
          "output_type": "display_data",
          "data": {
            "text/plain": [
              "<Figure size 432x288 with 1 Axes>"
            ],
            "image/png": "[encoded data removed]"
          },
          "metadata": {
            "needs_background": "light"
          }
        }
      ]
    }
  ]
}