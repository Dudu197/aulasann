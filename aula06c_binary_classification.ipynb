{
  "nbformat": 4,
  "nbformat_minor": 0,
  "metadata": {
    "colab": {
      "provenance": [],
      "authorship_tag": "ABX9TyNOnJGya9J2XTBdbUNalth+",
      "include_colab_link": true
    },
    "kernelspec": {
      "name": "python3",
      "display_name": "Python 3"
    },
    "language_info": {
      "name": "python"
    }
  },
  "cells": [
    {
      "cell_type": "markdown",
      "metadata": {
        "id": "view-in-github",
        "colab_type": "text"
      },
      "source": [
        "<a href=\"https://colab.research.google.com/github/fboldt/aulasann/blob/main/aula06c_binary_classification.ipynb\" target=\"_parent\"><img src=\"https://colab.research.google.com/assets/colab-badge.svg\" alt=\"Open In Colab\"/></a>"
      ]
    },
    {
      "cell_type": "code",
      "source": [
        "from tensorflow.keras.datasets import imdb\n",
        "(train_data, train_labels), (test_data, test_labels) = imdb.load_data(num_words=10000)\n",
        "train_data.shape, train_labels.shape, test_data.shape, test_labels.shape"
      ],
      "metadata": {
        "colab": {
          "base_uri": "https://localhost:8080/"
        },
        "id": "m7_sKMTYjEvF",
        "outputId": "bd59c515-7016-4c7b-bd6d-d8491d714396"
      },
      "execution_count": 19,
      "outputs": [
        {
          "output_type": "execute_result",
          "data": {
            "text/plain": [
              "((25000,), (25000,), (25000,), (25000,))"
            ]
          },
          "metadata": {},
          "execution_count": 19
        }
      ]
    },
    {
      "cell_type": "code",
      "source": [
        "train_data[0:1], train_labels[0:1]"
      ],
      "metadata": {
        "colab": {
          "base_uri": "https://localhost:8080/"
        },
        "id": "oUv7eaAlkuIc",
        "outputId": "c73576d7-2295-4bee-b91e-d189ad4472cd"
      },
      "execution_count": 20,
      "outputs": [
        {
          "output_type": "execute_result",
          "data": {
            "text/plain": [
              "(array([list([1, 14, 22, 16, 43, 530, 973, 1622, 1385, 65, 458, 4468, 66, 3941, 4, 173, 36, 256, 5, 25, 100, 43, 838, 112, 50, 670, 2, 9, 35, 480, 284, 5, 150, 4, 172, 112, 167, 2, 336, 385, 39, 4, 172, 4536, 1111, 17, 546, 38, 13, 447, 4, 192, 50, 16, 6, 147, 2025, 19, 14, 22, 4, 1920, 4613, 469, 4, 22, 71, 87, 12, 16, 43, 530, 38, 76, 15, 13, 1247, 4, 22, 17, 515, 17, 12, 16, 626, 18, 2, 5, 62, 386, 12, 8, 316, 8, 106, 5, 4, 2223, 5244, 16, 480, 66, 3785, 33, 4, 130, 12, 16, 38, 619, 5, 25, 124, 51, 36, 135, 48, 25, 1415, 33, 6, 22, 12, 215, 28, 77, 52, 5, 14, 407, 16, 82, 2, 8, 4, 107, 117, 5952, 15, 256, 4, 2, 7, 3766, 5, 723, 36, 71, 43, 530, 476, 26, 400, 317, 46, 7, 4, 2, 1029, 13, 104, 88, 4, 381, 15, 297, 98, 32, 2071, 56, 26, 141, 6, 194, 7486, 18, 4, 226, 22, 21, 134, 476, 26, 480, 5, 144, 30, 5535, 18, 51, 36, 28, 224, 92, 25, 104, 4, 226, 65, 16, 38, 1334, 88, 12, 16, 283, 5, 16, 4472, 113, 103, 32, 15, 16, 5345, 19, 178, 32])],\n",
              "       dtype=object),\n",
              " array([1]))"
            ]
          },
          "metadata": {},
          "execution_count": 20
        }
      ]
    },
    {
      "cell_type": "code",
      "source": [
        "def decode_words(word_index, sentence):\n",
        "    reverse_word_index = dict(\n",
        "        [(value, key) for (key, value) in word_index.items()]\n",
        "    )\n",
        "    return \" \".join(\n",
        "        [reverse_word_index.get(i-3, \"?\") for i in sentence]\n",
        "    )\n",
        "decode_words(imdb.get_word_index(), train_data[0])"
      ],
      "metadata": {
        "colab": {
          "base_uri": "https://localhost:8080/",
          "height": 192
        },
        "id": "N1fK69Q8lrlU",
        "outputId": "6af8f4b3-98f4-4c88-c9ff-ee15431abeab"
      },
      "execution_count": 21,
      "outputs": [
        {
          "output_type": "stream",
          "name": "stdout",
          "text": [
            "Downloading data from https://storage.googleapis.com/tensorflow/tf-keras-datasets/imdb_word_index.json\n",
            "1641221/1641221 [==============================] - 0s 0us/step\n"
          ]
        },
        {
          "output_type": "execute_result",
          "data": {
            "text/plain": [
              "\"? this film was just brilliant casting location scenery story direction everyone's really suited the part they played and you could just imagine being there robert ? is an amazing actor and now the same being director ? father came from the same scottish island as myself so i loved the fact there was a real connection with this film the witty remarks throughout the film were great it was just brilliant so much that i bought the film as soon as it was released for ? and would recommend it to everyone to watch and the fly fishing was amazing really cried at the end it was so sad and you know what they say if you cry at a film it must have been good and this definitely was also ? to the two little boy's that played the ? of norman and paul they were just brilliant children are often left out of the ? list i think because the stars that play them all grown up are such a big profile for the whole film but these children are amazing and should be praised for what they have done don't you think the whole story was so lovely because it was true and was someone's life after all that was shared with us all\""
            ],
            "application/vnd.google.colaboratory.intrinsic+json": {
              "type": "string"
            }
          },
          "metadata": {},
          "execution_count": 21
        }
      ]
    },
    {
      "cell_type": "code",
      "source": [
        "import numpy as np\n",
        "def vectorize_sequences(sequences, dimension=10000):\n",
        "  results = np.zeros((len(sequences), dimension))\n",
        "  for i, sequence in enumerate(sequences):\n",
        "    for j in sequence:\n",
        "      results[i, j] = 1\n",
        "  return results\n",
        "x_train = vectorize_sequences(train_data)\n",
        "x_test = vectorize_sequences(test_data)\n",
        "y_train = np.array(train_labels).astype(\"float32\")\n",
        "y_test = np.array(test_labels).astype(\"float32\")\n",
        "x_train.shape, y_train.shape, x_test.shape, y_test.shape"
      ],
      "metadata": {
        "colab": {
          "base_uri": "https://localhost:8080/"
        },
        "id": "YSvzlGtmmQCJ",
        "outputId": "6766deca-e916-4b0e-9f6e-83bd82a73f31"
      },
      "execution_count": 22,
      "outputs": [
        {
          "output_type": "execute_result",
          "data": {
            "text/plain": [
              "((25000, 10000), (25000,), (25000, 10000), (25000,))"
            ]
          },
          "metadata": {},
          "execution_count": 22
        }
      ]
    },
    {
      "cell_type": "code",
      "source": [
        "from keras.engine.training import optimizer\n",
        "from tensorflow import keras\n",
        "from tensorflow.keras import layers\n",
        "\n",
        "model = keras.Sequential([\n",
        "    layers.Dense(16, activation=\"relu\"),\n",
        "    layers.Dense(16, activation=\"relu\"),\n",
        "    layers.Dense(1, activation=\"sigmoid\")\n",
        "])\n",
        "model.compile(optimizer=\"rmsprop\",\n",
        "              loss=\"binary_crossentropy\",\n",
        "              metrics=[\"accuracy\"])"
      ],
      "metadata": {
        "id": "6TzJwZJNpM2D"
      },
      "execution_count": 27,
      "outputs": []
    },
    {
      "cell_type": "code",
      "source": [
        "n_val = 10000\n",
        "x_val = x_train[:n_val]\n",
        "partial_x_train = x_train[n_val:]\n",
        "y_val = y_train[:n_val]\n",
        "partial_y_train = y_train[n_val:]\n",
        "x_val.shape, partial_x_train.shape, y_val.shape, partial_y_train.shape"
      ],
      "metadata": {
        "colab": {
          "base_uri": "https://localhost:8080/"
        },
        "id": "QKGPjW9Bqbzt",
        "outputId": "4d8a1da7-a6d2-41dc-cd56-dff49b97d5a3"
      },
      "execution_count": 28,
      "outputs": [
        {
          "output_type": "execute_result",
          "data": {
            "text/plain": [
              "((10000, 10000), (15000, 10000), (10000,), (15000,))"
            ]
          },
          "metadata": {},
          "execution_count": 28
        }
      ]
    },
    {
      "cell_type": "code",
      "source": [
        "history = model.fit(partial_x_train, partial_y_train,\n",
        "                    epochs=20, batch_size=512,\n",
        "                    validation_data=(x_val, y_val))"
      ],
      "metadata": {
        "colab": {
          "base_uri": "https://localhost:8080/"
        },
        "id": "F8RnRmEoroaG",
        "outputId": "ee1ec67b-340d-46d8-e375-26f9e618dfa5"
      },
      "execution_count": 29,
      "outputs": [
        {
          "output_type": "stream",
          "name": "stdout",
          "text": [
            "Epoch 1/20\n",
            "30/30 [==============================] - 3s 84ms/step - loss: 0.5600 - accuracy: 0.7733 - val_loss: 0.4575 - val_accuracy: 0.8295\n",
            "Epoch 2/20\n",
            "30/30 [==============================] - 1s 40ms/step - loss: 0.3621 - accuracy: 0.8870 - val_loss: 0.3377 - val_accuracy: 0.8774\n",
            "Epoch 3/20\n",
            "30/30 [==============================] - 1s 40ms/step - loss: 0.2718 - accuracy: 0.9107 - val_loss: 0.2967 - val_accuracy: 0.8863\n",
            "Epoch 4/20\n",
            "30/30 [==============================] - 1s 39ms/step - loss: 0.2188 - accuracy: 0.9283 - val_loss: 0.2865 - val_accuracy: 0.8847\n",
            "Epoch 5/20\n",
            "30/30 [==============================] - 1s 39ms/step - loss: 0.1848 - accuracy: 0.9381 - val_loss: 0.2954 - val_accuracy: 0.8817\n",
            "Epoch 6/20\n",
            "30/30 [==============================] - 1s 38ms/step - loss: 0.1591 - accuracy: 0.9479 - val_loss: 0.2782 - val_accuracy: 0.8869\n",
            "Epoch 7/20\n",
            "30/30 [==============================] - 1s 39ms/step - loss: 0.1377 - accuracy: 0.9565 - val_loss: 0.2905 - val_accuracy: 0.8816\n",
            "Epoch 8/20\n",
            "30/30 [==============================] - 1s 39ms/step - loss: 0.1231 - accuracy: 0.9615 - val_loss: 0.3040 - val_accuracy: 0.8853\n",
            "Epoch 9/20\n",
            "30/30 [==============================] - 1s 50ms/step - loss: 0.1050 - accuracy: 0.9690 - val_loss: 0.3303 - val_accuracy: 0.8804\n",
            "Epoch 10/20\n",
            "30/30 [==============================] - 2s 64ms/step - loss: 0.0920 - accuracy: 0.9735 - val_loss: 0.3210 - val_accuracy: 0.8816\n",
            "Epoch 11/20\n",
            "30/30 [==============================] - 1s 39ms/step - loss: 0.0823 - accuracy: 0.9753 - val_loss: 0.3407 - val_accuracy: 0.8766\n",
            "Epoch 12/20\n",
            "30/30 [==============================] - 1s 39ms/step - loss: 0.0710 - accuracy: 0.9814 - val_loss: 0.3573 - val_accuracy: 0.8804\n",
            "Epoch 13/20\n",
            "30/30 [==============================] - 1s 39ms/step - loss: 0.0621 - accuracy: 0.9845 - val_loss: 0.3932 - val_accuracy: 0.8752\n",
            "Epoch 14/20\n",
            "30/30 [==============================] - 1s 37ms/step - loss: 0.0530 - accuracy: 0.9883 - val_loss: 0.4159 - val_accuracy: 0.8737\n",
            "Epoch 15/20\n",
            "30/30 [==============================] - 1s 39ms/step - loss: 0.0452 - accuracy: 0.9911 - val_loss: 0.4623 - val_accuracy: 0.8686\n",
            "Epoch 16/20\n",
            "30/30 [==============================] - 1s 38ms/step - loss: 0.0424 - accuracy: 0.9907 - val_loss: 0.4290 - val_accuracy: 0.8743\n",
            "Epoch 17/20\n",
            "30/30 [==============================] - 1s 39ms/step - loss: 0.0339 - accuracy: 0.9942 - val_loss: 0.4566 - val_accuracy: 0.8692\n",
            "Epoch 18/20\n",
            "30/30 [==============================] - 1s 36ms/step - loss: 0.0295 - accuracy: 0.9949 - val_loss: 0.4841 - val_accuracy: 0.8740\n",
            "Epoch 19/20\n",
            "30/30 [==============================] - 1s 50ms/step - loss: 0.0274 - accuracy: 0.9952 - val_loss: 0.4976 - val_accuracy: 0.8711\n",
            "Epoch 20/20\n",
            "30/30 [==============================] - 2s 66ms/step - loss: 0.0218 - accuracy: 0.9969 - val_loss: 0.5209 - val_accuracy: 0.8700\n"
          ]
        }
      ]
    },
    {
      "cell_type": "code",
      "source": [
        "history.history.keys()"
      ],
      "metadata": {
        "colab": {
          "base_uri": "https://localhost:8080/"
        },
        "id": "0olflq5fsmMq",
        "outputId": "cd936fac-e1bd-4830-fcde-2b58a47644e7"
      },
      "execution_count": 30,
      "outputs": [
        {
          "output_type": "execute_result",
          "data": {
            "text/plain": [
              "dict_keys(['loss', 'accuracy', 'val_loss', 'val_accuracy'])"
            ]
          },
          "metadata": {},
          "execution_count": 30
        }
      ]
    },
    {
      "cell_type": "code",
      "source": [
        "import matplotlib.pyplot as plt\n",
        "history_dict = history.history\n",
        "loss_values = history_dict[\"loss\"]\n",
        "val_loss_values = history_dict[\"val_loss\"]\n",
        "epochs = range(1, len(loss_values)+1)\n",
        "plt.plot(epochs, loss_values, \"bo\", label=\"Trainig loss\")\n",
        "plt.plot(epochs, val_loss_values, \"b\", label=\"validation loss\")\n",
        "plt.title(\"Training and validation loss\")\n",
        "plt.xlabel(\"Epochs\")\n",
        "plt.ylabel(\"Loss\")\n",
        "plt.legend()\n",
        "plt.show()"
      ],
      "metadata": {
        "colab": {
          "base_uri": "https://localhost:8080/",
          "height": 472
        },
        "id": "A6jJXWQ3sxUR",
        "outputId": "079dc987-fe59-4513-8bff-4129a68bd475"
      },
      "execution_count": 32,
      "outputs": [
        {
          "output_type": "display_data",
          "data": {
            "text/plain": [
              "<Figure size 640x480 with 1 Axes>"
            ],
            "image/png": "[encoded data removed]"
          },
          "metadata": {}
        }
      ]
    },
    {
      "cell_type": "code",
      "source": [
        "import matplotlib.pyplot as plt\n",
        "history_dict = history.history\n",
        "accuracy_values = history_dict[\"accuracy\"]\n",
        "val_accuracy_values = history_dict[\"val_accuracy\"]\n",
        "epochs = range(1, len(accuracy_values)+1)\n",
        "plt.plot(epochs, accuracy_values, \"bo\", label=\"Trainig acc\")\n",
        "plt.plot(epochs, val_accuracy_values, \"b\", label=\"validation acc\")\n",
        "plt.title(\"Training and validation accuracy\")\n",
        "plt.xlabel(\"Epochs\")\n",
        "plt.ylabel(\"Accuracy\")\n",
        "plt.legend()\n",
        "plt.show()"
      ],
      "metadata": {
        "colab": {
          "base_uri": "https://localhost:8080/",
          "height": 472
        },
        "id": "QpzY8GXzt9OO",
        "outputId": "a073c4df-17c9-4e33-d58a-e0100a038711"
      },
      "execution_count": 33,
      "outputs": [
        {
          "output_type": "display_data",
          "data": {
            "text/plain": [
              "<Figure size 640x480 with 1 Axes>"
            ],
            "image/png": "[encoded data removed]"
          },
          "metadata": {}
        }
      ]
    },
    {
      "cell_type": "code",
      "source": [
        "model.compile(optimizer=\"rmsprop\",\n",
        "              loss=\"binary_crossentropy\",\n",
        "              metrics=[\"accuracy\"])\n",
        "history = model.fit(partial_x_train, partial_y_train,\n",
        "                    epochs=5, batch_size=512,\n",
        "                    validation_data=(x_val, y_val))"
      ],
      "metadata": {
        "colab": {
          "base_uri": "https://localhost:8080/"
        },
        "id": "PY3kyHJVuUIQ",
        "outputId": "15ef8bae-4835-4b84-f68a-afb6538c8c42"
      },
      "execution_count": 36,
      "outputs": [
        {
          "output_type": "stream",
          "name": "stdout",
          "text": [
            "Epoch 1/5\n",
            "30/30 [==============================] - 2s 56ms/step - loss: 0.0077 - accuracy: 0.9983 - val_loss: 0.7504 - val_accuracy: 0.8693\n",
            "Epoch 2/5\n",
            "30/30 [==============================] - 1s 39ms/step - loss: 0.0062 - accuracy: 0.9989 - val_loss: 0.7753 - val_accuracy: 0.8642\n",
            "Epoch 3/5\n",
            "30/30 [==============================] - 1s 36ms/step - loss: 0.0025 - accuracy: 1.0000 - val_loss: 0.7823 - val_accuracy: 0.8672\n",
            "Epoch 4/5\n",
            "30/30 [==============================] - 1s 38ms/step - loss: 0.0053 - accuracy: 0.9991 - val_loss: 0.8047 - val_accuracy: 0.8670\n",
            "Epoch 5/5\n",
            "30/30 [==============================] - 1s 36ms/step - loss: 0.0019 - accuracy: 1.0000 - val_loss: 0.8179 - val_accuracy: 0.8675\n"
          ]
        }
      ]
    },
    {
      "cell_type": "code",
      "source": [
        "y_pred = model.predict(x_test)\n",
        "y_pred"
      ],
      "metadata": {
        "colab": {
          "base_uri": "https://localhost:8080/"
        },
        "id": "lDMNdzVKux04",
        "outputId": "3dfcfd56-1ca9-4f36-c69d-7a1cdee7dbb5"
      },
      "execution_count": 37,
      "outputs": [
        {
          "output_type": "stream",
          "name": "stdout",
          "text": [
            "782/782 [==============================] - 2s 2ms/step\n"
          ]
        },
        {
          "output_type": "execute_result",
          "data": {
            "text/plain": [
              "array([[2.5364826e-03],\n",
              "       [1.0000000e+00],\n",
              "       [9.7745991e-01],\n",
              "       ...,\n",
              "       [5.6122534e-04],\n",
              "       [1.9017146e-03],\n",
              "       [9.7558868e-01]], dtype=float32)"
            ]
          },
          "metadata": {},
          "execution_count": 37
        }
      ]
    },
    {
      "cell_type": "code",
      "source": [
        "np.sum((y_pred>0.5).reshape(-1,) == (y_test>0.5).reshape(-1,))/len(y_test)"
      ],
      "metadata": {
        "colab": {
          "base_uri": "https://localhost:8080/"
        },
        "id": "Q_XmBgF0vGsJ",
        "outputId": "9450bc81-cc37-498c-f14c-7ac26fb30f59"
      },
      "execution_count": 38,
      "outputs": [
        {
          "output_type": "execute_result",
          "data": {
            "text/plain": [
              "0.85428"
            ]
          },
          "metadata": {},
          "execution_count": 38
        }
      ]
    }
  ]
}