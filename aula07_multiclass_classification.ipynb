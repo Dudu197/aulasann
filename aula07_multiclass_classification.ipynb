{
  "nbformat": 4,
  "nbformat_minor": 0,
  "metadata": {
    "colab": {
      "provenance": [],
      "authorship_tag": "ABX9TyPXpAmIxnlfiC2qy6SWWmbF",
      "include_colab_link": true
    },
    "kernelspec": {
      "name": "python3",
      "display_name": "Python 3"
    },
    "language_info": {
      "name": "python"
    }
  },
  "cells": [
    {
      "cell_type": "markdown",
      "metadata": {
        "id": "view-in-github",
        "colab_type": "text"
      },
      "source": [
        "<a href=\"https://colab.research.google.com/github/fboldt/aulasann/blob/main/aula07_multiclass_classification.ipynb\" target=\"_parent\"><img src=\"https://colab.research.google.com/assets/colab-badge.svg\" alt=\"Open In Colab\"/></a>"
      ]
    },
    {
      "cell_type": "code",
      "source": [
        "from tensorflow.keras.datasets import reuters\n",
        "(train_data, train_labels), (test_data, test_labels) = reuters.load_data(num_words=10000)\n",
        "train_data.shape, train_labels.shape, test_data.shape, test_labels.shape"
      ],
      "metadata": {
        "colab": {
          "base_uri": "https://localhost:8080/"
        },
        "id": "m7_sKMTYjEvF",
        "outputId": "cb6cdfcc-8a4f-4524-f7f9-2f4583e79c05"
      },
      "execution_count": 1,
      "outputs": [
        {
          "output_type": "stream",
          "name": "stdout",
          "text": [
            "Downloading data from https://storage.googleapis.com/tensorflow/tf-keras-datasets/reuters.npz\n",
            "2110848/2110848 [==============================] - 1s 0us/step\n"
          ]
        },
        {
          "output_type": "execute_result",
          "data": {
            "text/plain": [
              "((8982,), (8982,), (2246,), (2246,))"
            ]
          },
          "metadata": {},
          "execution_count": 1
        }
      ]
    },
    {
      "cell_type": "code",
      "source": [
        "train_data[0:1], train_labels[0:1]"
      ],
      "metadata": {
        "colab": {
          "base_uri": "https://localhost:8080/"
        },
        "id": "oUv7eaAlkuIc",
        "outputId": "1245ada9-5c05-4157-f438-dee329e8d365"
      },
      "execution_count": 2,
      "outputs": [
        {
          "output_type": "execute_result",
          "data": {
            "text/plain": [
              "(array([list([1, 2, 2, 8, 43, 10, 447, 5, 25, 207, 270, 5, 3095, 111, 16, 369, 186, 90, 67, 7, 89, 5, 19, 102, 6, 19, 124, 15, 90, 67, 84, 22, 482, 26, 7, 48, 4, 49, 8, 864, 39, 209, 154, 6, 151, 6, 83, 11, 15, 22, 155, 11, 15, 7, 48, 9, 4579, 1005, 504, 6, 258, 6, 272, 11, 15, 22, 134, 44, 11, 15, 16, 8, 197, 1245, 90, 67, 52, 29, 209, 30, 32, 132, 6, 109, 15, 17, 12])],\n",
              "       dtype=object),\n",
              " array([3]))"
            ]
          },
          "metadata": {},
          "execution_count": 2
        }
      ]
    },
    {
      "cell_type": "code",
      "source": [
        "def decode_words(word_index, sentence):\n",
        "    reverse_word_index = dict(\n",
        "        [(value, key) for (key, value) in word_index.items()]\n",
        "    )\n",
        "    return \" \".join(\n",
        "        [reverse_word_index.get(i-3, \"?\") for i in sentence]\n",
        "    )\n",
        "decode_words(reuters.get_word_index(), train_data[0])"
      ],
      "metadata": {
        "colab": {
          "base_uri": "https://localhost:8080/",
          "height": 105
        },
        "id": "N1fK69Q8lrlU",
        "outputId": "5849143f-6a74-4458-9f21-2be61b2e6de0"
      },
      "execution_count": 4,
      "outputs": [
        {
          "output_type": "stream",
          "name": "stdout",
          "text": [
            "Downloading data from https://storage.googleapis.com/tensorflow/tf-keras-datasets/reuters_word_index.json\n",
            "550378/550378 [==============================] - 0s 1us/step\n"
          ]
        },
        {
          "output_type": "execute_result",
          "data": {
            "text/plain": [
              "'? ? ? said as a result of its december acquisition of space co it expects earnings per share in 1987 of 1 15 to 1 30 dlrs per share up from 70 cts in 1986 the company said pretax net should rise to nine to 10 mln dlrs from six mln dlrs in 1986 and rental operation revenues to 19 to 22 mln dlrs from 12 5 mln dlrs it said cash flow per share this year should be 2 50 to three dlrs reuter 3'"
            ],
            "application/vnd.google.colaboratory.intrinsic+json": {
              "type": "string"
            }
          },
          "metadata": {},
          "execution_count": 4
        }
      ]
    },
    {
      "cell_type": "code",
      "source": [
        "import numpy as np\n",
        "def vectorize_sequences(sequences, dimension=10000):\n",
        "  results = np.zeros((len(sequences), dimension))\n",
        "  for i, sequence in enumerate(sequences):\n",
        "    for j in sequence:\n",
        "      results[i, j] = 1\n",
        "  return results\n",
        "x_train = vectorize_sequences(train_data)\n",
        "x_test = vectorize_sequences(test_data)\n",
        "x_train.shape, x_test.shape, x_train[0:3,:50]"
      ],
      "metadata": {
        "colab": {
          "base_uri": "https://localhost:8080/"
        },
        "id": "YSvzlGtmmQCJ",
        "outputId": "ec36b80b-bc37-4d7e-ea13-bf4a6ed2ea6f"
      },
      "execution_count": 10,
      "outputs": [
        {
          "output_type": "execute_result",
          "data": {
            "text/plain": [
              "((8982, 10000),\n",
              " (2246, 10000),\n",
              " array([[0., 1., 1., 0., 1., 1., 1., 1., 1., 1., 1., 1., 1., 0., 0., 1.,\n",
              "         1., 1., 0., 1., 0., 0., 1., 0., 0., 1., 1., 0., 0., 1., 1., 0.,\n",
              "         1., 0., 0., 0., 0., 0., 0., 1., 0., 0., 0., 1., 1., 0., 0., 0.,\n",
              "         1., 1.],\n",
              "        [0., 1., 1., 0., 1., 1., 0., 1., 1., 1., 1., 0., 1., 0., 0., 0.,\n",
              "         1., 1., 0., 0., 1., 0., 0., 0., 0., 0., 0., 0., 0., 0., 0., 0.,\n",
              "         0., 0., 1., 1., 0., 0., 0., 0., 0., 0., 0., 0., 1., 0., 0., 0.,\n",
              "         1., 1.],\n",
              "        [0., 1., 1., 0., 1., 1., 0., 1., 0., 1., 0., 1., 1., 1., 1., 1.,\n",
              "         0., 1., 1., 1., 0., 0., 0., 0., 0., 0., 1., 0., 0., 1., 0., 0.,\n",
              "         1., 0., 0., 0., 0., 0., 0., 1., 0., 0., 0., 0., 1., 0., 1., 1.,\n",
              "         1., 0.]]))"
            ]
          },
          "metadata": {},
          "execution_count": 10
        }
      ]
    },
    {
      "cell_type": "code",
      "source": [
        "from keras.preprocessing.text import Tokenizer\n",
        "tokenizer = Tokenizer(num_words=10000)\n",
        "x_train = tokenizer.sequences_to_matrix(train_data)\n",
        "x_test = tokenizer.sequences_to_matrix(test_data)\n",
        "x_train.shape, x_test.shape, x_train[0:3,:50]"
      ],
      "metadata": {
        "colab": {
          "base_uri": "https://localhost:8080/"
        },
        "id": "1spXNPSVmT0d",
        "outputId": "f8114c10-e094-4e1a-d597-d171a9026c05"
      },
      "execution_count": 11,
      "outputs": [
        {
          "output_type": "execute_result",
          "data": {
            "text/plain": [
              "((8982, 10000),\n",
              " (2246, 10000),\n",
              " array([[0., 1., 1., 0., 1., 1., 1., 1., 1., 1., 1., 1., 1., 0., 0., 1.,\n",
              "         1., 1., 0., 1., 0., 0., 1., 0., 0., 1., 1., 0., 0., 1., 1., 0.,\n",
              "         1., 0., 0., 0., 0., 0., 0., 1., 0., 0., 0., 1., 1., 0., 0., 0.,\n",
              "         1., 1.],\n",
              "        [0., 1., 1., 0., 1., 1., 0., 1., 1., 1., 1., 0., 1., 0., 0., 0.,\n",
              "         1., 1., 0., 0., 1., 0., 0., 0., 0., 0., 0., 0., 0., 0., 0., 0.,\n",
              "         0., 0., 1., 1., 0., 0., 0., 0., 0., 0., 0., 0., 1., 0., 0., 0.,\n",
              "         1., 1.],\n",
              "        [0., 1., 1., 0., 1., 1., 0., 1., 0., 1., 0., 1., 1., 1., 1., 1.,\n",
              "         0., 1., 1., 1., 0., 0., 0., 0., 0., 0., 1., 0., 0., 1., 0., 0.,\n",
              "         1., 0., 0., 0., 0., 0., 0., 1., 0., 0., 0., 0., 1., 0., 1., 1.,\n",
              "         1., 0.]]))"
            ]
          },
          "metadata": {},
          "execution_count": 11
        }
      ]
    },
    {
      "cell_type": "code",
      "source": [
        "def to_one_hot(labels):\n",
        "  dimension = len(set(labels))\n",
        "  results = np.zeros((len(labels), dimension))\n",
        "  for i, label in enumerate(labels):\n",
        "    results[i, label] = 1\n",
        "  return results\n",
        "y_train = to_one_hot(train_labels)\n",
        "y_test = to_one_hot(test_labels)\n",
        "y_train.shape, y_test.shape"
      ],
      "metadata": {
        "colab": {
          "base_uri": "https://localhost:8080/"
        },
        "id": "hBMmVFqFmvm7",
        "outputId": "8896e9fc-73de-4a6b-a19f-dd85f89bcd45"
      },
      "execution_count": 13,
      "outputs": [
        {
          "output_type": "execute_result",
          "data": {
            "text/plain": [
              "((8982, 46), (2246, 46))"
            ]
          },
          "metadata": {},
          "execution_count": 13
        }
      ]
    },
    {
      "cell_type": "code",
      "source": [
        "from tensorflow.keras.utils import to_categorical\n",
        "y_train = to_categorical(train_labels)\n",
        "y_test = to_categorical(test_labels)\n",
        "y_train.shape, y_test.shape"
      ],
      "metadata": {
        "colab": {
          "base_uri": "https://localhost:8080/"
        },
        "id": "hodxOwxdqrMR",
        "outputId": "c18df274-62a0-4b8c-a229-f1b356ced2cc"
      },
      "execution_count": 14,
      "outputs": [
        {
          "output_type": "execute_result",
          "data": {
            "text/plain": [
              "((8982, 46), (2246, 46))"
            ]
          },
          "metadata": {},
          "execution_count": 14
        }
      ]
    },
    {
      "cell_type": "code",
      "source": [
        "from keras.engine.training import optimizer\n",
        "from tensorflow import keras\n",
        "from tensorflow.keras import layers\n",
        "\n",
        "model = keras.Sequential([\n",
        "    layers.Dense(64, activation=\"relu\"),\n",
        "    layers.Dense(64, activation=\"relu\"),\n",
        "    layers.Dense(46, activation=\"softmax\")\n",
        "])\n",
        "model.compile(optimizer=\"rmsprop\",\n",
        "              loss=\"categorical_crossentropy\",\n",
        "              metrics=[\"accuracy\"])"
      ],
      "metadata": {
        "id": "6TzJwZJNpM2D"
      },
      "execution_count": 18,
      "outputs": []
    },
    {
      "cell_type": "code",
      "source": [
        "n_val = 1000\n",
        "x_val = x_train[:n_val]\n",
        "partial_x_train = x_train[n_val:]\n",
        "y_val = y_train[:n_val]\n",
        "partial_y_train = y_train[n_val:]\n",
        "x_val.shape, partial_x_train.shape, y_val.shape, partial_y_train.shape"
      ],
      "metadata": {
        "colab": {
          "base_uri": "https://localhost:8080/"
        },
        "id": "QKGPjW9Bqbzt",
        "outputId": "9e8b7466-5cca-4a72-a413-e903b867b24b"
      },
      "execution_count": 20,
      "outputs": [
        {
          "output_type": "execute_result",
          "data": {
            "text/plain": [
              "((1000, 10000), (7982, 10000), (1000, 46), (7982, 46))"
            ]
          },
          "metadata": {},
          "execution_count": 20
        }
      ]
    },
    {
      "cell_type": "code",
      "source": [
        "history = model.fit(partial_x_train, partial_y_train,\n",
        "                    epochs=20, batch_size=512,\n",
        "                    validation_data=(x_val, y_val))"
      ],
      "metadata": {
        "colab": {
          "base_uri": "https://localhost:8080/"
        },
        "id": "F8RnRmEoroaG",
        "outputId": "d6365841-708a-401e-9c0b-58140d4110bd"
      },
      "execution_count": 21,
      "outputs": [
        {
          "output_type": "stream",
          "name": "stdout",
          "text": [
            "Epoch 1/20\n",
            "16/16 [==============================] - 2s 75ms/step - loss: 2.6318 - accuracy: 0.5101 - val_loss: 1.7612 - val_accuracy: 0.6180\n",
            "Epoch 2/20\n",
            "16/16 [==============================] - 1s 56ms/step - loss: 1.4985 - accuracy: 0.6769 - val_loss: 1.3863 - val_accuracy: 0.6970\n",
            "Epoch 3/20\n",
            "16/16 [==============================] - 1s 55ms/step - loss: 1.1725 - accuracy: 0.7400 - val_loss: 1.2139 - val_accuracy: 0.7320\n",
            "Epoch 4/20\n",
            "16/16 [==============================] - 1s 52ms/step - loss: 0.9665 - accuracy: 0.7912 - val_loss: 1.1238 - val_accuracy: 0.7530\n",
            "Epoch 5/20\n",
            "16/16 [==============================] - 1s 53ms/step - loss: 0.8054 - accuracy: 0.8226 - val_loss: 1.0384 - val_accuracy: 0.7750\n",
            "Epoch 6/20\n",
            "16/16 [==============================] - 1s 53ms/step - loss: 0.6696 - accuracy: 0.8508 - val_loss: 0.9810 - val_accuracy: 0.7870\n",
            "Epoch 7/20\n",
            "16/16 [==============================] - 1s 89ms/step - loss: 0.5644 - accuracy: 0.8763 - val_loss: 0.9607 - val_accuracy: 0.7950\n",
            "Epoch 8/20\n",
            "16/16 [==============================] - 1s 94ms/step - loss: 0.4728 - accuracy: 0.9009 - val_loss: 0.9670 - val_accuracy: 0.8050\n",
            "Epoch 9/20\n",
            "16/16 [==============================] - 1s 65ms/step - loss: 0.3939 - accuracy: 0.9196 - val_loss: 0.9037 - val_accuracy: 0.8120\n",
            "Epoch 10/20\n",
            "16/16 [==============================] - 1s 55ms/step - loss: 0.3399 - accuracy: 0.9283 - val_loss: 0.9437 - val_accuracy: 0.7950\n",
            "Epoch 11/20\n",
            "16/16 [==============================] - 1s 53ms/step - loss: 0.2908 - accuracy: 0.9371 - val_loss: 0.9305 - val_accuracy: 0.8090\n",
            "Epoch 12/20\n",
            "16/16 [==============================] - 1s 55ms/step - loss: 0.2545 - accuracy: 0.9446 - val_loss: 0.8961 - val_accuracy: 0.8100\n",
            "Epoch 13/20\n",
            "16/16 [==============================] - 1s 54ms/step - loss: 0.2273 - accuracy: 0.9483 - val_loss: 0.9158 - val_accuracy: 0.8120\n",
            "Epoch 14/20\n",
            "16/16 [==============================] - 1s 52ms/step - loss: 0.2007 - accuracy: 0.9503 - val_loss: 0.9090 - val_accuracy: 0.8190\n",
            "Epoch 15/20\n",
            "16/16 [==============================] - 1s 57ms/step - loss: 0.1830 - accuracy: 0.9516 - val_loss: 0.9257 - val_accuracy: 0.8140\n",
            "Epoch 16/20\n",
            "16/16 [==============================] - 1s 55ms/step - loss: 0.1692 - accuracy: 0.9524 - val_loss: 0.9818 - val_accuracy: 0.8000\n",
            "Epoch 17/20\n",
            "16/16 [==============================] - 1s 54ms/step - loss: 0.1549 - accuracy: 0.9563 - val_loss: 0.9489 - val_accuracy: 0.8070\n",
            "Epoch 18/20\n",
            "16/16 [==============================] - 1s 53ms/step - loss: 0.1490 - accuracy: 0.9558 - val_loss: 0.9571 - val_accuracy: 0.8000\n",
            "Epoch 19/20\n",
            "16/16 [==============================] - 1s 56ms/step - loss: 0.1417 - accuracy: 0.9546 - val_loss: 0.9658 - val_accuracy: 0.8070\n",
            "Epoch 20/20\n",
            "16/16 [==============================] - 1s 59ms/step - loss: 0.1354 - accuracy: 0.9553 - val_loss: 0.9850 - val_accuracy: 0.8010\n"
          ]
        }
      ]
    },
    {
      "cell_type": "code",
      "source": [
        "import matplotlib.pyplot as plt\n",
        "history_dict = history.history\n",
        "loss_values = history_dict[\"loss\"]\n",
        "val_loss_values = history_dict[\"val_loss\"]\n",
        "epochs = range(1, len(loss_values)+1)\n",
        "plt.plot(epochs, loss_values, \"bo\", label=\"Trainig loss\")\n",
        "plt.plot(epochs, val_loss_values, \"b\", label=\"validation loss\")\n",
        "plt.title(\"Training and validation loss\")\n",
        "plt.xlabel(\"Epochs\")\n",
        "plt.ylabel(\"Loss\")\n",
        "plt.legend()\n",
        "plt.show()"
      ],
      "metadata": {
        "colab": {
          "base_uri": "https://localhost:8080/",
          "height": 472
        },
        "id": "A6jJXWQ3sxUR",
        "outputId": "2dc8a815-9856-4c1d-ad21-fb0ae6657605"
      },
      "execution_count": 22,
      "outputs": [
        {
          "output_type": "display_data",
          "data": {
            "text/plain": [
              "<Figure size 640x480 with 1 Axes>"
            ],
            "image/png": "[encoded data removed]"
          },
          "metadata": {}
        }
      ]
    },
    {
      "cell_type": "code",
      "source": [
        "import matplotlib.pyplot as plt\n",
        "history_dict = history.history\n",
        "accuracy_values = history_dict[\"accuracy\"]\n",
        "val_accuracy_values = history_dict[\"val_accuracy\"]\n",
        "epochs = range(1, len(accuracy_values)+1)\n",
        "plt.plot(epochs, accuracy_values, \"bo\", label=\"Trainig acc\")\n",
        "plt.plot(epochs, val_accuracy_values, \"b\", label=\"validation acc\")\n",
        "plt.title(\"Training and validation accuracy\")\n",
        "plt.xlabel(\"Epochs\")\n",
        "plt.ylabel(\"Accuracy\")\n",
        "plt.legend()\n",
        "plt.show()"
      ],
      "metadata": {
        "colab": {
          "base_uri": "https://localhost:8080/",
          "height": 472
        },
        "id": "QpzY8GXzt9OO",
        "outputId": "19f7e52e-4c04-42d6-aac6-23ff21c28541"
      },
      "execution_count": 23,
      "outputs": [
        {
          "output_type": "display_data",
          "data": {
            "text/plain": [
              "<Figure size 640x480 with 1 Axes>"
            ],
            "image/png": "[encoded data removed]"
          },
          "metadata": {}
        }
      ]
    },
    {
      "cell_type": "code",
      "source": [
        "model = keras.Sequential([\n",
        "    layers.Dense(64, activation=\"relu\"),\n",
        "    layers.Dense(64, activation=\"relu\"),\n",
        "    layers.Dense(46, activation=\"softmax\")\n",
        "])\n",
        "model.compile(optimizer=\"rmsprop\",\n",
        "              loss=\"categorical_crossentropy\",\n",
        "              metrics=[\"accuracy\"])\n",
        "history = model.fit(partial_x_train, partial_y_train,\n",
        "                    epochs=8, batch_size=512,\n",
        "                    validation_data=(x_val, y_val))"
      ],
      "metadata": {
        "colab": {
          "base_uri": "https://localhost:8080/"
        },
        "id": "PY3kyHJVuUIQ",
        "outputId": "7dde5f8f-b6a0-4b4f-f288-6c22b0cb8802"
      },
      "execution_count": 24,
      "outputs": [
        {
          "output_type": "stream",
          "name": "stdout",
          "text": [
            "Epoch 1/8\n",
            "16/16 [==============================] - 2s 77ms/step - loss: 2.9227 - accuracy: 0.4525 - val_loss: 1.9886 - val_accuracy: 0.6040\n",
            "Epoch 2/8\n",
            "16/16 [==============================] - 1s 56ms/step - loss: 1.6402 - accuracy: 0.6735 - val_loss: 1.4049 - val_accuracy: 0.6950\n",
            "Epoch 3/8\n",
            "16/16 [==============================] - 1s 55ms/step - loss: 1.2116 - accuracy: 0.7440 - val_loss: 1.1983 - val_accuracy: 0.7340\n",
            "Epoch 4/8\n",
            "16/16 [==============================] - 1s 54ms/step - loss: 0.9708 - accuracy: 0.7935 - val_loss: 1.0956 - val_accuracy: 0.7560\n",
            "Epoch 5/8\n",
            "16/16 [==============================] - 1s 56ms/step - loss: 0.7936 - accuracy: 0.8312 - val_loss: 1.0152 - val_accuracy: 0.7770\n",
            "Epoch 6/8\n",
            "16/16 [==============================] - 1s 56ms/step - loss: 0.6572 - accuracy: 0.8616 - val_loss: 0.9271 - val_accuracy: 0.8100\n",
            "Epoch 7/8\n",
            "16/16 [==============================] - 1s 53ms/step - loss: 0.5446 - accuracy: 0.8891 - val_loss: 0.9082 - val_accuracy: 0.8130\n",
            "Epoch 8/8\n",
            "16/16 [==============================] - 1s 60ms/step - loss: 0.4614 - accuracy: 0.9043 - val_loss: 0.8895 - val_accuracy: 0.8040\n"
          ]
        }
      ]
    },
    {
      "cell_type": "code",
      "source": [
        "y_pred = model.predict(x_test)\n",
        "np.argmax(y_pred[0])"
      ],
      "metadata": {
        "colab": {
          "base_uri": "https://localhost:8080/"
        },
        "id": "lDMNdzVKux04",
        "outputId": "1322ea5b-0536-46fb-e1b8-768a57ca19f1"
      },
      "execution_count": 27,
      "outputs": [
        {
          "output_type": "stream",
          "name": "stdout",
          "text": [
            "71/71 [==============================] - 0s 5ms/step\n"
          ]
        },
        {
          "output_type": "execute_result",
          "data": {
            "text/plain": [
              "3"
            ]
          },
          "metadata": {},
          "execution_count": 27
        }
      ]
    },
    {
      "cell_type": "code",
      "source": [
        "results = model.evaluate(x_test, y_test)"
      ],
      "metadata": {
        "colab": {
          "base_uri": "https://localhost:8080/"
        },
        "id": "Q_XmBgF0vGsJ",
        "outputId": "ae5d26a3-d235-45d0-9b3d-069c967812e1"
      },
      "execution_count": 28,
      "outputs": [
        {
          "output_type": "stream",
          "name": "stdout",
          "text": [
            "71/71 [==============================] - 1s 8ms/step - loss: 0.9523 - accuracy: 0.7756\n"
          ]
        }
      ]
    },
    {
      "cell_type": "code",
      "source": [
        "model = keras.Sequential([\n",
        "    layers.Dense(64, activation=\"relu\"),\n",
        "    layers.Dense(46, activation=\"softmax\")\n",
        "])\n",
        "model.compile(optimizer=\"rmsprop\",\n",
        "              loss=\"categorical_crossentropy\",\n",
        "              metrics=[\"accuracy\"])\n",
        "history = model.fit(partial_x_train, partial_y_train,\n",
        "                    epochs=20, batch_size=512,\n",
        "                    validation_data=(x_val, y_val))\n",
        "results = model.evaluate(x_test, y_test)"
      ],
      "metadata": {
        "colab": {
          "base_uri": "https://localhost:8080/"
        },
        "id": "uCom2aBTuzit",
        "outputId": "656d3628-b0ca-407f-f3ec-5f4ce41dccc9"
      },
      "execution_count": 35,
      "outputs": [
        {
          "output_type": "stream",
          "name": "stdout",
          "text": [
            "Epoch 1/20\n",
            "16/16 [==============================] - 2s 67ms/step - loss: 2.5659 - accuracy: 0.5388 - val_loss: 1.8119 - val_accuracy: 0.6500\n",
            "Epoch 2/20\n",
            "16/16 [==============================] - 1s 58ms/step - loss: 1.5293 - accuracy: 0.6997 - val_loss: 1.3754 - val_accuracy: 0.7120\n",
            "Epoch 3/20\n",
            "16/16 [==============================] - 1s 54ms/step - loss: 1.1634 - accuracy: 0.7595 - val_loss: 1.1635 - val_accuracy: 0.7540\n",
            "Epoch 4/20\n",
            "16/16 [==============================] - 1s 53ms/step - loss: 0.9436 - accuracy: 0.8019 - val_loss: 1.0522 - val_accuracy: 0.7820\n",
            "Epoch 5/20\n",
            "16/16 [==============================] - 1s 52ms/step - loss: 0.7863 - accuracy: 0.8383 - val_loss: 0.9660 - val_accuracy: 0.8000\n",
            "Epoch 6/20\n",
            "16/16 [==============================] - 1s 51ms/step - loss: 0.6671 - accuracy: 0.8648 - val_loss: 0.9137 - val_accuracy: 0.8130\n",
            "Epoch 7/20\n",
            "16/16 [==============================] - 1s 85ms/step - loss: 0.5724 - accuracy: 0.8866 - val_loss: 0.8708 - val_accuracy: 0.8220\n",
            "Epoch 8/20\n",
            "16/16 [==============================] - 2s 97ms/step - loss: 0.4932 - accuracy: 0.9019 - val_loss: 0.8530 - val_accuracy: 0.8230\n",
            "Epoch 9/20\n",
            "16/16 [==============================] - 1s 61ms/step - loss: 0.4286 - accuracy: 0.9121 - val_loss: 0.8375 - val_accuracy: 0.8230\n",
            "Epoch 10/20\n",
            "16/16 [==============================] - 1s 53ms/step - loss: 0.3760 - accuracy: 0.9245 - val_loss: 0.8095 - val_accuracy: 0.8260\n",
            "Epoch 11/20\n",
            "16/16 [==============================] - 1s 53ms/step - loss: 0.3303 - accuracy: 0.9310 - val_loss: 0.8039 - val_accuracy: 0.8310\n",
            "Epoch 12/20\n",
            "16/16 [==============================] - 1s 53ms/step - loss: 0.2942 - accuracy: 0.9375 - val_loss: 0.7990 - val_accuracy: 0.8290\n",
            "Epoch 13/20\n",
            "16/16 [==============================] - 1s 52ms/step - loss: 0.2635 - accuracy: 0.9422 - val_loss: 0.7988 - val_accuracy: 0.8280\n",
            "Epoch 14/20\n",
            "16/16 [==============================] - 1s 56ms/step - loss: 0.2375 - accuracy: 0.9449 - val_loss: 0.8007 - val_accuracy: 0.8300\n",
            "Epoch 15/20\n",
            "16/16 [==============================] - 1s 51ms/step - loss: 0.2167 - accuracy: 0.9485 - val_loss: 0.8002 - val_accuracy: 0.8300\n",
            "Epoch 16/20\n",
            "16/16 [==============================] - 1s 53ms/step - loss: 0.1983 - accuracy: 0.9499 - val_loss: 0.7982 - val_accuracy: 0.8340\n",
            "Epoch 17/20\n",
            "16/16 [==============================] - 1s 53ms/step - loss: 0.1820 - accuracy: 0.9524 - val_loss: 0.8159 - val_accuracy: 0.8280\n",
            "Epoch 18/20\n",
            "16/16 [==============================] - 1s 51ms/step - loss: 0.1706 - accuracy: 0.9530 - val_loss: 0.8078 - val_accuracy: 0.8310\n",
            "Epoch 19/20\n",
            "16/16 [==============================] - 1s 51ms/step - loss: 0.1592 - accuracy: 0.9558 - val_loss: 0.8166 - val_accuracy: 0.8280\n",
            "Epoch 20/20\n",
            "16/16 [==============================] - 1s 52ms/step - loss: 0.1500 - accuracy: 0.9554 - val_loss: 0.8269 - val_accuracy: 0.8300\n",
            "71/71 [==============================] - 0s 6ms/step - loss: 0.9058 - accuracy: 0.7996\n"
          ]
        }
      ]
    },
    {
      "cell_type": "code",
      "source": [
        "model = keras.Sequential([\n",
        "    layers.Dense(96, activation=\"relu\"),\n",
        "    layers.Dense(46, activation=\"softmax\")\n",
        "])\n",
        "model.compile(optimizer=\"rmsprop\",\n",
        "              loss=\"categorical_crossentropy\",\n",
        "              metrics=[\"accuracy\"])\n",
        "history = model.fit(partial_x_train, partial_y_train,\n",
        "                    epochs=20, batch_size=512,\n",
        "                    validation_data=(x_val, y_val))\n",
        "results = model.evaluate(x_test, y_test)"
      ],
      "metadata": {
        "colab": {
          "base_uri": "https://localhost:8080/"
        },
        "id": "dPZL1R9nvBcR",
        "outputId": "b2ff7374-22da-4737-b1aa-4fb472e7af7f"
      },
      "execution_count": 38,
      "outputs": [
        {
          "output_type": "stream",
          "name": "stdout",
          "text": [
            "Epoch 1/20\n",
            "16/16 [==============================] - 2s 79ms/step - loss: 2.5158 - accuracy: 0.5484 - val_loss: 1.7177 - val_accuracy: 0.6540\n",
            "Epoch 2/20\n",
            "16/16 [==============================] - 1s 66ms/step - loss: 1.4175 - accuracy: 0.7151 - val_loss: 1.2693 - val_accuracy: 0.7240\n",
            "Epoch 3/20\n",
            "16/16 [==============================] - 1s 64ms/step - loss: 1.0509 - accuracy: 0.7839 - val_loss: 1.0735 - val_accuracy: 0.7670\n",
            "Epoch 4/20\n",
            "16/16 [==============================] - 1s 64ms/step - loss: 0.8343 - accuracy: 0.8286 - val_loss: 0.9691 - val_accuracy: 0.7960\n",
            "Epoch 5/20\n",
            "16/16 [==============================] - 1s 66ms/step - loss: 0.6792 - accuracy: 0.8622 - val_loss: 0.9050 - val_accuracy: 0.8140\n",
            "Epoch 6/20\n",
            "16/16 [==============================] - 1s 64ms/step - loss: 0.5645 - accuracy: 0.8889 - val_loss: 0.8544 - val_accuracy: 0.8160\n",
            "Epoch 7/20\n",
            "16/16 [==============================] - 2s 106ms/step - loss: 0.4735 - accuracy: 0.9049 - val_loss: 0.8232 - val_accuracy: 0.8250\n",
            "Epoch 8/20\n",
            "16/16 [==============================] - 2s 127ms/step - loss: 0.4036 - accuracy: 0.9186 - val_loss: 0.8061 - val_accuracy: 0.8260\n",
            "Epoch 9/20\n",
            "16/16 [==============================] - 1s 63ms/step - loss: 0.3482 - accuracy: 0.9280 - val_loss: 0.7833 - val_accuracy: 0.8300\n",
            "Epoch 10/20\n",
            "16/16 [==============================] - 1s 63ms/step - loss: 0.3030 - accuracy: 0.9354 - val_loss: 0.7741 - val_accuracy: 0.8330\n",
            "Epoch 11/20\n",
            "16/16 [==============================] - 1s 64ms/step - loss: 0.2663 - accuracy: 0.9402 - val_loss: 0.7795 - val_accuracy: 0.8310\n",
            "Epoch 12/20\n",
            "16/16 [==============================] - 1s 63ms/step - loss: 0.2386 - accuracy: 0.9435 - val_loss: 0.7778 - val_accuracy: 0.8280\n",
            "Epoch 13/20\n",
            "16/16 [==============================] - 1s 65ms/step - loss: 0.2152 - accuracy: 0.9486 - val_loss: 0.7836 - val_accuracy: 0.8340\n",
            "Epoch 14/20\n",
            "16/16 [==============================] - 1s 64ms/step - loss: 0.1951 - accuracy: 0.9511 - val_loss: 0.7974 - val_accuracy: 0.8250\n",
            "Epoch 15/20\n",
            "16/16 [==============================] - 1s 66ms/step - loss: 0.1795 - accuracy: 0.9541 - val_loss: 0.7898 - val_accuracy: 0.8340\n",
            "Epoch 16/20\n",
            "16/16 [==============================] - 1s 66ms/step - loss: 0.1665 - accuracy: 0.9539 - val_loss: 0.7946 - val_accuracy: 0.8300\n",
            "Epoch 17/20\n",
            "16/16 [==============================] - 1s 64ms/step - loss: 0.1540 - accuracy: 0.9557 - val_loss: 0.8075 - val_accuracy: 0.8210\n",
            "Epoch 18/20\n",
            "16/16 [==============================] - 1s 90ms/step - loss: 0.1470 - accuracy: 0.9565 - val_loss: 0.8373 - val_accuracy: 0.8210\n",
            "Epoch 19/20\n",
            "16/16 [==============================] - 2s 113ms/step - loss: 0.1377 - accuracy: 0.9565 - val_loss: 0.8130 - val_accuracy: 0.8220\n",
            "Epoch 20/20\n",
            "16/16 [==============================] - 1s 73ms/step - loss: 0.1302 - accuracy: 0.9575 - val_loss: 0.8342 - val_accuracy: 0.8260\n",
            "71/71 [==============================] - 0s 4ms/step - loss: 0.9274 - accuracy: 0.8032\n"
          ]
        }
      ]
    }
  ]
}