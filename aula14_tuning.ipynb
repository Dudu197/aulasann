{
  "nbformat": 4,
  "nbformat_minor": 0,
  "metadata": {
    "colab": {
      "provenance": [],
      "gpuType": "T4",
      "authorship_tag": "ABX9TyNpkuVIT4sALtI87Bi452MC",
      "include_colab_link": true
    },
    "kernelspec": {
      "name": "python3",
      "display_name": "Python 3"
    },
    "language_info": {
      "name": "python"
    },
    "accelerator": "GPU"
  },
  "cells": [
    {
      "cell_type": "markdown",
      "metadata": {
        "id": "view-in-github",
        "colab_type": "text"
      },
      "source": [
        "<a href=\"https://colab.research.google.com/github/fboldt/aulasann/blob/main/aula14_tuning.ipynb\" target=\"_parent\"><img src=\"https://colab.research.google.com/assets/colab-badge.svg\" alt=\"Open In Colab\"/></a>"
      ]
    },
    {
      "cell_type": "markdown",
      "source": [
        "# Autokeras"
      ],
      "metadata": {
        "id": "m18Oh56gxgjX"
      }
    },
    {
      "cell_type": "code",
      "source": [
        "!pip install autokeras -q"
      ],
      "metadata": {
        "id": "AZpu8UVyxCQt"
      },
      "execution_count": 1,
      "outputs": []
    },
    {
      "cell_type": "code",
      "source": [
        "import numpy as np\n",
        "import tensorflow as tf\n",
        "from tensorflow.keras.datasets import mnist\n",
        "\n",
        "import autokeras as ak\n"
      ],
      "metadata": {
        "id": "jfqSPn4VxVQc"
      },
      "execution_count": 28,
      "outputs": []
    },
    {
      "cell_type": "code",
      "source": [
        "(x_train, y_train), (x_test, y_test) = mnist.load_data()\n",
        "print(x_train.shape)  # (60000, 28, 28)\n",
        "print(y_train.shape)  # (60000,)\n",
        "print(y_train[:3])  # array([7, 2, 1], dtype=uint8)\n"
      ],
      "metadata": {
        "colab": {
          "base_uri": "https://localhost:8080/"
        },
        "id": "-KNADcnwxYWh",
        "outputId": "26944999-b76b-405d-8e70-47980f4fc506"
      },
      "execution_count": 29,
      "outputs": [
        {
          "output_type": "stream",
          "name": "stdout",
          "text": [
            "(60000, 28, 28)\n",
            "(60000,)\n",
            "[5 0 4]\n"
          ]
        }
      ]
    },
    {
      "cell_type": "code",
      "source": [
        "# Initialize the image classifier.\n",
        "clf = ak.ImageClassifier(overwrite=True, max_trials=2)\n",
        "# Feed the image classifier with training data.\n",
        "clf.fit(\n",
        "    x_train,\n",
        "    y_train,\n",
        "    # Split the training data and use the last 15% as validation data.\n",
        "    validation_split=0.15,\n",
        "    epochs=3,\n",
        ")\n",
        "\n",
        "# Predict with the best model.\n",
        "predicted_y = clf.predict(x_test)\n",
        "print(predicted_y)\n",
        "\n",
        "\n",
        "# Evaluate the best model with testing data.\n",
        "print(clf.evaluate(x_test, y_test))\n"
      ],
      "metadata": {
        "colab": {
          "base_uri": "https://localhost:8080/"
        },
        "id": "KKzdExDlxdbM",
        "outputId": "a24a8444-85ff-42a9-ab82-3cae835cfa48"
      },
      "execution_count": 30,
      "outputs": [
        {
          "output_type": "stream",
          "name": "stdout",
          "text": [
            "Trial 2 Complete [00h 27m 57s]\n",
            "val_loss: 0.3146403431892395\n",
            "\n",
            "Best val_loss So Far: 0.045711446553468704\n",
            "Total elapsed time: 00h 28m 43s\n",
            "Epoch 1/3\n",
            "1875/1875 [==============================] - 10s 5ms/step - loss: 0.1598 - accuracy: 0.9515\n",
            "Epoch 2/3\n",
            "1875/1875 [==============================] - 9s 5ms/step - loss: 0.0713 - accuracy: 0.9782\n",
            "Epoch 3/3\n",
            "1875/1875 [==============================] - 10s 5ms/step - loss: 0.0592 - accuracy: 0.9818\n"
          ]
        },
        {
          "output_type": "stream",
          "name": "stderr",
          "text": [
            "WARNING:absl:Found untraced functions such as _jit_compiled_convolution_op, _jit_compiled_convolution_op while saving (showing 2 of 2). These functions will not be directly callable after loading.\n"
          ]
        },
        {
          "output_type": "stream",
          "name": "stdout",
          "text": [
            "313/313 [==============================] - 1s 2ms/step\n",
            "313/313 [==============================] - 1s 2ms/step\n",
            "[['7']\n",
            " ['2']\n",
            " ['1']\n",
            " ...\n",
            " ['4']\n",
            " ['5']\n",
            " ['6']]\n",
            "313/313 [==============================] - 1s 3ms/step - loss: 0.0344 - accuracy: 0.9893\n",
            "[0.03439457714557648, 0.989300012588501]\n"
          ]
        }
      ]
    },
    {
      "cell_type": "markdown",
      "source": [
        "#Keras Tuner"
      ],
      "metadata": {
        "id": "QX3uKoaKzkR0"
      }
    },
    {
      "cell_type": "code",
      "source": [
        "!pip install keras-tuner -q"
      ],
      "metadata": {
        "id": "CVM7fDLvz8r0"
      },
      "execution_count": 5,
      "outputs": []
    },
    {
      "cell_type": "code",
      "source": [
        "from tensorflow import keras\n",
        "from tensorflow.keras import layers\n",
        "\n",
        "def build_model(hp):\n",
        "  units = hp.Int(name=\"units\", min_value=16, max_value=64, step=16)\n",
        "  model = keras.Sequential([\n",
        "      layers.Dense(units, activation=\"relu\"),\n",
        "      layers.Dense(10, activation=\"softmax\")\n",
        "  ])\n",
        "  optimizer = hp.Choice(name=\"optimizer\", values=[\"rmsprop\", \"adam\"])\n",
        "  model.compile(\n",
        "      optimizer=optimizer,\n",
        "      loss=\"sparse_categorical_crossentropy\",\n",
        "      metrics=[\"accuracy\"])\n",
        "  return model"
      ],
      "metadata": {
        "id": "wSfPvuhG0Gp9"
      },
      "execution_count": 16,
      "outputs": []
    },
    {
      "cell_type": "code",
      "source": [
        "!pip install keras-tuner[bayesian] -q"
      ],
      "metadata": {
        "id": "o4BAmiht3O7U"
      },
      "execution_count": 10,
      "outputs": []
    },
    {
      "cell_type": "code",
      "source": [
        "import keras_tuner as kt\n",
        "\n",
        "tuner = kt.BayesianOptimization(\n",
        "    build_model,\n",
        "    objective=\"val_accuracy\",\n",
        "    max_trials=5,\n",
        "    executions_per_trial=2,\n",
        "    directory=\"mnist_kt_test\",\n",
        "    overwrite=True,\n",
        ")"
      ],
      "metadata": {
        "id": "DCo8NBLH3TId"
      },
      "execution_count": 17,
      "outputs": []
    },
    {
      "cell_type": "code",
      "source": [
        "tuner.search_space_summary()"
      ],
      "metadata": {
        "colab": {
          "base_uri": "https://localhost:8080/"
        },
        "id": "a2YABG3S4qul",
        "outputId": "aec3faf8-2b78-4b48-efc2-37425a5216b1"
      },
      "execution_count": 18,
      "outputs": [
        {
          "output_type": "stream",
          "name": "stdout",
          "text": [
            "Search space summary\n",
            "Default search space size: 2\n",
            "units (Int)\n",
            "{'default': None, 'conditions': [], 'min_value': 16, 'max_value': 64, 'step': 16, 'sampling': 'linear'}\n",
            "optimizer (Choice)\n",
            "{'default': 'rmsprop', 'conditions': [], 'values': ['rmsprop', 'adam'], 'ordered': False}\n"
          ]
        }
      ]
    },
    {
      "cell_type": "code",
      "source": [
        "(x_train, y_train), (x_test, y_test) = keras.datasets.mnist.load_data()\n",
        "x_train = x_train.reshape((-1, 28 * 28)).astype(\"float32\") / 255\n",
        "x_test = x_test.reshape((-1, 28 * 28)).astype(\"float32\") / 255\n",
        "x_train_full = x_train[:]\n",
        "y_train_full = y_train[:]\n",
        "num_val_samples = 10000\n",
        "x_train, x_val = x_train[:-num_val_samples], x_train[-num_val_samples:]\n",
        "y_train, y_val = y_train[:-num_val_samples], y_train[-num_val_samples:]\n",
        "callbacks = [\n",
        "    keras.callbacks.EarlyStopping(monitor=\"val_loss\", patience=5),\n",
        "]\n",
        "tuner.search(\n",
        "    x_train, y_train,\n",
        "    batch_size=128,\n",
        "    epochs=10,\n",
        "    validation_data=(x_val,y_val),\n",
        "    callbacks=callbacks,\n",
        "    verbose=2,\n",
        ")"
      ],
      "metadata": {
        "colab": {
          "base_uri": "https://localhost:8080/"
        },
        "id": "g6iTJIC-5P6a",
        "outputId": "f1fea37c-5f05-40d5-f99a-36abf59c1a8a"
      },
      "execution_count": 19,
      "outputs": [
        {
          "output_type": "stream",
          "name": "stdout",
          "text": [
            "Trial 5 Complete [00h 00m 31s]\n",
            "val_accuracy: 0.9638499915599823\n",
            "\n",
            "Best val_accuracy So Far: 0.9717999994754791\n",
            "Total elapsed time: 00h 02m 51s\n"
          ]
        }
      ]
    },
    {
      "cell_type": "code",
      "source": [
        "top_n = 3\n",
        "best_hps = tuner.get_best_hyperparameters(top_n)\n",
        "best_hps"
      ],
      "metadata": {
        "colab": {
          "base_uri": "https://localhost:8080/"
        },
        "id": "SNdDjYKX8iFF",
        "outputId": "dfccd05d-8647-42a6-f314-f3d81c0a2d93"
      },
      "execution_count": 20,
      "outputs": [
        {
          "output_type": "execute_result",
          "data": {
            "text/plain": [
              "[<keras_tuner.engine.hyperparameters.hyperparameters.HyperParameters at 0x7f2e28173280>,\n",
              " <keras_tuner.engine.hyperparameters.hyperparameters.HyperParameters at 0x7f2e609075b0>,\n",
              " <keras_tuner.engine.hyperparameters.hyperparameters.HyperParameters at 0x7f2e60967520>]"
            ]
          },
          "metadata": {},
          "execution_count": 20
        }
      ]
    },
    {
      "cell_type": "code",
      "source": [
        "def get_best_epoch(hp):\n",
        "  model = build_model(hp)\n",
        "  callbacks = [keras.callbacks.EarlyStopping(\n",
        "      monitor=\"val_loss\", mode=\"min\", patience=10)]\n",
        "  history = model.fit(\n",
        "      x_train, y_train,\n",
        "      validation_data=(x_val,y_val),\n",
        "      epochs=20,\n",
        "      batch_size=128,\n",
        "      callbacks=callbacks)\n",
        "  val_loss_per_epoch = history.history[\"val_loss\"]\n",
        "  best_epoch = val_loss_per_epoch.index(min(val_loss_per_epoch)) + 1\n",
        "  print(f\"Best epoch: {best_epoch}\")\n",
        "  return best_epoch"
      ],
      "metadata": {
        "id": "vfys1PvN-0Cf"
      },
      "execution_count": 23,
      "outputs": []
    },
    {
      "cell_type": "code",
      "source": [
        "def get_best_trained_model(hp):\n",
        "  best_epoch = get_best_epoch(hp)\n",
        "  model = build_model(hp)\n",
        "  model.fit(x_train_full, y_train_full,\n",
        "            batch_size=128, epochs=int(best_epoch * 1.2))\n",
        "  return model\n",
        "\n",
        "best_models = []\n",
        "for hp in best_hps:\n",
        "  model = get_best_trained_model(hp)\n",
        "  print(\"\\n\\n### Evaluate ###\\n\")\n",
        "  evaluate = model.evaluate(x_test, y_test)\n",
        "  print(evaluate)\n",
        "  print(\"### ### ### ###\")\n",
        "  best_models.append(model)"
      ],
      "metadata": {
        "colab": {
          "base_uri": "https://localhost:8080/"
        },
        "id": "oHLvGldiDj1t",
        "outputId": "7f2b8e60-f618-4418-d776-41f558736328"
      },
      "execution_count": 26,
      "outputs": [
        {
          "output_type": "stream",
          "name": "stdout",
          "text": [
            "Epoch 1/20\n",
            "391/391 [==============================] - 3s 5ms/step - loss: 0.4157 - accuracy: 0.8881 - val_loss: 0.2301 - val_accuracy: 0.9350\n",
            "Epoch 2/20\n",
            "391/391 [==============================] - 2s 4ms/step - loss: 0.2189 - accuracy: 0.9371 - val_loss: 0.1787 - val_accuracy: 0.9517\n",
            "Epoch 3/20\n",
            "391/391 [==============================] - 1s 4ms/step - loss: 0.1720 - accuracy: 0.9506 - val_loss: 0.1535 - val_accuracy: 0.9576\n",
            "Epoch 4/20\n",
            "391/391 [==============================] - 1s 3ms/step - loss: 0.1419 - accuracy: 0.9581 - val_loss: 0.1400 - val_accuracy: 0.9601\n",
            "Epoch 5/20\n",
            "391/391 [==============================] - 1s 3ms/step - loss: 0.1210 - accuracy: 0.9659 - val_loss: 0.1302 - val_accuracy: 0.9620\n",
            "Epoch 6/20\n",
            "391/391 [==============================] - 1s 3ms/step - loss: 0.1053 - accuracy: 0.9688 - val_loss: 0.1195 - val_accuracy: 0.9654\n",
            "Epoch 7/20\n",
            "391/391 [==============================] - 1s 4ms/step - loss: 0.0929 - accuracy: 0.9734 - val_loss: 0.1141 - val_accuracy: 0.9670\n",
            "Epoch 8/20\n",
            "391/391 [==============================] - 1s 3ms/step - loss: 0.0824 - accuracy: 0.9760 - val_loss: 0.1085 - val_accuracy: 0.9689\n",
            "Epoch 9/20\n",
            "391/391 [==============================] - 1s 4ms/step - loss: 0.0745 - accuracy: 0.9793 - val_loss: 0.1029 - val_accuracy: 0.9693\n",
            "Epoch 10/20\n",
            "391/391 [==============================] - 2s 5ms/step - loss: 0.0675 - accuracy: 0.9806 - val_loss: 0.1033 - val_accuracy: 0.9716\n",
            "Epoch 11/20\n",
            "391/391 [==============================] - 2s 4ms/step - loss: 0.0614 - accuracy: 0.9827 - val_loss: 0.1028 - val_accuracy: 0.9714\n",
            "Epoch 12/20\n",
            "391/391 [==============================] - 1s 3ms/step - loss: 0.0561 - accuracy: 0.9836 - val_loss: 0.1012 - val_accuracy: 0.9710\n",
            "Epoch 13/20\n",
            "391/391 [==============================] - 1s 4ms/step - loss: 0.0518 - accuracy: 0.9852 - val_loss: 0.0969 - val_accuracy: 0.9724\n",
            "Epoch 14/20\n",
            "391/391 [==============================] - 1s 3ms/step - loss: 0.0474 - accuracy: 0.9867 - val_loss: 0.1018 - val_accuracy: 0.9713\n",
            "Epoch 15/20\n",
            "391/391 [==============================] - 1s 4ms/step - loss: 0.0427 - accuracy: 0.9884 - val_loss: 0.1008 - val_accuracy: 0.9718\n",
            "Epoch 16/20\n",
            "391/391 [==============================] - 1s 3ms/step - loss: 0.0398 - accuracy: 0.9886 - val_loss: 0.1013 - val_accuracy: 0.9709\n",
            "Epoch 17/20\n",
            "391/391 [==============================] - 1s 3ms/step - loss: 0.0367 - accuracy: 0.9898 - val_loss: 0.0978 - val_accuracy: 0.9726\n",
            "Epoch 18/20\n",
            "391/391 [==============================] - 1s 3ms/step - loss: 0.0337 - accuracy: 0.9906 - val_loss: 0.0990 - val_accuracy: 0.9728\n",
            "Epoch 19/20\n",
            "391/391 [==============================] - 2s 5ms/step - loss: 0.0309 - accuracy: 0.9916 - val_loss: 0.1021 - val_accuracy: 0.9726\n",
            "Epoch 20/20\n",
            "391/391 [==============================] - 1s 4ms/step - loss: 0.0284 - accuracy: 0.9927 - val_loss: 0.1023 - val_accuracy: 0.9717\n",
            "Best epoch: 13\n",
            "Epoch 1/15\n",
            "469/469 [==============================] - 2s 3ms/step - loss: 0.4015 - accuracy: 0.8915\n",
            "Epoch 2/15\n",
            "469/469 [==============================] - 1s 3ms/step - loss: 0.2079 - accuracy: 0.9402\n",
            "Epoch 3/15\n",
            "469/469 [==============================] - 1s 3ms/step - loss: 0.1586 - accuracy: 0.9541\n",
            "Epoch 4/15\n",
            "469/469 [==============================] - 1s 3ms/step - loss: 0.1289 - accuracy: 0.9625\n",
            "Epoch 5/15\n",
            "469/469 [==============================] - 1s 3ms/step - loss: 0.1084 - accuracy: 0.9686\n",
            "Epoch 6/15\n",
            "469/469 [==============================] - 1s 3ms/step - loss: 0.0942 - accuracy: 0.9725\n",
            "Epoch 7/15\n",
            "469/469 [==============================] - 2s 4ms/step - loss: 0.0833 - accuracy: 0.9753\n",
            "Epoch 8/15\n",
            "469/469 [==============================] - 2s 4ms/step - loss: 0.0746 - accuracy: 0.9784\n",
            "Epoch 9/15\n",
            "469/469 [==============================] - 1s 3ms/step - loss: 0.0670 - accuracy: 0.9809\n",
            "Epoch 10/15\n",
            "469/469 [==============================] - 1s 3ms/step - loss: 0.0609 - accuracy: 0.9830\n",
            "Epoch 11/15\n",
            "469/469 [==============================] - 1s 3ms/step - loss: 0.0556 - accuracy: 0.9844\n",
            "Epoch 12/15\n",
            "469/469 [==============================] - 1s 3ms/step - loss: 0.0507 - accuracy: 0.9854\n",
            "Epoch 13/15\n",
            "469/469 [==============================] - 1s 3ms/step - loss: 0.0470 - accuracy: 0.9868\n",
            "Epoch 14/15\n",
            "469/469 [==============================] - 1s 3ms/step - loss: 0.0431 - accuracy: 0.9878\n",
            "Epoch 15/15\n",
            "469/469 [==============================] - 1s 3ms/step - loss: 0.0397 - accuracy: 0.9889\n",
            "\n",
            "\n",
            "### Evaluate ###\n",
            "\n",
            "313/313 [==============================] - 1s 3ms/step - loss: 0.0858 - accuracy: 0.9760\n",
            "[0.08583320677280426, 0.9760000109672546]\n",
            "### ### ### ###\n",
            "Epoch 1/20\n",
            "391/391 [==============================] - 3s 4ms/step - loss: 0.4456 - accuracy: 0.8797 - val_loss: 0.2319 - val_accuracy: 0.9392\n",
            "Epoch 2/20\n",
            "391/391 [==============================] - 1s 3ms/step - loss: 0.2173 - accuracy: 0.9382 - val_loss: 0.1820 - val_accuracy: 0.9502\n",
            "Epoch 3/20\n",
            "391/391 [==============================] - 1s 4ms/step - loss: 0.1679 - accuracy: 0.9512 - val_loss: 0.1514 - val_accuracy: 0.9585\n",
            "Epoch 4/20\n",
            "391/391 [==============================] - 1s 4ms/step - loss: 0.1379 - accuracy: 0.9605 - val_loss: 0.1357 - val_accuracy: 0.9614\n",
            "Epoch 5/20\n",
            "391/391 [==============================] - 1s 3ms/step - loss: 0.1164 - accuracy: 0.9668 - val_loss: 0.1278 - val_accuracy: 0.9632\n",
            "Epoch 6/20\n",
            "391/391 [==============================] - 1s 3ms/step - loss: 0.1009 - accuracy: 0.9714 - val_loss: 0.1158 - val_accuracy: 0.9676\n",
            "Epoch 7/20\n",
            "391/391 [==============================] - 1s 3ms/step - loss: 0.0883 - accuracy: 0.9750 - val_loss: 0.1103 - val_accuracy: 0.9686\n",
            "Epoch 8/20\n",
            "391/391 [==============================] - 2s 4ms/step - loss: 0.0783 - accuracy: 0.9779 - val_loss: 0.1041 - val_accuracy: 0.9712\n",
            "Epoch 9/20\n",
            "391/391 [==============================] - 2s 5ms/step - loss: 0.0696 - accuracy: 0.9801 - val_loss: 0.1025 - val_accuracy: 0.9712\n",
            "Epoch 10/20\n",
            "391/391 [==============================] - 1s 3ms/step - loss: 0.0620 - accuracy: 0.9827 - val_loss: 0.1002 - val_accuracy: 0.9722\n",
            "Epoch 11/20\n",
            "391/391 [==============================] - 1s 3ms/step - loss: 0.0554 - accuracy: 0.9846 - val_loss: 0.0940 - val_accuracy: 0.9733\n",
            "Epoch 12/20\n",
            "391/391 [==============================] - 1s 3ms/step - loss: 0.0508 - accuracy: 0.9864 - val_loss: 0.0957 - val_accuracy: 0.9720\n",
            "Epoch 13/20\n",
            "391/391 [==============================] - 1s 3ms/step - loss: 0.0445 - accuracy: 0.9881 - val_loss: 0.0960 - val_accuracy: 0.9723\n",
            "Epoch 14/20\n",
            "391/391 [==============================] - 1s 4ms/step - loss: 0.0410 - accuracy: 0.9890 - val_loss: 0.0944 - val_accuracy: 0.9716\n",
            "Epoch 15/20\n",
            "391/391 [==============================] - 1s 4ms/step - loss: 0.0367 - accuracy: 0.9907 - val_loss: 0.0951 - val_accuracy: 0.9733\n",
            "Epoch 16/20\n",
            "391/391 [==============================] - 1s 4ms/step - loss: 0.0330 - accuracy: 0.9916 - val_loss: 0.0937 - val_accuracy: 0.9734\n",
            "Epoch 17/20\n",
            "391/391 [==============================] - 2s 4ms/step - loss: 0.0304 - accuracy: 0.9923 - val_loss: 0.0972 - val_accuracy: 0.9729\n",
            "Epoch 18/20\n",
            "391/391 [==============================] - 2s 4ms/step - loss: 0.0270 - accuracy: 0.9932 - val_loss: 0.0951 - val_accuracy: 0.9731\n",
            "Epoch 19/20\n",
            "391/391 [==============================] - 2s 4ms/step - loss: 0.0245 - accuracy: 0.9942 - val_loss: 0.0949 - val_accuracy: 0.9740\n",
            "Epoch 20/20\n",
            "391/391 [==============================] - 1s 3ms/step - loss: 0.0228 - accuracy: 0.9949 - val_loss: 0.0976 - val_accuracy: 0.9726\n",
            "Best epoch: 16\n",
            "Epoch 1/19\n",
            "469/469 [==============================] - 2s 3ms/step - loss: 0.4207 - accuracy: 0.8867\n",
            "Epoch 2/19\n",
            "469/469 [==============================] - 1s 3ms/step - loss: 0.2046 - accuracy: 0.9420\n",
            "Epoch 3/19\n",
            "469/469 [==============================] - 1s 3ms/step - loss: 0.1547 - accuracy: 0.9554\n",
            "Epoch 4/19\n",
            "469/469 [==============================] - 1s 3ms/step - loss: 0.1250 - accuracy: 0.9642\n",
            "Epoch 5/19\n",
            "469/469 [==============================] - 2s 4ms/step - loss: 0.1044 - accuracy: 0.9697\n",
            "Epoch 6/19\n",
            "469/469 [==============================] - 2s 4ms/step - loss: 0.0903 - accuracy: 0.9735\n",
            "Epoch 7/19\n",
            "469/469 [==============================] - 1s 3ms/step - loss: 0.0778 - accuracy: 0.9772\n",
            "Epoch 8/19\n",
            "469/469 [==============================] - 1s 3ms/step - loss: 0.0693 - accuracy: 0.9797\n",
            "Epoch 9/19\n",
            "469/469 [==============================] - 1s 3ms/step - loss: 0.0620 - accuracy: 0.9817\n",
            "Epoch 10/19\n",
            "469/469 [==============================] - 1s 3ms/step - loss: 0.0550 - accuracy: 0.9833\n",
            "Epoch 11/19\n",
            "469/469 [==============================] - 1s 3ms/step - loss: 0.0498 - accuracy: 0.9854\n",
            "Epoch 12/19\n",
            "469/469 [==============================] - 1s 3ms/step - loss: 0.0447 - accuracy: 0.9869\n",
            "Epoch 13/19\n",
            "469/469 [==============================] - 1s 3ms/step - loss: 0.0399 - accuracy: 0.9883\n",
            "Epoch 14/19\n",
            "469/469 [==============================] - 2s 4ms/step - loss: 0.0365 - accuracy: 0.9894\n",
            "Epoch 15/19\n",
            "469/469 [==============================] - 2s 4ms/step - loss: 0.0335 - accuracy: 0.9906\n",
            "Epoch 16/19\n",
            "469/469 [==============================] - 1s 3ms/step - loss: 0.0301 - accuracy: 0.9914\n",
            "Epoch 17/19\n",
            "469/469 [==============================] - 1s 3ms/step - loss: 0.0277 - accuracy: 0.9927\n",
            "Epoch 18/19\n",
            "469/469 [==============================] - 1s 3ms/step - loss: 0.0250 - accuracy: 0.9934\n",
            "Epoch 19/19\n",
            "469/469 [==============================] - 1s 3ms/step - loss: 0.0235 - accuracy: 0.9937\n",
            "\n",
            "\n",
            "### Evaluate ###\n",
            "\n",
            "313/313 [==============================] - 1s 2ms/step - loss: 0.0859 - accuracy: 0.9736\n",
            "[0.08589533716440201, 0.9735999703407288]\n",
            "### ### ### ###\n",
            "Epoch 1/20\n",
            "391/391 [==============================] - 3s 5ms/step - loss: 0.4400 - accuracy: 0.8810 - val_loss: 0.2455 - val_accuracy: 0.9327\n",
            "Epoch 2/20\n",
            "391/391 [==============================] - 2s 5ms/step - loss: 0.2307 - accuracy: 0.9352 - val_loss: 0.1941 - val_accuracy: 0.9482\n",
            "Epoch 3/20\n",
            "391/391 [==============================] - 2s 4ms/step - loss: 0.1834 - accuracy: 0.9465 - val_loss: 0.1635 - val_accuracy: 0.9544\n",
            "Epoch 4/20\n",
            "391/391 [==============================] - 1s 3ms/step - loss: 0.1541 - accuracy: 0.9548 - val_loss: 0.1488 - val_accuracy: 0.9575\n",
            "Epoch 5/20\n",
            "391/391 [==============================] - 1s 3ms/step - loss: 0.1335 - accuracy: 0.9613 - val_loss: 0.1331 - val_accuracy: 0.9638\n",
            "Epoch 6/20\n",
            "391/391 [==============================] - 1s 3ms/step - loss: 0.1179 - accuracy: 0.9653 - val_loss: 0.1281 - val_accuracy: 0.9655\n",
            "Epoch 7/20\n",
            "391/391 [==============================] - 1s 3ms/step - loss: 0.1060 - accuracy: 0.9695 - val_loss: 0.1227 - val_accuracy: 0.9653\n",
            "Epoch 8/20\n",
            "391/391 [==============================] - 1s 3ms/step - loss: 0.0964 - accuracy: 0.9725 - val_loss: 0.1196 - val_accuracy: 0.9657\n",
            "Epoch 9/20\n",
            "391/391 [==============================] - 1s 3ms/step - loss: 0.0881 - accuracy: 0.9741 - val_loss: 0.1141 - val_accuracy: 0.9686\n",
            "Epoch 10/20\n",
            "391/391 [==============================] - 1s 4ms/step - loss: 0.0807 - accuracy: 0.9767 - val_loss: 0.1164 - val_accuracy: 0.9655\n",
            "Epoch 11/20\n",
            "391/391 [==============================] - 2s 4ms/step - loss: 0.0745 - accuracy: 0.9778 - val_loss: 0.1134 - val_accuracy: 0.9676\n",
            "Epoch 12/20\n",
            "391/391 [==============================] - 2s 5ms/step - loss: 0.0693 - accuracy: 0.9798 - val_loss: 0.1108 - val_accuracy: 0.9688\n",
            "Epoch 13/20\n",
            "391/391 [==============================] - 1s 3ms/step - loss: 0.0641 - accuracy: 0.9809 - val_loss: 0.1054 - val_accuracy: 0.9701\n",
            "Epoch 14/20\n",
            "391/391 [==============================] - 1s 3ms/step - loss: 0.0604 - accuracy: 0.9830 - val_loss: 0.1049 - val_accuracy: 0.9714\n",
            "Epoch 15/20\n",
            "391/391 [==============================] - 1s 3ms/step - loss: 0.0562 - accuracy: 0.9841 - val_loss: 0.1067 - val_accuracy: 0.9710\n",
            "Epoch 16/20\n",
            "391/391 [==============================] - 1s 3ms/step - loss: 0.0527 - accuracy: 0.9851 - val_loss: 0.1055 - val_accuracy: 0.9707\n",
            "Epoch 17/20\n",
            "391/391 [==============================] - 1s 3ms/step - loss: 0.0493 - accuracy: 0.9856 - val_loss: 0.1069 - val_accuracy: 0.9714\n",
            "Epoch 18/20\n",
            "391/391 [==============================] - 1s 4ms/step - loss: 0.0468 - accuracy: 0.9868 - val_loss: 0.1043 - val_accuracy: 0.9715\n",
            "Epoch 19/20\n",
            "391/391 [==============================] - 1s 3ms/step - loss: 0.0437 - accuracy: 0.9874 - val_loss: 0.1018 - val_accuracy: 0.9717\n",
            "Epoch 20/20\n",
            "391/391 [==============================] - 2s 4ms/step - loss: 0.0411 - accuracy: 0.9886 - val_loss: 0.1092 - val_accuracy: 0.9711\n",
            "Best epoch: 19\n",
            "Epoch 1/22\n",
            "469/469 [==============================] - 2s 3ms/step - loss: 0.4352 - accuracy: 0.8830\n",
            "Epoch 2/22\n",
            "469/469 [==============================] - 1s 3ms/step - loss: 0.2302 - accuracy: 0.9355\n",
            "Epoch 3/22\n",
            "469/469 [==============================] - 1s 3ms/step - loss: 0.1804 - accuracy: 0.9490\n",
            "Epoch 4/22\n",
            "469/469 [==============================] - 1s 3ms/step - loss: 0.1495 - accuracy: 0.9575\n",
            "Epoch 5/22\n",
            "469/469 [==============================] - 1s 3ms/step - loss: 0.1285 - accuracy: 0.9636\n",
            "Epoch 6/22\n",
            "469/469 [==============================] - 1s 3ms/step - loss: 0.1127 - accuracy: 0.9674\n",
            "Epoch 7/22\n",
            "469/469 [==============================] - 1s 3ms/step - loss: 0.1012 - accuracy: 0.9707\n",
            "Epoch 8/22\n",
            "469/469 [==============================] - 2s 3ms/step - loss: 0.0912 - accuracy: 0.9734\n",
            "Epoch 9/22\n",
            "469/469 [==============================] - 2s 4ms/step - loss: 0.0838 - accuracy: 0.9758\n",
            "Epoch 10/22\n",
            "469/469 [==============================] - 1s 3ms/step - loss: 0.0769 - accuracy: 0.9779\n",
            "Epoch 11/22\n",
            "469/469 [==============================] - 1s 3ms/step - loss: 0.0713 - accuracy: 0.9795\n",
            "Epoch 12/22\n",
            "469/469 [==============================] - 1s 3ms/step - loss: 0.0665 - accuracy: 0.9809\n",
            "Epoch 13/22\n",
            "469/469 [==============================] - 1s 3ms/step - loss: 0.0617 - accuracy: 0.9821\n",
            "Epoch 14/22\n",
            "469/469 [==============================] - 1s 3ms/step - loss: 0.0577 - accuracy: 0.9835\n",
            "Epoch 15/22\n",
            "469/469 [==============================] - 1s 3ms/step - loss: 0.0544 - accuracy: 0.9842\n",
            "Epoch 16/22\n",
            "469/469 [==============================] - 1s 3ms/step - loss: 0.0519 - accuracy: 0.9851\n",
            "Epoch 17/22\n",
            "469/469 [==============================] - 1s 3ms/step - loss: 0.0487 - accuracy: 0.9862\n",
            "Epoch 18/22\n",
            "469/469 [==============================] - 2s 4ms/step - loss: 0.0461 - accuracy: 0.9867\n",
            "Epoch 19/22\n",
            "469/469 [==============================] - 1s 3ms/step - loss: 0.0430 - accuracy: 0.9876\n",
            "Epoch 20/22\n",
            "469/469 [==============================] - 1s 3ms/step - loss: 0.0411 - accuracy: 0.9887\n",
            "Epoch 21/22\n",
            "469/469 [==============================] - 1s 3ms/step - loss: 0.0390 - accuracy: 0.9890\n",
            "Epoch 22/22\n",
            "469/469 [==============================] - 1s 3ms/step - loss: 0.0374 - accuracy: 0.9894\n",
            "\n",
            "\n",
            "### Evaluate ###\n",
            "\n",
            "313/313 [==============================] - 1s 2ms/step - loss: 0.0957 - accuracy: 0.9718\n",
            "[0.09570363163948059, 0.9718000292778015]\n",
            "### ### ### ###\n"
          ]
        }
      ]
    }
  ]
}