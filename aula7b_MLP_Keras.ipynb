{
  "nbformat": 4,
  "nbformat_minor": 0,
  "metadata": {
    "colab": {
      "provenance": [],
      "authorship_tag": "ABX9TyNBonB/CvA5pEVsbocOlWAH",
      "include_colab_link": true
    },
    "kernelspec": {
      "name": "python3",
      "display_name": "Python 3"
    },
    "language_info": {
      "name": "python"
    }
  },
  "cells": [
    {
      "cell_type": "markdown",
      "metadata": {
        "id": "view-in-github",
        "colab_type": "text"
      },
      "source": [
        "<a href=\"https://colab.research.google.com/github/fboldt/aulasann/blob/main/aula7b_MLP_Keras.ipynb\" target=\"_parent\"><img src=\"https://colab.research.google.com/assets/colab-badge.svg\" alt=\"Open In Colab\"/></a>"
      ]
    },
    {
      "cell_type": "code",
      "source": [
        "import numpy as np\n",
        "from sklearn.datasets import make_blobs\n",
        "import matplotlib.pyplot as plt\n",
        "\n",
        "def criaDataset(n=100, centros=3):\n",
        "  X, y = make_blobs(n_samples=n, centers=centros, cluster_std=0.2)\n",
        "  return X, y\n",
        "\n",
        "def plotDataset(X, y):\n",
        "  plt.xlabel(\"x1\")\n",
        "  plt.ylabel(\"x2\")\n",
        "  for k in set(y):\n",
        "    plt.plot(X[:,0][y==k],X[:,1][y==k], \"o\", alpha=0.3)\n"
      ],
      "metadata": {
        "id": "PPW0l2NxpdFU"
      },
      "execution_count": 98,
      "outputs": []
    },
    {
      "cell_type": "code",
      "source": [
        "from sklearn.base import BaseEstimator, ClassifierMixin\n",
        "from sklearn.metrics import accuracy_score\n",
        "\n",
        "def include_bias(X):\n",
        "  bias = np.ones((X.shape[0], 1))\n",
        "  Xb = np.concatenate((bias, X), axis=1)\n",
        "  return Xb\n",
        "\n",
        "def defineAxes(X):\n",
        "    offset = 0.5\n",
        "    min1, max1 = X[:, 0].min(), X[:, 0].max()\n",
        "    min2, max2 = X[:, 1].min(), X[:, 1].max()\n",
        "    return [min1-offset, max1+offset, min2-offset, max2+offset]\n",
        "\n",
        "def plotPredictions(clf, X):\n",
        "    axes = defineAxes(X)\n",
        "    x0s = np.linspace(axes[0], axes[1], 100)\n",
        "    x1s = np.linspace(axes[2], axes[3], 100)\n",
        "    x0, x1 = np.meshgrid(x0s, x1s)\n",
        "    X = np.c_[x0.ravel(), x1.ravel()]\n",
        "    y_pred = clf.predict(X).reshape(x0.shape)\n",
        "    plt.contourf(x0, x1, y_pred, cmap=plt.cm.brg, alpha=0.2)"
      ],
      "metadata": {
        "id": "4sZEwaLLreaD"
      },
      "execution_count": 95,
      "outputs": []
    },
    {
      "cell_type": "code",
      "source": [
        "from sklearn.neural_network import MLPClassifier\n",
        "from sklearn.model_selection import cross_validate\n",
        "\n",
        "X, y = criaDataset(centros=15)\n",
        "clf = MLPClassifier(max_iter=1000)\n",
        "clf.fit(X, y), accuracy_score(clf.predict(X), y), cross_validate(clf, X, y)"
      ],
      "metadata": {
        "colab": {
          "base_uri": "https://localhost:8080/"
        },
        "id": "Z7CMtEiPK0Cp",
        "outputId": "79d32b79-3343-4d42-bb2e-4dd11087c264"
      },
      "execution_count": 124,
      "outputs": [
        {
          "output_type": "stream",
          "name": "stderr",
          "text": [
            "/usr/local/lib/python3.10/dist-packages/sklearn/neural_network/_multilayer_perceptron.py:686: ConvergenceWarning: Stochastic Optimizer: Maximum iterations (1000) reached and the optimization hasn't converged yet.\n",
            "  warnings.warn(\n",
            "/usr/local/lib/python3.10/dist-packages/sklearn/neural_network/_multilayer_perceptron.py:686: ConvergenceWarning: Stochastic Optimizer: Maximum iterations (1000) reached and the optimization hasn't converged yet.\n",
            "  warnings.warn(\n",
            "/usr/local/lib/python3.10/dist-packages/sklearn/neural_network/_multilayer_perceptron.py:686: ConvergenceWarning: Stochastic Optimizer: Maximum iterations (1000) reached and the optimization hasn't converged yet.\n",
            "  warnings.warn(\n",
            "/usr/local/lib/python3.10/dist-packages/sklearn/neural_network/_multilayer_perceptron.py:686: ConvergenceWarning: Stochastic Optimizer: Maximum iterations (1000) reached and the optimization hasn't converged yet.\n",
            "  warnings.warn(\n",
            "/usr/local/lib/python3.10/dist-packages/sklearn/neural_network/_multilayer_perceptron.py:686: ConvergenceWarning: Stochastic Optimizer: Maximum iterations (1000) reached and the optimization hasn't converged yet.\n",
            "  warnings.warn(\n",
            "/usr/local/lib/python3.10/dist-packages/sklearn/neural_network/_multilayer_perceptron.py:686: ConvergenceWarning: Stochastic Optimizer: Maximum iterations (1000) reached and the optimization hasn't converged yet.\n",
            "  warnings.warn(\n"
          ]
        },
        {
          "output_type": "execute_result",
          "data": {
            "text/plain": [
              "(MLPClassifier(max_iter=1000),\n",
              " 1.0,\n",
              " {'fit_time': array([1.06208181, 1.01895475, 1.87132144, 1.02104092, 1.78157187]),\n",
              "  'score_time': array([0.00120211, 0.00218391, 0.00150251, 0.00172925, 0.00110173]),\n",
              "  'test_score': array([1.  , 1.  , 0.95, 1.  , 1.  ])})"
            ]
          },
          "metadata": {},
          "execution_count": 124
        }
      ]
    },
    {
      "cell_type": "code",
      "source": [
        "from sklearn.preprocessing import label_binarize\n",
        "from sklearn.base import BaseEstimator, ClassifierMixin\n",
        "from tensorflow import keras\n",
        "\n",
        "class MLPKeras(BaseEstimator, ClassifierMixin):\n",
        "  def __init__(self, max_iter=1000, n_hidden=[100]):\n",
        "    self.max_iter = max_iter\n",
        "    self.n_hidden = n_hidden\n",
        "\n",
        "  def fit(self, X, y):\n",
        "    self.labels, ids = np.unique(y, return_inverse=True)\n",
        "    yhot = keras.utils.to_categorical(ids)\n",
        "    self.model = keras.models.Sequential()\n",
        "    self.model.add(keras.layers.InputLayer(input_shape=(X.shape[1],)))\n",
        "    for h in self.n_hidden:\n",
        "      self.model.add(keras.layers.Dense(h, activation='relu'))\n",
        "    self.model.add(keras.layers.Dense(yhot.shape[1]))\n",
        "    self.model.add(keras.layers.Activation('softmax'))\n",
        "    self.model.compile(loss='categorical_crossentropy')\n",
        "    self.model.fit(X, yhot, epochs=self.max_iter, verbose=0)\n",
        "    return self\n",
        "\n",
        "  def predict_proba(self, X):\n",
        "    return self.model.predict(X)\n",
        "\n",
        "  def predict(self, X):\n",
        "    predictions = self.predict_proba(X)\n",
        "    ypred = self.labels[np.argmax(predictions, axis=1)]\n",
        "    return ypred\n",
        "\n",
        "# X, y = criaDataset(centros=5)\n",
        "clf = MLPKeras()\n",
        "clf.fit(X, y)\n",
        "plotDataset(X, y)\n",
        "plotPredictions(clf, X)\n",
        "ypred = clf.predict(X)\n",
        "accuracy_score(y, ypred)"
      ],
      "metadata": {
        "colab": {
          "base_uri": "https://localhost:8080/",
          "height": 503
        },
        "id": "NzHeftfXz6eK",
        "outputId": "ef998a47-eab0-45d5-a0df-301d4920a88d"
      },
      "execution_count": 125,
      "outputs": [
        {
          "output_type": "stream",
          "name": "stdout",
          "text": [
            "313/313 [==============================] - 0s 1ms/step\n",
            "4/4 [==============================] - 0s 3ms/step\n"
          ]
        },
        {
          "output_type": "execute_result",
          "data": {
            "text/plain": [
              "1.0"
            ]
          },
          "metadata": {},
          "execution_count": 125
        },
        {
          "output_type": "display_data",
          "data": {
            "text/plain": [
              "<Figure size 640x480 with 1 Axes>"
            ],
            "image/png": "[encoded data removed]"
          },
          "metadata": {}
        }
      ]
    },
    {
      "cell_type": "code",
      "source": [
        "clf.fit(X, y), accuracy_score(clf.predict(X), y), cross_validate(clf, X, y)"
      ],
      "metadata": {
        "colab": {
          "base_uri": "https://localhost:8080/"
        },
        "id": "1d95a67w8gXM",
        "outputId": "cebf4aef-0ba8-434e-da8f-bb0a324b09c3"
      },
      "execution_count": 126,
      "outputs": [
        {
          "output_type": "stream",
          "name": "stdout",
          "text": [
            "4/4 [==============================] - 0s 3ms/step\n",
            "1/1 [==============================] - 0s 53ms/step\n",
            "1/1 [==============================] - 0s 70ms/step\n",
            "1/1 [==============================] - 0s 70ms/step\n",
            "1/1 [==============================] - 0s 50ms/step\n",
            "1/1 [==============================] - 0s 54ms/step\n"
          ]
        },
        {
          "output_type": "execute_result",
          "data": {
            "text/plain": [
              "(MLPKeras(),\n",
              " 1.0,\n",
              " {'fit_time': array([ 9.09130239,  6.34726739, 10.92916751,  7.7405386 , 10.72500992]),\n",
              "  'score_time': array([0.11483812, 0.15532017, 0.15310764, 0.10154271, 0.12326622]),\n",
              "  'test_score': array([1.  , 1.  , 0.95, 1.  , 1.  ])})"
            ]
          },
          "metadata": {},
          "execution_count": 126
        }
      ]
    }
  ]
}