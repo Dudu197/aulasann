{
  "nbformat": 4,
  "nbformat_minor": 0,
  "metadata": {
    "colab": {
      "provenance": [],
      "authorship_tag": "ABX9TyOE89NOhRRoO44DY7/rCz9q",
      "include_colab_link": true
    },
    "kernelspec": {
      "name": "python3",
      "display_name": "Python 3"
    },
    "language_info": {
      "name": "python"
    }
  },
  "cells": [
    {
      "cell_type": "markdown",
      "metadata": {
        "id": "view-in-github",
        "colab_type": "text"
      },
      "source": [
        "<a href=\"https://colab.research.google.com/github/fboldt/aulasann/blob/main/aula7c_MLP_reuters.ipynb\" target=\"_parent\"><img src=\"https://colab.research.google.com/assets/colab-badge.svg\" alt=\"Open In Colab\"/></a>"
      ]
    },
    {
      "cell_type": "code",
      "source": [
        "from tensorflow.keras.datasets import reuters\n",
        "(train_data, train_labels), (test_data, test_labels) = reuters.load_data(num_words=10000)\n",
        "train_data.shape, test_data.shape"
      ],
      "metadata": {
        "colab": {
          "base_uri": "https://localhost:8080/"
        },
        "id": "5YQTUjaTBckp",
        "outputId": "2e22165c-7d53-47ef-e50b-2e8dcb9f6106"
      },
      "execution_count": 127,
      "outputs": [
        {
          "output_type": "stream",
          "name": "stdout",
          "text": [
            "Downloading data from https://storage.googleapis.com/tensorflow/tf-keras-datasets/reuters.npz\n",
            "2110848/2110848 [==============================] - 0s 0us/step\n"
          ]
        },
        {
          "output_type": "execute_result",
          "data": {
            "text/plain": [
              "((8982,), (2246,))"
            ]
          },
          "metadata": {},
          "execution_count": 127
        }
      ]
    },
    {
      "cell_type": "code",
      "source": [
        "train_data[0:1]"
      ],
      "metadata": {
        "colab": {
          "base_uri": "https://localhost:8080/"
        },
        "id": "n5qihvbzDU6N",
        "outputId": "563f2e4b-d786-427f-9d53-9e18d87d1a82"
      },
      "execution_count": 130,
      "outputs": [
        {
          "output_type": "execute_result",
          "data": {
            "text/plain": [
              "array([list([1, 2, 2, 8, 43, 10, 447, 5, 25, 207, 270, 5, 3095, 111, 16, 369, 186, 90, 67, 7, 89, 5, 19, 102, 6, 19, 124, 15, 90, 67, 84, 22, 482, 26, 7, 48, 4, 49, 8, 864, 39, 209, 154, 6, 151, 6, 83, 11, 15, 22, 155, 11, 15, 7, 48, 9, 4579, 1005, 504, 6, 258, 6, 272, 11, 15, 22, 134, 44, 11, 15, 16, 8, 197, 1245, 90, 67, 52, 29, 209, 30, 32, 132, 6, 109, 15, 17, 12])],\n",
              "      dtype=object)"
            ]
          },
          "metadata": {},
          "execution_count": 130
        }
      ]
    },
    {
      "cell_type": "code",
      "source": [
        "len(train_data[0]),len(train_data[1])"
      ],
      "metadata": {
        "colab": {
          "base_uri": "https://localhost:8080/"
        },
        "id": "oc8ex2FoFjgf",
        "outputId": "2632cec3-6b6a-4bd6-d217-69cf7e9c031e"
      },
      "execution_count": 135,
      "outputs": [
        {
          "output_type": "execute_result",
          "data": {
            "text/plain": [
              "(87, 56)"
            ]
          },
          "metadata": {},
          "execution_count": 135
        }
      ]
    },
    {
      "cell_type": "code",
      "source": [
        "train_labels[0:10]"
      ],
      "metadata": {
        "colab": {
          "base_uri": "https://localhost:8080/"
        },
        "id": "XpzkQB4fD7co",
        "outputId": "7bc10523-c005-41f9-a18a-bb34c3db6527"
      },
      "execution_count": 132,
      "outputs": [
        {
          "output_type": "execute_result",
          "data": {
            "text/plain": [
              "array([ 3,  4,  3,  4,  4,  4,  4,  3,  3, 16])"
            ]
          },
          "metadata": {},
          "execution_count": 132
        }
      ]
    },
    {
      "cell_type": "code",
      "source": [
        "def decode_words(word_index, sentence):\n",
        "  reverse_word_index = dict(\n",
        "      [(value, key) for (key, value) in word_index.items()]\n",
        "  )\n",
        "  return \" \".join(\n",
        "      [reverse_word_index.get(i-3, \"?\") for i in sentence]\n",
        "  )\n",
        "decode_words(reuters.get_word_index(), train_data[0])"
      ],
      "metadata": {
        "colab": {
          "base_uri": "https://localhost:8080/",
          "height": 125
        },
        "id": "5yVXjItuEPxF",
        "outputId": "3544dc30-89e2-42ae-c022-32db2b3f5a90"
      },
      "execution_count": 133,
      "outputs": [
        {
          "output_type": "stream",
          "name": "stdout",
          "text": [
            "Downloading data from https://storage.googleapis.com/tensorflow/tf-keras-datasets/reuters_word_index.json\n",
            "550378/550378 [==============================] - 0s 0us/step\n"
          ]
        },
        {
          "output_type": "execute_result",
          "data": {
            "text/plain": [
              "'? ? ? said as a result of its december acquisition of space co it expects earnings per share in 1987 of 1 15 to 1 30 dlrs per share up from 70 cts in 1986 the company said pretax net should rise to nine to 10 mln dlrs from six mln dlrs in 1986 and rental operation revenues to 19 to 22 mln dlrs from 12 5 mln dlrs it said cash flow per share this year should be 2 50 to three dlrs reuter 3'"
            ],
            "application/vnd.google.colaboratory.intrinsic+json": {
              "type": "string"
            }
          },
          "metadata": {},
          "execution_count": 133
        }
      ]
    },
    {
      "cell_type": "code",
      "source": [
        "import numpy as np\n",
        "def vectorize_sequences(sequences, dimension=10000):\n",
        "  results = np.zeros((len(sequences), dimension))\n",
        "  for i, sequence in enumerate(sequences):\n",
        "    for j in sequence:\n",
        "      results[i, j] = 1\n",
        "  return results\n",
        "x_train = vectorize_sequences(train_data)\n",
        "x_test = vectorize_sequences(test_data)\n",
        "x_train.shape, x_test.shape, x_train[:3, :32]"
      ],
      "metadata": {
        "colab": {
          "base_uri": "https://localhost:8080/"
        },
        "id": "-iNugiSDFPMD",
        "outputId": "69749249-f9e4-4871-a850-eaba61eae29d"
      },
      "execution_count": 137,
      "outputs": [
        {
          "output_type": "execute_result",
          "data": {
            "text/plain": [
              "((8982, 10000),\n",
              " (2246, 10000),\n",
              " array([[0., 1., 1., 0., 1., 1., 1., 1., 1., 1., 1., 1., 1., 0., 0., 1.,\n",
              "         1., 1., 0., 1., 0., 0., 1., 0., 0., 1., 1., 0., 0., 1., 1., 0.],\n",
              "        [0., 1., 1., 0., 1., 1., 0., 1., 1., 1., 1., 0., 1., 0., 0., 0.,\n",
              "         1., 1., 0., 0., 1., 0., 0., 0., 0., 0., 0., 0., 0., 0., 0., 0.],\n",
              "        [0., 1., 1., 0., 1., 1., 0., 1., 0., 1., 0., 1., 1., 1., 1., 1.,\n",
              "         0., 1., 1., 1., 0., 0., 0., 0., 0., 0., 1., 0., 0., 1., 0., 0.]]))"
            ]
          },
          "metadata": {},
          "execution_count": 137
        }
      ]
    },
    {
      "cell_type": "code",
      "source": [
        "from keras.preprocessing.text import Tokenizer\n",
        "tokenizer = Tokenizer(num_words=10000)\n",
        "x_train = tokenizer.sequences_to_matrix(train_data)\n",
        "x_test = tokenizer.sequences_to_matrix(test_data)\n",
        "x_train.shape, x_test.shape, x_train[:3, :32]"
      ],
      "metadata": {
        "colab": {
          "base_uri": "https://localhost:8080/"
        },
        "id": "NkQaFaiKH6RM",
        "outputId": "28cffc1e-4f0f-474a-8c98-986621fd2047"
      },
      "execution_count": 141,
      "outputs": [
        {
          "output_type": "execute_result",
          "data": {
            "text/plain": [
              "((8982, 10000),\n",
              " (2246, 10000),\n",
              " array([[0., 1., 1., 0., 1., 1., 1., 1., 1., 1., 1., 1., 1., 0., 0., 1.,\n",
              "         1., 1., 0., 1., 0., 0., 1., 0., 0., 1., 1., 0., 0., 1., 1., 0.],\n",
              "        [0., 1., 1., 0., 1., 1., 0., 1., 1., 1., 1., 0., 1., 0., 0., 0.,\n",
              "         1., 1., 0., 0., 1., 0., 0., 0., 0., 0., 0., 0., 0., 0., 0., 0.],\n",
              "        [0., 1., 1., 0., 1., 1., 0., 1., 0., 1., 0., 1., 1., 1., 1., 1.,\n",
              "         0., 1., 1., 1., 0., 0., 0., 0., 0., 0., 1., 0., 0., 1., 0., 0.]]))"
            ]
          },
          "metadata": {},
          "execution_count": 141
        }
      ]
    },
    {
      "cell_type": "code",
      "source": [
        "from tensorflow.keras.utils import to_categorical\n",
        "y_train = to_categorical(train_labels)\n",
        "y_test = to_categorical(test_labels)\n",
        "y_train.shape, y_test.shape"
      ],
      "metadata": {
        "colab": {
          "base_uri": "https://localhost:8080/"
        },
        "id": "BgM3t_W9IYU-",
        "outputId": "dff4e239-b659-459a-8247-788b1225108a"
      },
      "execution_count": 142,
      "outputs": [
        {
          "output_type": "execute_result",
          "data": {
            "text/plain": [
              "((8982, 46), (2246, 46))"
            ]
          },
          "metadata": {},
          "execution_count": 142
        }
      ]
    },
    {
      "cell_type": "code",
      "source": [
        "from tensorflow import keras\n",
        "from tensorflow.keras import layers\n",
        "\n",
        "model = keras.Sequential([\n",
        "    layers.Dense(64, activation='relu'),\n",
        "    layers.Dense(64, activation='relu'),\n",
        "    layers.Dense(46, activation='softmax'),\n",
        "])\n",
        "model.compile(optimizer=\"rmsprop\",\n",
        "              loss=\"categorical_crossentropy\",\n",
        "              metrics=[\"accuracy\"])"
      ],
      "metadata": {
        "id": "UDJgnysXJA8U"
      },
      "execution_count": 144,
      "outputs": []
    },
    {
      "cell_type": "code",
      "source": [
        "n_val = 1000\n",
        "x_val = x_train[:n_val]\n",
        "partial_x_train = x_train[n_val:]\n",
        "y_val = y_train[:n_val]\n",
        "partial_y_train = y_train[n_val:]"
      ],
      "metadata": {
        "id": "P9HTWMRaKTSa"
      },
      "execution_count": 145,
      "outputs": []
    },
    {
      "cell_type": "code",
      "source": [
        "history = model.fit(partial_x_train, partial_y_train,\n",
        "                    epochs=20, batch_size=512,\n",
        "                    validation_data=(x_val, y_val))"
      ],
      "metadata": {
        "colab": {
          "base_uri": "https://localhost:8080/"
        },
        "id": "JDRZWd8xKt_L",
        "outputId": "73408c1f-1b27-4273-bab3-ba4edd4eeb25"
      },
      "execution_count": 146,
      "outputs": [
        {
          "output_type": "stream",
          "name": "stdout",
          "text": [
            "Epoch 1/20\n",
            "16/16 [==============================] - 2s 69ms/step - loss: 2.7645 - accuracy: 0.4391 - val_loss: 1.8741 - val_accuracy: 0.6050\n",
            "Epoch 2/20\n",
            "16/16 [==============================] - 1s 66ms/step - loss: 1.5928 - accuracy: 0.6745 - val_loss: 1.4224 - val_accuracy: 0.6880\n",
            "Epoch 3/20\n",
            "16/16 [==============================] - 1s 78ms/step - loss: 1.2255 - accuracy: 0.7398 - val_loss: 1.2286 - val_accuracy: 0.7330\n",
            "Epoch 4/20\n",
            "16/16 [==============================] - 1s 65ms/step - loss: 1.0007 - accuracy: 0.7904 - val_loss: 1.1031 - val_accuracy: 0.7650\n",
            "Epoch 5/20\n",
            "16/16 [==============================] - 1s 45ms/step - loss: 0.8313 - accuracy: 0.8231 - val_loss: 1.0299 - val_accuracy: 0.7830\n",
            "Epoch 6/20\n",
            "16/16 [==============================] - 1s 45ms/step - loss: 0.6911 - accuracy: 0.8524 - val_loss: 0.9677 - val_accuracy: 0.8010\n",
            "Epoch 7/20\n",
            "16/16 [==============================] - 1s 46ms/step - loss: 0.5787 - accuracy: 0.8760 - val_loss: 0.9269 - val_accuracy: 0.8110\n",
            "Epoch 8/20\n",
            "16/16 [==============================] - 1s 47ms/step - loss: 0.4868 - accuracy: 0.8969 - val_loss: 0.9086 - val_accuracy: 0.8060\n",
            "Epoch 9/20\n",
            "16/16 [==============================] - 1s 46ms/step - loss: 0.4112 - accuracy: 0.9138 - val_loss: 0.8809 - val_accuracy: 0.8210\n",
            "Epoch 10/20\n",
            "16/16 [==============================] - 1s 46ms/step - loss: 0.3512 - accuracy: 0.9235 - val_loss: 0.8675 - val_accuracy: 0.8310\n",
            "Epoch 11/20\n",
            "16/16 [==============================] - 1s 44ms/step - loss: 0.3014 - accuracy: 0.9356 - val_loss: 0.8705 - val_accuracy: 0.8200\n",
            "Epoch 12/20\n",
            "16/16 [==============================] - 1s 46ms/step - loss: 0.2710 - accuracy: 0.9391 - val_loss: 0.8686 - val_accuracy: 0.8330\n",
            "Epoch 13/20\n",
            "16/16 [==============================] - 1s 47ms/step - loss: 0.2338 - accuracy: 0.9456 - val_loss: 0.8794 - val_accuracy: 0.8170\n",
            "Epoch 14/20\n",
            "16/16 [==============================] - 1s 47ms/step - loss: 0.2147 - accuracy: 0.9481 - val_loss: 0.9196 - val_accuracy: 0.8050\n",
            "Epoch 15/20\n",
            "16/16 [==============================] - 1s 45ms/step - loss: 0.1910 - accuracy: 0.9520 - val_loss: 0.8836 - val_accuracy: 0.8200\n",
            "Epoch 16/20\n",
            "16/16 [==============================] - 1s 47ms/step - loss: 0.1705 - accuracy: 0.9534 - val_loss: 0.9105 - val_accuracy: 0.8140\n",
            "Epoch 17/20\n",
            "16/16 [==============================] - 1s 47ms/step - loss: 0.1638 - accuracy: 0.9555 - val_loss: 0.8989 - val_accuracy: 0.8220\n",
            "Epoch 18/20\n",
            "16/16 [==============================] - 1s 77ms/step - loss: 0.1512 - accuracy: 0.9574 - val_loss: 0.9245 - val_accuracy: 0.8250\n",
            "Epoch 19/20\n",
            "16/16 [==============================] - 1s 83ms/step - loss: 0.1425 - accuracy: 0.9572 - val_loss: 0.9498 - val_accuracy: 0.8070\n",
            "Epoch 20/20\n",
            "16/16 [==============================] - 1s 47ms/step - loss: 0.1398 - accuracy: 0.9544 - val_loss: 0.9620 - val_accuracy: 0.8100\n"
          ]
        }
      ]
    },
    {
      "cell_type": "code",
      "source": [
        "import matplotlib.pyplot as plt\n",
        "history_dict = history.history\n",
        "loss_values = history_dict[\"loss\"]\n",
        "val_loss_values = history_dict[\"val_loss\"]\n",
        "epochs = range(1, len(loss_values)+1)\n",
        "plt.plot(epochs, loss_values, \"bo\", label=\"Training loss\")\n",
        "plt.plot(epochs, val_loss_values, \"b\", label=\"Validation loss\")\n",
        "plt.title(\"Training and validation loss\")\n",
        "plt.xlabel(\"Epochs\")\n",
        "plt.ylabel(\"Loss\")\n",
        "plt.legend()\n",
        "plt.show()"
      ],
      "metadata": {
        "colab": {
          "base_uri": "https://localhost:8080/",
          "height": 472
        },
        "id": "dsegEFv_MChC",
        "outputId": "af46f80a-ce55-4ae2-e5ce-b8c35364971d"
      },
      "execution_count": 148,
      "outputs": [
        {
          "output_type": "display_data",
          "data": {
            "text/plain": [
              "<Figure size 640x480 with 1 Axes>"
            ],
            "image/png": "[encoded data removed]"
          },
          "metadata": {}
        }
      ]
    },
    {
      "cell_type": "code",
      "source": [
        "import matplotlib.pyplot as plt\n",
        "history_dict = history.history\n",
        "accuracy_values = history_dict[\"accuracy\"]\n",
        "val_accuracy_values = history_dict[\"val_accuracy\"]\n",
        "epochs = range(1, len(accuracy_values)+1)\n",
        "plt.plot(epochs, accuracy_values, \"bo\", label=\"Training accuracy\")\n",
        "plt.plot(epochs, val_accuracy_values, \"b\", label=\"Validation accuracy\")\n",
        "plt.title(\"Training and validation accuracy\")\n",
        "plt.xlabel(\"Epochs\")\n",
        "plt.ylabel(\"accuracy\")\n",
        "plt.legend()\n",
        "plt.show()"
      ],
      "metadata": {
        "colab": {
          "base_uri": "https://localhost:8080/",
          "height": 472
        },
        "id": "CQlQfU9yNQCW",
        "outputId": "d2236b28-92f2-4cee-f23a-1e738e0f5606"
      },
      "execution_count": 149,
      "outputs": [
        {
          "output_type": "display_data",
          "data": {
            "text/plain": [
              "<Figure size 640x480 with 1 Axes>"
            ],
            "image/png": "[encoded data removed]"
          },
          "metadata": {}
        }
      ]
    },
    {
      "cell_type": "code",
      "source": [
        "model = keras.Sequential([\n",
        "    layers.Dense(64, activation='relu'),\n",
        "    layers.Dense(64, activation='relu'),\n",
        "    layers.Dense(46, activation='softmax'),\n",
        "])\n",
        "model.compile(optimizer=\"rmsprop\",\n",
        "              loss=\"categorical_crossentropy\",\n",
        "              metrics=[\"accuracy\"])\n",
        "\n",
        "history = model.fit(partial_x_train, partial_y_train,\n",
        "                    epochs=10, batch_size=512,\n",
        "                    validation_data=(x_val, y_val))"
      ],
      "metadata": {
        "colab": {
          "base_uri": "https://localhost:8080/"
        },
        "id": "yZk_FlcuNuuA",
        "outputId": "5a4d7289-479c-402c-eb4c-991683189bc4"
      },
      "execution_count": 150,
      "outputs": [
        {
          "output_type": "stream",
          "name": "stdout",
          "text": [
            "Epoch 1/10\n",
            "16/16 [==============================] - 2s 81ms/step - loss: 2.6842 - accuracy: 0.4687 - val_loss: 1.8503 - val_accuracy: 0.5920\n",
            "Epoch 2/10\n",
            "16/16 [==============================] - 1s 52ms/step - loss: 1.5592 - accuracy: 0.6614 - val_loss: 1.3846 - val_accuracy: 0.7020\n",
            "Epoch 3/10\n",
            "16/16 [==============================] - 1s 55ms/step - loss: 1.1987 - accuracy: 0.7420 - val_loss: 1.1977 - val_accuracy: 0.7290\n",
            "Epoch 4/10\n",
            "16/16 [==============================] - 1s 57ms/step - loss: 0.9824 - accuracy: 0.7849 - val_loss: 1.0885 - val_accuracy: 0.7550\n",
            "Epoch 5/10\n",
            "16/16 [==============================] - 1s 80ms/step - loss: 0.8210 - accuracy: 0.8193 - val_loss: 1.0212 - val_accuracy: 0.7780\n",
            "Epoch 6/10\n",
            "16/16 [==============================] - 1s 69ms/step - loss: 0.6956 - accuracy: 0.8524 - val_loss: 0.9625 - val_accuracy: 0.7910\n",
            "Epoch 7/10\n",
            "16/16 [==============================] - 1s 45ms/step - loss: 0.5839 - accuracy: 0.8756 - val_loss: 0.9273 - val_accuracy: 0.8030\n",
            "Epoch 8/10\n",
            "16/16 [==============================] - 1s 46ms/step - loss: 0.4965 - accuracy: 0.8931 - val_loss: 0.9159 - val_accuracy: 0.8050\n",
            "Epoch 9/10\n",
            "16/16 [==============================] - 1s 48ms/step - loss: 0.4188 - accuracy: 0.9098 - val_loss: 0.8879 - val_accuracy: 0.8170\n",
            "Epoch 10/10\n",
            "16/16 [==============================] - 1s 46ms/step - loss: 0.3577 - accuracy: 0.9243 - val_loss: 0.9096 - val_accuracy: 0.8030\n"
          ]
        }
      ]
    },
    {
      "cell_type": "code",
      "source": [
        "ypred = model.predict(x_test)\n",
        "ypred"
      ],
      "metadata": {
        "colab": {
          "base_uri": "https://localhost:8080/"
        },
        "id": "XuJvpNjYN5ui",
        "outputId": "2a7191b7-c29c-4293-a173-e431e5e4b9b5"
      },
      "execution_count": 151,
      "outputs": [
        {
          "output_type": "stream",
          "name": "stdout",
          "text": [
            "71/71 [==============================] - 0s 3ms/step\n"
          ]
        },
        {
          "output_type": "execute_result",
          "data": {
            "text/plain": [
              "array([[2.7328285e-06, 2.2464987e-05, 7.7290806e-06, ..., 2.2384340e-05,\n",
              "        3.1649499e-06, 3.3102597e-06],\n",
              "       [2.9831147e-04, 1.2342772e-01, 3.6532976e-02, ..., 7.6120981e-05,\n",
              "        8.4339081e-06, 1.0230936e-04],\n",
              "       [2.9158683e-03, 4.6383256e-01, 1.3335539e-02, ..., 4.3504606e-03,\n",
              "        9.1303384e-04, 3.2695706e-03],\n",
              "       ...,\n",
              "       [1.7814105e-05, 1.8471498e-04, 1.3877233e-04, ..., 9.8597739e-05,\n",
              "        2.2036857e-05, 5.2758405e-05],\n",
              "       [7.9053285e-04, 2.0758457e-02, 1.1508860e-02, ..., 9.2102727e-04,\n",
              "        7.7455380e-04, 1.1164036e-03],\n",
              "       [1.2195004e-03, 5.2947456e-01, 5.9243735e-02, ..., 3.8070683e-04,\n",
              "        3.3710134e-04, 3.4363309e-04]], dtype=float32)"
            ]
          },
          "metadata": {},
          "execution_count": 151
        }
      ]
    },
    {
      "cell_type": "code",
      "source": [
        "ypred[0]"
      ],
      "metadata": {
        "colab": {
          "base_uri": "https://localhost:8080/"
        },
        "id": "Wj1g8XMFOEBQ",
        "outputId": "aeb82ee6-4f13-4042-a759-03de2d9c0dc3"
      },
      "execution_count": 152,
      "outputs": [
        {
          "output_type": "execute_result",
          "data": {
            "text/plain": [
              "array([2.73282853e-06, 2.24649866e-05, 7.72908061e-06, 9.65040863e-01,\n",
              "       3.06799747e-02, 5.18589331e-06, 1.78519876e-05, 3.61920115e-06,\n",
              "       4.19228163e-04, 3.04336004e-06, 4.54040492e-06, 2.04138065e-04,\n",
              "       1.11348563e-05, 2.25021686e-05, 1.77813615e-06, 4.04338534e-05,\n",
              "       7.87698198e-04, 3.91495632e-05, 6.00645180e-05, 3.51795810e-04,\n",
              "       9.18309030e-04, 7.31004984e-05, 2.97051974e-06, 2.57418196e-05,\n",
              "       1.54977297e-05, 3.52158131e-05, 1.05249160e-06, 8.18113494e-06,\n",
              "       1.71427862e-04, 1.72374839e-05, 2.82186170e-06, 1.05547893e-04,\n",
              "       7.53377099e-05, 3.36087105e-05, 1.99101851e-05, 3.51969584e-06,\n",
              "       7.52921114e-05, 1.49248435e-05, 1.11285499e-05, 5.88321127e-04,\n",
              "       4.69397764e-06, 3.43472930e-05, 7.16226077e-06, 2.23843399e-05,\n",
              "       3.16494993e-06, 3.31025967e-06], dtype=float32)"
            ]
          },
          "metadata": {},
          "execution_count": 152
        }
      ]
    },
    {
      "cell_type": "code",
      "source": [
        "np.argmax(ypred[0])"
      ],
      "metadata": {
        "colab": {
          "base_uri": "https://localhost:8080/"
        },
        "id": "sBlbAgOpOIYq",
        "outputId": "582b2304-98ea-43dd-fdc8-6d25511bbb1b"
      },
      "execution_count": 153,
      "outputs": [
        {
          "output_type": "execute_result",
          "data": {
            "text/plain": [
              "3"
            ]
          },
          "metadata": {},
          "execution_count": 153
        }
      ]
    },
    {
      "cell_type": "code",
      "source": [
        "results = model.evaluate(x_test, y_test)"
      ],
      "metadata": {
        "colab": {
          "base_uri": "https://localhost:8080/"
        },
        "id": "veEdlhmrON2M",
        "outputId": "db6cd768-c4f2-4694-d507-7930cd4bc943"
      },
      "execution_count": 154,
      "outputs": [
        {
          "output_type": "stream",
          "name": "stdout",
          "text": [
            "71/71 [==============================] - 0s 3ms/step - loss: 0.9721 - accuracy: 0.7801\n"
          ]
        }
      ]
    },
    {
      "cell_type": "code",
      "source": [
        "results"
      ],
      "metadata": {
        "colab": {
          "base_uri": "https://localhost:8080/"
        },
        "id": "XvgJZxswOYeS",
        "outputId": "1f84a009-0948-47eb-a38f-bc87b022d150"
      },
      "execution_count": 155,
      "outputs": [
        {
          "output_type": "execute_result",
          "data": {
            "text/plain": [
              "[0.9721053838729858, 0.780053436756134]"
            ]
          },
          "metadata": {},
          "execution_count": 155
        }
      ]
    },
    {
      "cell_type": "code",
      "source": [
        "model = keras.Sequential([\n",
        "    layers.Dense(64, activation='relu'),\n",
        "    layers.Dense(46, activation='softmax'),\n",
        "])\n",
        "model.compile(optimizer=\"rmsprop\",\n",
        "              loss=\"categorical_crossentropy\",\n",
        "              metrics=[\"accuracy\"])\n",
        "\n",
        "history = model.fit(partial_x_train, partial_y_train,\n",
        "                    epochs=20, batch_size=512,\n",
        "                    validation_data=(x_val, y_val))"
      ],
      "metadata": {
        "colab": {
          "base_uri": "https://localhost:8080/"
        },
        "id": "qKjmeNfjOkpX",
        "outputId": "b1141195-29ad-4a12-92be-b0f5dcd561e2"
      },
      "execution_count": 156,
      "outputs": [
        {
          "output_type": "stream",
          "name": "stdout",
          "text": [
            "Epoch 1/20\n",
            "16/16 [==============================] - 2s 110ms/step - loss: 2.6403 - accuracy: 0.5170 - val_loss: 1.9041 - val_accuracy: 0.6300\n",
            "Epoch 2/20\n",
            "16/16 [==============================] - 1s 47ms/step - loss: 1.5770 - accuracy: 0.6907 - val_loss: 1.4254 - val_accuracy: 0.7010\n",
            "Epoch 3/20\n",
            "16/16 [==============================] - 1s 47ms/step - loss: 1.1817 - accuracy: 0.7601 - val_loss: 1.1995 - val_accuracy: 0.7500\n",
            "Epoch 4/20\n",
            "16/16 [==============================] - 1s 46ms/step - loss: 0.9500 - accuracy: 0.8059 - val_loss: 1.0648 - val_accuracy: 0.7780\n",
            "Epoch 5/20\n",
            "16/16 [==============================] - 1s 49ms/step - loss: 0.7894 - accuracy: 0.8389 - val_loss: 0.9806 - val_accuracy: 0.8010\n",
            "Epoch 6/20\n",
            "16/16 [==============================] - 1s 45ms/step - loss: 0.6674 - accuracy: 0.8663 - val_loss: 0.9179 - val_accuracy: 0.8120\n",
            "Epoch 7/20\n",
            "16/16 [==============================] - 1s 47ms/step - loss: 0.5709 - accuracy: 0.8854 - val_loss: 0.8772 - val_accuracy: 0.8230\n",
            "Epoch 8/20\n",
            "16/16 [==============================] - 1s 48ms/step - loss: 0.4924 - accuracy: 0.9043 - val_loss: 0.8442 - val_accuracy: 0.8220\n",
            "Epoch 9/20\n",
            "16/16 [==============================] - 1s 48ms/step - loss: 0.4278 - accuracy: 0.9147 - val_loss: 0.8300 - val_accuracy: 0.8190\n",
            "Epoch 10/20\n",
            "16/16 [==============================] - 1s 82ms/step - loss: 0.3742 - accuracy: 0.9241 - val_loss: 0.8153 - val_accuracy: 0.8240\n",
            "Epoch 11/20\n",
            "16/16 [==============================] - 1s 78ms/step - loss: 0.3296 - accuracy: 0.9331 - val_loss: 0.8028 - val_accuracy: 0.8250\n",
            "Epoch 12/20\n",
            "16/16 [==============================] - 1s 48ms/step - loss: 0.2930 - accuracy: 0.9366 - val_loss: 0.8082 - val_accuracy: 0.8180\n",
            "Epoch 13/20\n",
            "16/16 [==============================] - 1s 47ms/step - loss: 0.2622 - accuracy: 0.9417 - val_loss: 0.7887 - val_accuracy: 0.8310\n",
            "Epoch 14/20\n",
            "16/16 [==============================] - 1s 45ms/step - loss: 0.2373 - accuracy: 0.9453 - val_loss: 0.7880 - val_accuracy: 0.8260\n",
            "Epoch 15/20\n",
            "16/16 [==============================] - 1s 47ms/step - loss: 0.2158 - accuracy: 0.9494 - val_loss: 0.7964 - val_accuracy: 0.8280\n",
            "Epoch 16/20\n",
            "16/16 [==============================] - 1s 50ms/step - loss: 0.1981 - accuracy: 0.9500 - val_loss: 0.7980 - val_accuracy: 0.8290\n",
            "Epoch 17/20\n",
            "16/16 [==============================] - 1s 47ms/step - loss: 0.1817 - accuracy: 0.9541 - val_loss: 0.8025 - val_accuracy: 0.8300\n",
            "Epoch 18/20\n",
            "16/16 [==============================] - 1s 48ms/step - loss: 0.1687 - accuracy: 0.9549 - val_loss: 0.8060 - val_accuracy: 0.8300\n",
            "Epoch 19/20\n",
            "16/16 [==============================] - 1s 48ms/step - loss: 0.1601 - accuracy: 0.9559 - val_loss: 0.8051 - val_accuracy: 0.8270\n",
            "Epoch 20/20\n",
            "16/16 [==============================] - 1s 46ms/step - loss: 0.1493 - accuracy: 0.9560 - val_loss: 0.8191 - val_accuracy: 0.8170\n"
          ]
        }
      ]
    },
    {
      "cell_type": "code",
      "source": [
        "model = keras.Sequential([\n",
        "    layers.Dense(100, activation='relu'),\n",
        "    layers.Dense(46, activation='softmax'),\n",
        "])\n",
        "model.compile(optimizer=\"rmsprop\",\n",
        "              loss=\"categorical_crossentropy\",\n",
        "              metrics=[\"accuracy\"])\n",
        "\n",
        "history = model.fit(partial_x_train, partial_y_train,\n",
        "                    epochs=20, batch_size=512,\n",
        "                    validation_data=(x_val, y_val))"
      ],
      "metadata": {
        "colab": {
          "base_uri": "https://localhost:8080/"
        },
        "id": "W1xPLWIPOwkI",
        "outputId": "37d2d04a-303f-4522-c52f-880c00b28d4f"
      },
      "execution_count": 157,
      "outputs": [
        {
          "output_type": "stream",
          "name": "stdout",
          "text": [
            "Epoch 1/20\n",
            "16/16 [==============================] - 2s 75ms/step - loss: 2.5384 - accuracy: 0.5581 - val_loss: 1.7411 - val_accuracy: 0.6610\n",
            "Epoch 2/20\n",
            "16/16 [==============================] - 1s 65ms/step - loss: 1.4296 - accuracy: 0.7229 - val_loss: 1.2879 - val_accuracy: 0.7330\n",
            "Epoch 3/20\n",
            "16/16 [==============================] - 2s 98ms/step - loss: 1.0500 - accuracy: 0.7823 - val_loss: 1.0909 - val_accuracy: 0.7750\n",
            "Epoch 4/20\n",
            "16/16 [==============================] - 2s 98ms/step - loss: 0.8300 - accuracy: 0.8276 - val_loss: 0.9828 - val_accuracy: 0.7960\n",
            "Epoch 5/20\n",
            "16/16 [==============================] - 1s 63ms/step - loss: 0.6717 - accuracy: 0.8671 - val_loss: 0.9105 - val_accuracy: 0.8040\n",
            "Epoch 6/20\n",
            "16/16 [==============================] - 1s 63ms/step - loss: 0.5560 - accuracy: 0.8913 - val_loss: 0.8656 - val_accuracy: 0.8120\n",
            "Epoch 7/20\n",
            "16/16 [==============================] - 1s 62ms/step - loss: 0.4664 - accuracy: 0.9084 - val_loss: 0.8276 - val_accuracy: 0.8210\n",
            "Epoch 8/20\n",
            "16/16 [==============================] - 1s 63ms/step - loss: 0.3959 - accuracy: 0.9206 - val_loss: 0.8084 - val_accuracy: 0.8260\n",
            "Epoch 9/20\n",
            "16/16 [==============================] - 1s 64ms/step - loss: 0.3405 - accuracy: 0.9308 - val_loss: 0.8002 - val_accuracy: 0.8240\n",
            "Epoch 10/20\n",
            "16/16 [==============================] - 1s 63ms/step - loss: 0.2984 - accuracy: 0.9370 - val_loss: 0.7804 - val_accuracy: 0.8350\n",
            "Epoch 11/20\n",
            "16/16 [==============================] - 1s 61ms/step - loss: 0.2616 - accuracy: 0.9429 - val_loss: 0.7843 - val_accuracy: 0.8340\n",
            "Epoch 12/20\n",
            "16/16 [==============================] - 1s 61ms/step - loss: 0.2330 - accuracy: 0.9465 - val_loss: 0.7906 - val_accuracy: 0.8260\n",
            "Epoch 13/20\n",
            "16/16 [==============================] - 1s 62ms/step - loss: 0.2109 - accuracy: 0.9483 - val_loss: 0.7850 - val_accuracy: 0.8280\n",
            "Epoch 14/20\n",
            "16/16 [==============================] - 1s 64ms/step - loss: 0.1920 - accuracy: 0.9508 - val_loss: 0.7799 - val_accuracy: 0.8320\n",
            "Epoch 15/20\n",
            "16/16 [==============================] - 2s 105ms/step - loss: 0.1766 - accuracy: 0.9535 - val_loss: 0.7840 - val_accuracy: 0.8240\n",
            "Epoch 16/20\n",
            "16/16 [==============================] - 1s 81ms/step - loss: 0.1647 - accuracy: 0.9551 - val_loss: 0.7948 - val_accuracy: 0.8310\n",
            "Epoch 17/20\n",
            "16/16 [==============================] - 1s 62ms/step - loss: 0.1517 - accuracy: 0.9554 - val_loss: 0.8123 - val_accuracy: 0.8230\n",
            "Epoch 18/20\n",
            "16/16 [==============================] - 1s 60ms/step - loss: 0.1455 - accuracy: 0.9569 - val_loss: 0.8133 - val_accuracy: 0.8200\n",
            "Epoch 19/20\n",
            "16/16 [==============================] - 1s 60ms/step - loss: 0.1356 - accuracy: 0.9578 - val_loss: 0.8193 - val_accuracy: 0.8280\n",
            "Epoch 20/20\n",
            "16/16 [==============================] - 1s 61ms/step - loss: 0.1321 - accuracy: 0.9579 - val_loss: 0.8209 - val_accuracy: 0.8180\n"
          ]
        }
      ]
    },
    {
      "cell_type": "code",
      "source": [
        "model = keras.Sequential([\n",
        "    layers.Dense(100, activation='relu'),\n",
        "    layers.Dense(46, activation='softmax'),\n",
        "])\n",
        "model.compile(optimizer=\"rmsprop\",\n",
        "              loss=\"categorical_crossentropy\",\n",
        "              metrics=[\"accuracy\"])\n",
        "\n",
        "history = model.fit(partial_x_train, partial_y_train,\n",
        "                    epochs=10, batch_size=512,\n",
        "                    validation_data=(x_val, y_val))\n",
        "results = model.evaluate(x_test, y_test)\n",
        "results"
      ],
      "metadata": {
        "colab": {
          "base_uri": "https://localhost:8080/"
        },
        "id": "oy8DHcrNPItC",
        "outputId": "c784317f-9537-49f8-a790-5d00b9245676"
      },
      "execution_count": 158,
      "outputs": [
        {
          "output_type": "stream",
          "name": "stdout",
          "text": [
            "Epoch 1/10\n",
            "16/16 [==============================] - 2s 88ms/step - loss: 2.4020 - accuracy: 0.5648 - val_loss: 1.6256 - val_accuracy: 0.6650\n",
            "Epoch 2/10\n",
            "16/16 [==============================] - 1s 80ms/step - loss: 1.3401 - accuracy: 0.7333 - val_loss: 1.2309 - val_accuracy: 0.7440\n",
            "Epoch 3/10\n",
            "16/16 [==============================] - 2s 104ms/step - loss: 1.0012 - accuracy: 0.7957 - val_loss: 1.0571 - val_accuracy: 0.7790\n",
            "Epoch 4/10\n",
            "16/16 [==============================] - 1s 67ms/step - loss: 0.7972 - accuracy: 0.8359 - val_loss: 0.9528 - val_accuracy: 0.8040\n",
            "Epoch 5/10\n",
            "16/16 [==============================] - 1s 63ms/step - loss: 0.6498 - accuracy: 0.8670 - val_loss: 0.8925 - val_accuracy: 0.8150\n",
            "Epoch 6/10\n",
            "16/16 [==============================] - 1s 93ms/step - loss: 0.5391 - accuracy: 0.8909 - val_loss: 0.8497 - val_accuracy: 0.8140\n",
            "Epoch 7/10\n",
            "16/16 [==============================] - 2s 98ms/step - loss: 0.4534 - accuracy: 0.9072 - val_loss: 0.8147 - val_accuracy: 0.8230\n",
            "Epoch 8/10\n",
            "16/16 [==============================] - 1s 63ms/step - loss: 0.3852 - accuracy: 0.9211 - val_loss: 0.8058 - val_accuracy: 0.8300\n",
            "Epoch 9/10\n",
            "16/16 [==============================] - 1s 64ms/step - loss: 0.3318 - accuracy: 0.9301 - val_loss: 0.7795 - val_accuracy: 0.8360\n",
            "Epoch 10/10\n",
            "16/16 [==============================] - 1s 61ms/step - loss: 0.2892 - accuracy: 0.9391 - val_loss: 0.7979 - val_accuracy: 0.8250\n",
            "71/71 [==============================] - 0s 4ms/step - loss: 0.8679 - accuracy: 0.8028\n"
          ]
        },
        {
          "output_type": "execute_result",
          "data": {
            "text/plain": [
              "[0.867925763130188, 0.8027604818344116]"
            ]
          },
          "metadata": {},
          "execution_count": 158
        }
      ]
    }
  ]
}