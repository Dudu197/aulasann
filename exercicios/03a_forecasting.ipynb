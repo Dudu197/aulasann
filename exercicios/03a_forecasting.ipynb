{
 "cells": [
  {
   "cell_type": "markdown",
   "metadata": {
    "colab_type": "text",
    "id": "view-in-github"
   },
   "source": [
    "<a href=\"https://colab.research.google.com/github/fboldt/aulasann/blob/main/aula10a_forecasting.ipynb\" target=\"_parent\"><img src=\"https://colab.research.google.com/assets/colab-badge.svg\" alt=\"Open In Colab\"/></a>"
   ]
  },
  {
   "cell_type": "code",
   "execution_count": 1,
   "metadata": {},
   "outputs": [],
   "source": [
    "!mkdir -p datasets\n",
    "!mkdir -p datasets/bitcoin"
   ]
  },
  {
   "cell_type": "code",
   "execution_count": 2,
   "metadata": {},
   "outputs": [
    {
     "name": "stdout",
     "output_type": "stream",
     "text": [
      "--2024-05-19 15:20:02--  https://gist.githubusercontent.com/Dudu197/a9a38c424fd41f82dc27ff34d8ee170f/raw/79927733065e72bbe8ab4d0a7255855e79584ae4/coin_prices.csv\n",
      "Resolving gist.githubusercontent.com (gist.githubusercontent.com)... 185.199.111.133, 185.199.108.133, 185.199.109.133, ...\n",
      "Connecting to gist.githubusercontent.com (gist.githubusercontent.com)|185.199.111.133|:443... connected.\n",
      "HTTP request sent, awaiting response... 200 OK\n",
      "Length: 8883805 (8.5M) [text/plain]\n",
      "Saving to: ‘datasets/bitcoin/coin_prices.csv’\n",
      "\n",
      "coin_prices.csv     100%[===================>]   8.47M  16.5MB/s    in 0.5s    \n",
      "\n",
      "2024-05-19 15:20:04 (16.5 MB/s) - ‘datasets/bitcoin/coin_prices.csv’ saved [8883805/8883805]\n",
      "\n"
     ]
    }
   ],
   "source": [
    "!wget https://gist.githubusercontent.com/Dudu197/a9a38c424fd41f82dc27ff34d8ee170f/raw/79927733065e72bbe8ab4d0a7255855e79584ae4/coin_prices.csv -P datasets/bitcoin"
   ]
  },
  {
   "cell_type": "code",
   "execution_count": 1,
   "metadata": {
    "colab": {
     "base_uri": "https://localhost:8080/"
    },
    "id": "KUxjHcpg3M8V",
    "outputId": "0a0b4f1e-0e1e-4fa1-f034-d640698fbee6"
   },
   "outputs": [
    {
     "name": "stderr",
     "output_type": "stream",
     "text": [
      "2024-05-21 18:39:10.466497: I tensorflow/core/util/port.cc:110] oneDNN custom operations are on. You may see slightly different numerical results due to floating-point round-off errors from different computation orders. To turn them off, set the environment variable `TF_ENABLE_ONEDNN_OPTS=0`.\n",
      "2024-05-21 18:39:10.707568: I tensorflow/core/platform/cpu_feature_guard.cc:182] This TensorFlow binary is optimized to use available CPU instructions in performance-critical operations.\n",
      "To enable the following instructions: AVX2 AVX_VNNI FMA, in other operations, rebuild TensorFlow with the appropriate compiler flags.\n",
      "2024-05-21 18:39:11.337864: W tensorflow/compiler/tf2tensorrt/utils/py_utils.cc:38] TF-TRT Warning: Could not find TensorRT\n"
     ]
    }
   ],
   "source": [
    "import pandas as pd\n",
    "import numpy as np\n",
    "from tensorflow import keras\n",
    "from matplotlib import pyplot as plt"
   ]
  },
  {
   "cell_type": "code",
   "execution_count": 2,
   "metadata": {},
   "outputs": [],
   "source": [
    "df = pd.read_csv(\"datasets/bitcoin/coin_prices.csv\")"
   ]
  },
  {
   "cell_type": "code",
   "execution_count": 3,
   "metadata": {},
   "outputs": [],
   "source": [
    "df = df[df[\"coin\"] == \"BTC\"]"
   ]
  },
  {
   "cell_type": "code",
   "execution_count": 4,
   "metadata": {},
   "outputs": [
    {
     "data": {
      "text/html": [
       "<div>\n",
       "<style scoped>\n",
       "    .dataframe tbody tr th:only-of-type {\n",
       "        vertical-align: middle;\n",
       "    }\n",
       "\n",
       "    .dataframe tbody tr th {\n",
       "        vertical-align: top;\n",
       "    }\n",
       "\n",
       "    .dataframe thead th {\n",
       "        text-align: right;\n",
       "    }\n",
       "</style>\n",
       "<table border=\"1\" class=\"dataframe\">\n",
       "  <thead>\n",
       "    <tr style=\"text-align: right;\">\n",
       "      <th></th>\n",
       "      <th>Unnamed: 0</th>\n",
       "      <th>date</th>\n",
       "      <th>coin</th>\n",
       "      <th>volume</th>\n",
       "      <th>price</th>\n",
       "    </tr>\n",
       "  </thead>\n",
       "  <tbody>\n",
       "    <tr>\n",
       "      <th>53</th>\n",
       "      <td>53</td>\n",
       "      <td>2021-05-13</td>\n",
       "      <td>BTC</td>\n",
       "      <td>7.852778e+10</td>\n",
       "      <td>47884.917106</td>\n",
       "    </tr>\n",
       "    <tr>\n",
       "      <th>154</th>\n",
       "      <td>154</td>\n",
       "      <td>2021-05-14</td>\n",
       "      <td>BTC</td>\n",
       "      <td>9.149487e+10</td>\n",
       "      <td>49997.846250</td>\n",
       "    </tr>\n",
       "    <tr>\n",
       "      <th>253</th>\n",
       "      <td>253</td>\n",
       "      <td>2021-05-15</td>\n",
       "      <td>BTC</td>\n",
       "      <td>5.551275e+10</td>\n",
       "      <td>50189.527235</td>\n",
       "    </tr>\n",
       "    <tr>\n",
       "      <th>353</th>\n",
       "      <td>353</td>\n",
       "      <td>2021-05-16</td>\n",
       "      <td>BTC</td>\n",
       "      <td>5.997922e+10</td>\n",
       "      <td>47480.816852</td>\n",
       "    </tr>\n",
       "    <tr>\n",
       "      <th>453</th>\n",
       "      <td>453</td>\n",
       "      <td>2021-05-17</td>\n",
       "      <td>BTC</td>\n",
       "      <td>6.306813e+10</td>\n",
       "      <td>46211.384370</td>\n",
       "    </tr>\n",
       "    <tr>\n",
       "      <th>...</th>\n",
       "      <td>...</td>\n",
       "      <td>...</td>\n",
       "      <td>...</td>\n",
       "      <td>...</td>\n",
       "      <td>...</td>\n",
       "    </tr>\n",
       "    <tr>\n",
       "      <th>90954</th>\n",
       "      <td>90954</td>\n",
       "      <td>2023-11-09</td>\n",
       "      <td>BTC</td>\n",
       "      <td>1.751828e+10</td>\n",
       "      <td>35661.036826</td>\n",
       "    </tr>\n",
       "    <tr>\n",
       "      <th>91054</th>\n",
       "      <td>91054</td>\n",
       "      <td>2023-11-10</td>\n",
       "      <td>BTC</td>\n",
       "      <td>3.753632e+10</td>\n",
       "      <td>36680.129620</td>\n",
       "    </tr>\n",
       "    <tr>\n",
       "      <th>91155</th>\n",
       "      <td>91155</td>\n",
       "      <td>2023-11-11</td>\n",
       "      <td>BTC</td>\n",
       "      <td>2.254243e+10</td>\n",
       "      <td>37338.914097</td>\n",
       "    </tr>\n",
       "    <tr>\n",
       "      <th>91254</th>\n",
       "      <td>91254</td>\n",
       "      <td>2023-11-12</td>\n",
       "      <td>BTC</td>\n",
       "      <td>1.390765e+10</td>\n",
       "      <td>37135.295578</td>\n",
       "    </tr>\n",
       "    <tr>\n",
       "      <th>91356</th>\n",
       "      <td>91356</td>\n",
       "      <td>2023-11-13</td>\n",
       "      <td>BTC</td>\n",
       "      <td>1.141887e+10</td>\n",
       "      <td>37095.188812</td>\n",
       "    </tr>\n",
       "  </tbody>\n",
       "</table>\n",
       "<p>914 rows × 5 columns</p>\n",
       "</div>"
      ],
      "text/plain": [
       "       Unnamed: 0        date coin        volume         price\n",
       "53             53  2021-05-13  BTC  7.852778e+10  47884.917106\n",
       "154           154  2021-05-14  BTC  9.149487e+10  49997.846250\n",
       "253           253  2021-05-15  BTC  5.551275e+10  50189.527235\n",
       "353           353  2021-05-16  BTC  5.997922e+10  47480.816852\n",
       "453           453  2021-05-17  BTC  6.306813e+10  46211.384370\n",
       "...           ...         ...  ...           ...           ...\n",
       "90954       90954  2023-11-09  BTC  1.751828e+10  35661.036826\n",
       "91054       91054  2023-11-10  BTC  3.753632e+10  36680.129620\n",
       "91155       91155  2023-11-11  BTC  2.254243e+10  37338.914097\n",
       "91254       91254  2023-11-12  BTC  1.390765e+10  37135.295578\n",
       "91356       91356  2023-11-13  BTC  1.141887e+10  37095.188812\n",
       "\n",
       "[914 rows x 5 columns]"
      ]
     },
     "execution_count": 4,
     "metadata": {},
     "output_type": "execute_result"
    }
   ],
   "source": [
    "df"
   ]
  },
  {
   "cell_type": "code",
   "execution_count": 5,
   "metadata": {},
   "outputs": [
    {
     "data": {
      "text/plain": [
       "<Axes: >"
      ]
     },
     "execution_count": 5,
     "metadata": {},
     "output_type": "execute_result"
    },
    {
     "data": {
      "image/png": "[encoded data removed]",
      "text/plain": [
       "<Figure size 640x480 with 1 Axes>"
      ]
     },
     "metadata": {},
     "output_type": "display_data"
    }
   ],
   "source": [
    "df[\"volume\"].plot()"
   ]
  },
  {
   "cell_type": "code",
   "execution_count": 6,
   "metadata": {},
   "outputs": [
    {
     "data": {
      "text/plain": [
       "<Axes: >"
      ]
     },
     "execution_count": 6,
     "metadata": {},
     "output_type": "execute_result"
    },
    {
     "data": {
      "image/png": "[encoded data removed]",
      "text/plain": [
       "<Figure size 640x480 with 1 Axes>"
      ]
     },
     "metadata": {},
     "output_type": "display_data"
    }
   ],
   "source": [
    "df[\"price\"].plot()"
   ]
  },
  {
   "cell_type": "code",
   "execution_count": 7,
   "metadata": {
    "colab": {
     "base_uri": "https://localhost:8080/"
    },
    "id": "0ndphMr69h1T",
    "outputId": "d3d1158d-1698-4fab-ddcc-cf16e434f342"
   },
   "outputs": [
    {
     "data": {
      "text/plain": [
       "(457, 228, 229)"
      ]
     },
     "execution_count": 7,
     "metadata": {},
     "output_type": "execute_result"
    }
   ],
   "source": [
    "num_train_samples = int(0.5 * len(df))\n",
    "num_val_samples = int(0.25 * len(df))\n",
    "num_test_samples = len(df) - num_train_samples - num_val_samples\n",
    "(num_train_samples, num_val_samples, num_test_samples)"
   ]
  },
  {
   "cell_type": "code",
   "execution_count": 8,
   "metadata": {
    "id": "Dx0-BSu-93pX"
   },
   "outputs": [],
   "source": [
    "price_mean = df.iloc[:num_train_samples][\"price\"].mean(axis=0)\n",
    "df[\"price\"] -= price_mean\n",
    "price_std = df.iloc[:num_train_samples][\"price\"].std(axis=0)\n",
    "df[\"price\"] /= price_std"
   ]
  },
  {
   "cell_type": "code",
   "execution_count": 9,
   "metadata": {},
   "outputs": [],
   "source": [
    "volume_mean = df.iloc[:num_train_samples][\"volume\"].mean(axis=0)\n",
    "df[\"volume\"] -= price_mean\n",
    "volume_std = df.iloc[:num_train_samples][\"volume\"].std(axis=0)\n",
    "df[\"volume\"] /= price_std"
   ]
  },
  {
   "cell_type": "code",
   "execution_count": 11,
   "metadata": {},
   "outputs": [],
   "source": [
    "prices = df[\"price\"].values\n",
    "prices = np.concatenate([prices[1:], [prices[-1]]])\n",
    "df[\"next_price\"] = prices"
   ]
  },
  {
   "cell_type": "code",
   "execution_count": 13,
   "metadata": {},
   "outputs": [
    {
     "data": {
      "text/html": [
       "<div>\n",
       "<style scoped>\n",
       "    .dataframe tbody tr th:only-of-type {\n",
       "        vertical-align: middle;\n",
       "    }\n",
       "\n",
       "    .dataframe tbody tr th {\n",
       "        vertical-align: top;\n",
       "    }\n",
       "\n",
       "    .dataframe thead th {\n",
       "        text-align: right;\n",
       "    }\n",
       "</style>\n",
       "<table border=\"1\" class=\"dataframe\">\n",
       "  <thead>\n",
       "    <tr style=\"text-align: right;\">\n",
       "      <th></th>\n",
       "      <th>Unnamed: 0</th>\n",
       "      <th>date</th>\n",
       "      <th>coin</th>\n",
       "      <th>volume</th>\n",
       "      <th>price</th>\n",
       "      <th>next_price</th>\n",
       "    </tr>\n",
       "  </thead>\n",
       "  <tbody>\n",
       "    <tr>\n",
       "      <th>53</th>\n",
       "      <td>53</td>\n",
       "      <td>2021-05-13</td>\n",
       "      <td>BTC</td>\n",
       "      <td>7.005383e+06</td>\n",
       "      <td>0.660899</td>\n",
       "      <td>0.849392</td>\n",
       "    </tr>\n",
       "    <tr>\n",
       "      <th>154</th>\n",
       "      <td>154</td>\n",
       "      <td>2021-05-14</td>\n",
       "      <td>BTC</td>\n",
       "      <td>8.162164e+06</td>\n",
       "      <td>0.849392</td>\n",
       "      <td>0.866491</td>\n",
       "    </tr>\n",
       "    <tr>\n",
       "      <th>253</th>\n",
       "      <td>253</td>\n",
       "      <td>2021-05-15</td>\n",
       "      <td>BTC</td>\n",
       "      <td>4.952234e+06</td>\n",
       "      <td>0.866491</td>\n",
       "      <td>0.624850</td>\n",
       "    </tr>\n",
       "    <tr>\n",
       "      <th>353</th>\n",
       "      <td>353</td>\n",
       "      <td>2021-05-16</td>\n",
       "      <td>BTC</td>\n",
       "      <td>5.350683e+06</td>\n",
       "      <td>0.624850</td>\n",
       "      <td>0.511605</td>\n",
       "    </tr>\n",
       "    <tr>\n",
       "      <th>453</th>\n",
       "      <td>453</td>\n",
       "      <td>2021-05-17</td>\n",
       "      <td>BTC</td>\n",
       "      <td>5.626243e+06</td>\n",
       "      <td>0.511605</td>\n",
       "      <td>0.323549</td>\n",
       "    </tr>\n",
       "    <tr>\n",
       "      <th>553</th>\n",
       "      <td>553</td>\n",
       "      <td>2021-05-18</td>\n",
       "      <td>BTC</td>\n",
       "      <td>6.826660e+06</td>\n",
       "      <td>0.323549</td>\n",
       "      <td>0.273839</td>\n",
       "    </tr>\n",
       "    <tr>\n",
       "      <th>653</th>\n",
       "      <td>653</td>\n",
       "      <td>2021-05-19</td>\n",
       "      <td>BTC</td>\n",
       "      <td>5.025796e+06</td>\n",
       "      <td>0.273839</td>\n",
       "      <td>-0.231399</td>\n",
       "    </tr>\n",
       "    <tr>\n",
       "      <th>753</th>\n",
       "      <td>753</td>\n",
       "      <td>2021-05-20</td>\n",
       "      <td>BTC</td>\n",
       "      <td>1.147877e+07</td>\n",
       "      <td>-0.231399</td>\n",
       "      <td>0.046625</td>\n",
       "    </tr>\n",
       "    <tr>\n",
       "      <th>853</th>\n",
       "      <td>853</td>\n",
       "      <td>2021-05-21</td>\n",
       "      <td>BTC</td>\n",
       "      <td>7.843685e+06</td>\n",
       "      <td>0.046625</td>\n",
       "      <td>-0.290847</td>\n",
       "    </tr>\n",
       "    <tr>\n",
       "      <th>953</th>\n",
       "      <td>953</td>\n",
       "      <td>2021-05-22</td>\n",
       "      <td>BTC</td>\n",
       "      <td>7.257266e+06</td>\n",
       "      <td>-0.290847</td>\n",
       "      <td>-0.289780</td>\n",
       "    </tr>\n",
       "  </tbody>\n",
       "</table>\n",
       "</div>"
      ],
      "text/plain": [
       "     Unnamed: 0        date coin        volume     price  next_price\n",
       "53           53  2021-05-13  BTC  7.005383e+06  0.660899    0.849392\n",
       "154         154  2021-05-14  BTC  8.162164e+06  0.849392    0.866491\n",
       "253         253  2021-05-15  BTC  4.952234e+06  0.866491    0.624850\n",
       "353         353  2021-05-16  BTC  5.350683e+06  0.624850    0.511605\n",
       "453         453  2021-05-17  BTC  5.626243e+06  0.511605    0.323549\n",
       "553         553  2021-05-18  BTC  6.826660e+06  0.323549    0.273839\n",
       "653         653  2021-05-19  BTC  5.025796e+06  0.273839   -0.231399\n",
       "753         753  2021-05-20  BTC  1.147877e+07 -0.231399    0.046625\n",
       "853         853  2021-05-21  BTC  7.843685e+06  0.046625   -0.290847\n",
       "953         953  2021-05-22  BTC  7.257266e+06 -0.290847   -0.289780"
      ]
     },
     "execution_count": 13,
     "metadata": {},
     "output_type": "execute_result"
    }
   ],
   "source": [
    "df.iloc[:10]"
   ]
  },
  {
   "cell_type": "code",
   "execution_count": 14,
   "metadata": {},
   "outputs": [
    {
     "data": {
      "text/plain": [
       "457"
      ]
     },
     "execution_count": 14,
     "metadata": {},
     "output_type": "execute_result"
    }
   ],
   "source": [
    "num_train_samples"
   ]
  },
  {
   "cell_type": "code",
   "execution_count": 15,
   "metadata": {},
   "outputs": [
    {
     "data": {
      "text/plain": [
       "914"
      ]
     },
     "execution_count": 15,
     "metadata": {},
     "output_type": "execute_result"
    }
   ],
   "source": [
    "len(df)"
   ]
  },
  {
   "cell_type": "code",
   "execution_count": 16,
   "metadata": {
    "id": "l1aCJN9uBm58"
   },
   "outputs": [
    {
     "name": "stderr",
     "output_type": "stream",
     "text": [
      "2024-05-21 18:41:08.623929: I tensorflow/compiler/xla/stream_executor/cuda/cuda_gpu_executor.cc:981] could not open file to read NUMA node: /sys/bus/pci/devices/0000:01:00.0/numa_node\n",
      "Your kernel may have been built without NUMA support.\n",
      "2024-05-21 18:41:08.732884: I tensorflow/compiler/xla/stream_executor/cuda/cuda_gpu_executor.cc:981] could not open file to read NUMA node: /sys/bus/pci/devices/0000:01:00.0/numa_node\n",
      "Your kernel may have been built without NUMA support.\n",
      "2024-05-21 18:41:08.733068: I tensorflow/compiler/xla/stream_executor/cuda/cuda_gpu_executor.cc:981] could not open file to read NUMA node: /sys/bus/pci/devices/0000:01:00.0/numa_node\n",
      "Your kernel may have been built without NUMA support.\n",
      "2024-05-21 18:41:08.735641: I tensorflow/compiler/xla/stream_executor/cuda/cuda_gpu_executor.cc:981] could not open file to read NUMA node: /sys/bus/pci/devices/0000:01:00.0/numa_node\n",
      "Your kernel may have been built without NUMA support.\n",
      "2024-05-21 18:41:08.735801: I tensorflow/compiler/xla/stream_executor/cuda/cuda_gpu_executor.cc:981] could not open file to read NUMA node: /sys/bus/pci/devices/0000:01:00.0/numa_node\n",
      "Your kernel may have been built without NUMA support.\n",
      "2024-05-21 18:41:08.735955: I tensorflow/compiler/xla/stream_executor/cuda/cuda_gpu_executor.cc:981] could not open file to read NUMA node: /sys/bus/pci/devices/0000:01:00.0/numa_node\n",
      "Your kernel may have been built without NUMA support.\n",
      "2024-05-21 18:41:08.926958: I tensorflow/compiler/xla/stream_executor/cuda/cuda_gpu_executor.cc:981] could not open file to read NUMA node: /sys/bus/pci/devices/0000:01:00.0/numa_node\n",
      "Your kernel may have been built without NUMA support.\n",
      "2024-05-21 18:41:08.927132: I tensorflow/compiler/xla/stream_executor/cuda/cuda_gpu_executor.cc:981] could not open file to read NUMA node: /sys/bus/pci/devices/0000:01:00.0/numa_node\n",
      "Your kernel may have been built without NUMA support.\n",
      "2024-05-21 18:41:08.927138: I tensorflow/core/common_runtime/gpu/gpu_device.cc:1726] Could not identify NUMA node of platform GPU id 0, defaulting to 0.  Your kernel may not have been built with NUMA support.\n",
      "2024-05-21 18:41:08.927289: I tensorflow/compiler/xla/stream_executor/cuda/cuda_gpu_executor.cc:981] could not open file to read NUMA node: /sys/bus/pci/devices/0000:01:00.0/numa_node\n",
      "Your kernel may have been built without NUMA support.\n",
      "2024-05-21 18:41:08.927322: I tensorflow/core/common_runtime/gpu/gpu_device.cc:1639] Created device /job:localhost/replica:0/task:0/device:GPU:0 with 9558 MB memory:  -> device: 0, name: NVIDIA GeForce RTX 4070, pci bus id: 0000:01:00.0, compute capability: 8.9\n"
     ]
    }
   ],
   "source": [
    "sampling_rate = 6\n",
    "sequence_length = 7\n",
    "batch_size = 256\n",
    "train_dataset = keras.utils.timeseries_dataset_from_array(\n",
    "    data = df.iloc[:num_train_samples][\"price\"].values,\n",
    "    targets = df.iloc[:num_train_samples][\"next_price\"].values,\n",
    "    sampling_rate = sampling_rate,\n",
    "    sequence_length = sequence_length,\n",
    "    shuffle = True,\n",
    "    batch_size = batch_size)\n",
    "\n",
    "val_index = num_train_samples + num_val_samples\n",
    "val_dataset = keras.utils.timeseries_dataset_from_array(\n",
    "    data = df.iloc[num_train_samples:val_index][\"price\"].values,\n",
    "    targets = df.iloc[num_train_samples:val_index][\"next_price\"].values,\n",
    "    sampling_rate = sampling_rate,\n",
    "    sequence_length = sequence_length,\n",
    "    shuffle = True,\n",
    "    batch_size = batch_size)\n",
    "\n",
    "test_index = val_index + num_test_samples\n",
    "test_dataset = keras.utils.timeseries_dataset_from_array(\n",
    "    data = df.iloc[val_index:][\"price\"].values,\n",
    "    targets = df.iloc[val_index:][\"next_price\"].values,\n",
    "    sampling_rate = sampling_rate,\n",
    "    sequence_length = sequence_length,\n",
    "    shuffle = True,\n",
    "    batch_size = batch_size)"
   ]
  },
  {
   "cell_type": "code",
   "execution_count": 17,
   "metadata": {
    "colab": {
     "base_uri": "https://localhost:8080/"
    },
    "id": "VRZe2w_6DYwN",
    "outputId": "d8b2f31c-309e-4a28-af4f-d71301f71a63"
   },
   "outputs": [
    {
     "name": "stdout",
     "output_type": "stream",
     "text": [
      "samples shape (256, 7)\n",
      "targets shape (256,)\n"
     ]
    }
   ],
   "source": [
    "for samples, targets in train_dataset:\n",
    "  print(\"samples shape\", samples.shape)\n",
    "  print(\"targets shape\", targets.shape)\n",
    "  break"
   ]
  },
  {
   "cell_type": "markdown",
   "metadata": {
    "id": "lfcYSNkCDtoH"
   },
   "source": [
    "# baseline"
   ]
  },
  {
   "cell_type": "code",
   "execution_count": 19,
   "metadata": {
    "colab": {
     "base_uri": "https://localhost:8080/"
    },
    "id": "Se5vQL43DgDP",
    "outputId": "f2acf767-73b0-4d81-cca8-fd3349e1bb25"
   },
   "outputs": [
    {
     "name": "stdout",
     "output_type": "stream",
     "text": [
      "Validation MAE: 0.23\n",
      "Test MAE: 0.26\n"
     ]
    }
   ],
   "source": [
    "def evaluate_naive_method(dataset):\n",
    "  total_abs_err = 0.\n",
    "  samples_seen = 0\n",
    "  for samples, targets in dataset:\n",
    "    preds = samples[:, -1]\n",
    "    total_abs_err += np.sum(np.abs(preds - targets))\n",
    "    samples_seen += samples.shape[0]\n",
    "  return total_abs_err / samples_seen\n",
    "print(f\"Validation MAE: {evaluate_naive_method(val_dataset):.2f}\")\n",
    "print(f\"Test MAE: {evaluate_naive_method(test_dataset):.2f}\")"
   ]
  },
  {
   "cell_type": "markdown",
   "metadata": {
    "id": "TCiXemYCFavf"
   },
   "source": [
    "# densely conected"
   ]
  },
  {
   "cell_type": "code",
   "execution_count": 20,
   "metadata": {
    "colab": {
     "base_uri": "https://localhost:8080/"
    },
    "id": "-11VBrC1FHNF",
    "outputId": "bb5d896c-c3b9-4d5a-d049-d01148e69527"
   },
   "outputs": [
    {
     "name": "stdout",
     "output_type": "stream",
     "text": [
      "Epoch 1/10\n"
     ]
    },
    {
     "name": "stderr",
     "output_type": "stream",
     "text": [
      "2024-05-21 18:41:42.444043: I tensorflow/compiler/xla/stream_executor/cuda/cuda_blas.cc:606] TensorFloat-32 will be used for the matrix multiplication. This will only be logged once.\n",
      "2024-05-21 18:41:42.497086: I tensorflow/compiler/xla/service/service.cc:168] XLA service 0x7f2bde0b7d10 initialized for platform CUDA (this does not guarantee that XLA will be used). Devices:\n",
      "2024-05-21 18:41:42.497114: I tensorflow/compiler/xla/service/service.cc:176]   StreamExecutor device (0): NVIDIA GeForce RTX 4070, Compute Capability 8.9\n",
      "2024-05-21 18:41:42.523547: I tensorflow/compiler/mlir/tensorflow/utils/dump_mlir_util.cc:255] disabling MLIR crash reproducer, set env var `MLIR_CRASH_REPRODUCER_DIRECTORY` to enable.\n",
      "2024-05-21 18:41:42.613578: I tensorflow/compiler/xla/stream_executor/cuda/cuda_dnn.cc:432] Loaded cuDNN version 8600\n",
      "2024-05-21 18:41:42.839662: I tensorflow/tsl/platform/default/subprocess.cc:304] Start cannot spawn child process: Permission denied\n",
      "2024-05-21 18:41:42.944542: I ./tensorflow/compiler/jit/device_compiler.h:186] Compiled cluster using XLA!  This line is logged at most once for the lifetime of the process.\n"
     ]
    },
    {
     "name": "stdout",
     "output_type": "stream",
     "text": [
      "1/2 [==============>...............] - ETA: 0s - loss: 1.0655 - mae: 0.7024INFO:tensorflow:Assets written to: btc_dense.model/assets\n"
     ]
    },
    {
     "name": "stderr",
     "output_type": "stream",
     "text": [
      "INFO:tensorflow:Assets written to: btc_dense.model/assets\n"
     ]
    },
    {
     "name": "stdout",
     "output_type": "stream",
     "text": [
      "2/2 [==============================] - 1s 404ms/step - loss: 0.9837 - mae: 0.6641 - val_loss: 0.2199 - val_mae: 0.4572\n",
      "Epoch 2/10\n",
      "1/2 [==============>...............] - ETA: 0s - loss: 0.8777 - mae: 0.6257INFO:tensorflow:Assets written to: btc_dense.model/assets\n"
     ]
    },
    {
     "name": "stderr",
     "output_type": "stream",
     "text": [
      "INFO:tensorflow:Assets written to: btc_dense.model/assets\n"
     ]
    },
    {
     "name": "stdout",
     "output_type": "stream",
     "text": [
      "2/2 [==============================] - 0s 225ms/step - loss: 0.8504 - mae: 0.6253 - val_loss: 0.1561 - val_mae: 0.3822\n",
      "Epoch 3/10\n",
      "1/2 [==============>...............] - ETA: 0s - loss: 0.7518 - mae: 0.5922INFO:tensorflow:Assets written to: btc_dense.model/assets\n"
     ]
    },
    {
     "name": "stderr",
     "output_type": "stream",
     "text": [
      "INFO:tensorflow:Assets written to: btc_dense.model/assets\n"
     ]
    },
    {
     "name": "stdout",
     "output_type": "stream",
     "text": [
      "2/2 [==============================] - 0s 279ms/step - loss: 0.7692 - mae: 0.5985 - val_loss: 0.1203 - val_mae: 0.3327\n",
      "Epoch 4/10\n",
      "1/2 [==============>...............] - ETA: 0s - loss: 0.6803 - mae: 0.5667INFO:tensorflow:Assets written to: btc_dense.model/assets\n"
     ]
    },
    {
     "name": "stderr",
     "output_type": "stream",
     "text": [
      "INFO:tensorflow:Assets written to: btc_dense.model/assets\n"
     ]
    },
    {
     "name": "stdout",
     "output_type": "stream",
     "text": [
      "2/2 [==============================] - 0s 209ms/step - loss: 0.7059 - mae: 0.5779 - val_loss: 0.0971 - val_mae: 0.2963\n",
      "Epoch 5/10\n",
      "1/2 [==============>...............] - ETA: 0s - loss: 0.5585 - mae: 0.5147INFO:tensorflow:Assets written to: btc_dense.model/assets\n"
     ]
    },
    {
     "name": "stderr",
     "output_type": "stream",
     "text": [
      "INFO:tensorflow:Assets written to: btc_dense.model/assets\n"
     ]
    },
    {
     "name": "stdout",
     "output_type": "stream",
     "text": [
      "2/2 [==============================] - 0s 197ms/step - loss: 0.6538 - mae: 0.5597 - val_loss: 0.0768 - val_mae: 0.2606\n",
      "Epoch 6/10\n",
      "1/2 [==============>...............] - ETA: 0s - loss: 0.6763 - mae: 0.5720INFO:tensorflow:Assets written to: btc_dense.model/assets\n"
     ]
    },
    {
     "name": "stderr",
     "output_type": "stream",
     "text": [
      "INFO:tensorflow:Assets written to: btc_dense.model/assets\n"
     ]
    },
    {
     "name": "stdout",
     "output_type": "stream",
     "text": [
      "2/2 [==============================] - 0s 205ms/step - loss: 0.6097 - mae: 0.5432 - val_loss: 0.0640 - val_mae: 0.2358\n",
      "Epoch 7/10\n",
      "1/2 [==============>...............] - ETA: 0s - loss: 0.4570 - mae: 0.4782INFO:tensorflow:Assets written to: btc_dense.model/assets\n"
     ]
    },
    {
     "name": "stderr",
     "output_type": "stream",
     "text": [
      "INFO:tensorflow:Assets written to: btc_dense.model/assets\n"
     ]
    },
    {
     "name": "stdout",
     "output_type": "stream",
     "text": [
      "2/2 [==============================] - 0s 201ms/step - loss: 0.5721 - mae: 0.5297 - val_loss: 0.0542 - val_mae: 0.2148\n",
      "Epoch 8/10\n",
      "1/2 [==============>...............] - ETA: 0s - loss: 0.6013 - mae: 0.5443INFO:tensorflow:Assets written to: btc_dense.model/assets\n"
     ]
    },
    {
     "name": "stderr",
     "output_type": "stream",
     "text": [
      "INFO:tensorflow:Assets written to: btc_dense.model/assets\n"
     ]
    },
    {
     "name": "stdout",
     "output_type": "stream",
     "text": [
      "2/2 [==============================] - 0s 194ms/step - loss: 0.5368 - mae: 0.5162 - val_loss: 0.0494 - val_mae: 0.2042\n",
      "Epoch 9/10\n",
      "1/2 [==============>...............] - ETA: 0s - loss: 0.4403 - mae: 0.4726INFO:tensorflow:Assets written to: btc_dense.model/assets\n"
     ]
    },
    {
     "name": "stderr",
     "output_type": "stream",
     "text": [
      "INFO:tensorflow:Assets written to: btc_dense.model/assets\n"
     ]
    },
    {
     "name": "stdout",
     "output_type": "stream",
     "text": [
      "2/2 [==============================] - 0s 197ms/step - loss: 0.5068 - mae: 0.5042 - val_loss: 0.0441 - val_mae: 0.1915\n",
      "Epoch 10/10\n",
      "1/2 [==============>...............] - ETA: 0s - loss: 0.5025 - mae: 0.5142INFO:tensorflow:Assets written to: btc_dense.model/assets\n"
     ]
    },
    {
     "name": "stderr",
     "output_type": "stream",
     "text": [
      "INFO:tensorflow:Assets written to: btc_dense.model/assets\n"
     ]
    },
    {
     "name": "stdout",
     "output_type": "stream",
     "text": [
      "2/2 [==============================] - 0s 191ms/step - loss: 0.4778 - mae: 0.4919 - val_loss: 0.0416 - val_mae: 0.1855\n",
      "1/1 [==============================] - 0s 68ms/step - loss: 0.0222 - mae: 0.1308\n",
      "Test MAE: 0.13\n"
     ]
    }
   ],
   "source": [
    "from tensorflow import keras\n",
    "from tensorflow.keras import layers\n",
    "\n",
    "inputs = keras.Input(shape=(sequence_length, 1))\n",
    "x = layers.Flatten()(inputs)\n",
    "x = layers.Dense(16, activation=\"relu\")(x)\n",
    "outputs = layers.Dense(1)(x)\n",
    "model = keras.Model(inputs, outputs)\n",
    "\n",
    "callbacks = [\n",
    "    keras.callbacks.ModelCheckpoint(\"btc_dense.model\",\n",
    "                                    save_best_only=True)\n",
    "]\n",
    "model.compile(optimizer=\"rmsprop\", loss=\"mse\", metrics=['mae'])\n",
    "history = model.fit(train_dataset,\n",
    "                    epochs=10,\n",
    "                    validation_data = val_dataset,\n",
    "                    callbacks = callbacks)\n",
    "model = keras.models.load_model(\"btc_dense.model\")\n",
    "print(f\"Test MAE: {model.evaluate(test_dataset)[1]:.2f}\")"
   ]
  },
  {
   "cell_type": "code",
   "execution_count": 21,
   "metadata": {
    "colab": {
     "base_uri": "https://localhost:8080/",
     "height": 452
    },
    "id": "GtW9DnuvHR9E",
    "outputId": "f3d7a86c-147c-40cf-d8f6-92efc627038e"
   },
   "outputs": [
    {
     "data": {
      "image/png": "[encoded data removed]",
      "text/plain": [
       "<Figure size 640x480 with 1 Axes>"
      ]
     },
     "metadata": {},
     "output_type": "display_data"
    }
   ],
   "source": [
    "import matplotlib.pyplot as plt\n",
    "loss = history.history[\"mae\"]\n",
    "val_loss = history.history[\"val_mae\"]\n",
    "epochs = range(1, len(loss)+1)\n",
    "plt.figure()\n",
    "plt.plot(epochs, loss, \"bo\", label=\"Training MAE\")\n",
    "plt.plot(epochs, val_loss, \"b\", label=\"Validation MAE\")\n",
    "plt.title(\"Training and Validation MAE\")\n",
    "plt.legend()\n",
    "plt.show()"
   ]
  },
  {
   "cell_type": "markdown",
   "metadata": {
    "id": "lcNQ4GpQJ2yC"
   },
   "source": [
    "# LSTM"
   ]
  },
  {
   "cell_type": "code",
   "execution_count": 30,
   "metadata": {
    "colab": {
     "base_uri": "https://localhost:8080/"
    },
    "id": "xkbGKTxqJ5zC",
    "outputId": "432912d0-2c56-4b15-c4f1-ad5b147aafc6"
   },
   "outputs": [
    {
     "name": "stdout",
     "output_type": "stream",
     "text": [
      "Epoch 1/10\n",
      "1/2 [==============>...............] - ETA: 0s - loss: 0.9728 - mae: 0.7728INFO:tensorflow:Assets written to: btc_lstm.model/assets\n"
     ]
    },
    {
     "name": "stderr",
     "output_type": "stream",
     "text": [
      "INFO:tensorflow:Assets written to: btc_lstm.model/assets\n"
     ]
    },
    {
     "name": "stdout",
     "output_type": "stream",
     "text": [
      "2/2 [==============================] - 1s 287ms/step - loss: 0.9133 - mae: 0.7386 - val_loss: 2.6822 - val_mae: 1.6230\n",
      "Epoch 2/10\n",
      "2/2 [==============================] - 0s 48ms/step - loss: 0.8726 - mae: 0.7204 - val_loss: 3.0789 - val_mae: 1.7412\n",
      "Epoch 3/10\n",
      "2/2 [==============================] - 0s 42ms/step - loss: 0.8587 - mae: 0.7134 - val_loss: 3.3912 - val_mae: 1.8287\n",
      "Epoch 4/10\n",
      "2/2 [==============================] - 0s 39ms/step - loss: 0.8520 - mae: 0.7105 - val_loss: 3.6103 - val_mae: 1.8877\n",
      "Epoch 5/10\n",
      "2/2 [==============================] - 0s 46ms/step - loss: 0.8492 - mae: 0.7098 - val_loss: 3.7620 - val_mae: 1.9275\n",
      "Epoch 6/10\n",
      "2/2 [==============================] - 0s 47ms/step - loss: 0.8481 - mae: 0.7093 - val_loss: 3.8487 - val_mae: 1.9499\n",
      "Epoch 7/10\n",
      "2/2 [==============================] - 0s 38ms/step - loss: 0.8475 - mae: 0.7089 - val_loss: 3.9342 - val_mae: 1.9717\n",
      "Epoch 8/10\n",
      "2/2 [==============================] - 0s 38ms/step - loss: 0.8473 - mae: 0.7092 - val_loss: 3.9637 - val_mae: 1.9792\n",
      "Epoch 9/10\n",
      "2/2 [==============================] - 0s 38ms/step - loss: 0.8471 - mae: 0.7090 - val_loss: 3.9922 - val_mae: 1.9863\n",
      "Epoch 10/10\n",
      "2/2 [==============================] - 0s 38ms/step - loss: 0.8471 - mae: 0.7092 - val_loss: 4.0071 - val_mae: 1.9901\n",
      "1/1 [==============================] - 0s 72ms/step - loss: 1.0064 - mae: 0.9924\n",
      "Test MAE: 0.99\n"
     ]
    }
   ],
   "source": [
    "inputs = keras.Input(shape=(sequence_length, 1))\n",
    "x = layers.LSTM(64)(inputs)\n",
    "x = layers.Dense(64)(inputs)\n",
    "outputs = layers.Dense(1)(x)\n",
    "model = keras.Model(inputs, outputs)\n",
    "\n",
    "callbacks = [\n",
    "    keras.callbacks.ModelCheckpoint(\"btc_lstm.model\",\n",
    "                                    save_best_only=True)\n",
    "]\n",
    "model.compile(optimizer=\"rmsprop\", loss=\"mse\", metrics=['mae'])\n",
    "history = model.fit(train_dataset,\n",
    "                    epochs=10,\n",
    "                    validation_data = val_dataset,\n",
    "                    callbacks = callbacks)\n",
    "model = keras.models.load_model(\"btc_lstm.model\")\n",
    "print(f\"Test MAE: {model.evaluate(test_dataset)[1]:.2f}\")"
   ]
  },
  {
   "cell_type": "markdown",
   "metadata": {
    "id": "MAh8I281KhnP"
   },
   "source": [
    "# dropout-regularized LSTM"
   ]
  },
  {
   "cell_type": "code",
   "execution_count": 31,
   "metadata": {
    "id": "tz16ayVkKoFK"
   },
   "outputs": [
    {
     "name": "stdout",
     "output_type": "stream",
     "text": [
      "WARNING:tensorflow:Layer lstm_10 will not use cuDNN kernels since it doesn't meet the criteria. It will use a generic GPU kernel as fallback when running on GPU.\n"
     ]
    },
    {
     "name": "stderr",
     "output_type": "stream",
     "text": [
      "WARNING:tensorflow:Layer lstm_10 will not use cuDNN kernels since it doesn't meet the criteria. It will use a generic GPU kernel as fallback when running on GPU.\n"
     ]
    },
    {
     "name": "stdout",
     "output_type": "stream",
     "text": [
      "Epoch 1/10\n",
      "1/2 [==============>...............] - ETA: 0s - loss: 0.7242 - mae: 0.6533INFO:tensorflow:Assets written to: btc_lstm_dropout.model/assets\n"
     ]
    },
    {
     "name": "stderr",
     "output_type": "stream",
     "text": [
      "INFO:tensorflow:Assets written to: btc_lstm_dropout.model/assets\n"
     ]
    },
    {
     "name": "stdout",
     "output_type": "stream",
     "text": [
      "2/2 [==============================] - 2s 966ms/step - loss: 0.5973 - mae: 0.5844 - val_loss: 1.7249 - val_mae: 1.3000\n",
      "Epoch 2/10\n",
      "1/2 [==============>...............] - ETA: 0s - loss: 0.3994 - mae: 0.4808INFO:tensorflow:Assets written to: btc_lstm_dropout.model/assets\n"
     ]
    },
    {
     "name": "stderr",
     "output_type": "stream",
     "text": [
      "INFO:tensorflow:Assets written to: btc_lstm_dropout.model/assets\n"
     ]
    },
    {
     "name": "stdout",
     "output_type": "stream",
     "text": [
      "2/2 [==============================] - 1s 984ms/step - loss: 0.4449 - mae: 0.5161 - val_loss: 1.3012 - val_mae: 1.1265\n",
      "Epoch 3/10\n",
      "1/2 [==============>...............] - ETA: 0s - loss: 0.4046 - mae: 0.4945INFO:tensorflow:Assets written to: btc_lstm_dropout.model/assets\n"
     ]
    },
    {
     "name": "stderr",
     "output_type": "stream",
     "text": [
      "INFO:tensorflow:Assets written to: btc_lstm_dropout.model/assets\n"
     ]
    },
    {
     "name": "stdout",
     "output_type": "stream",
     "text": [
      "2/2 [==============================] - 1s 843ms/step - loss: 0.3763 - mae: 0.4752 - val_loss: 0.9291 - val_mae: 0.9481\n",
      "Epoch 4/10\n",
      "1/2 [==============>...............] - ETA: 0s - loss: 0.3351 - mae: 0.4433INFO:tensorflow:Assets written to: btc_lstm_dropout.model/assets\n"
     ]
    },
    {
     "name": "stderr",
     "output_type": "stream",
     "text": [
      "INFO:tensorflow:Assets written to: btc_lstm_dropout.model/assets\n"
     ]
    },
    {
     "name": "stdout",
     "output_type": "stream",
     "text": [
      "2/2 [==============================] - 1s 838ms/step - loss: 0.3517 - mae: 0.4607 - val_loss: 0.6697 - val_mae: 0.8006\n",
      "Epoch 5/10\n",
      "1/2 [==============>...............] - ETA: 0s - loss: 0.2712 - mae: 0.4157INFO:tensorflow:Assets written to: btc_lstm_dropout.model/assets\n"
     ]
    },
    {
     "name": "stderr",
     "output_type": "stream",
     "text": [
      "INFO:tensorflow:Assets written to: btc_lstm_dropout.model/assets\n"
     ]
    },
    {
     "name": "stdout",
     "output_type": "stream",
     "text": [
      "2/2 [==============================] - 1s 862ms/step - loss: 0.3032 - mae: 0.4403 - val_loss: 0.4950 - val_mae: 0.6834\n",
      "Epoch 6/10\n",
      "1/2 [==============>...............] - ETA: 0s - loss: 0.2812 - mae: 0.4192INFO:tensorflow:Assets written to: btc_lstm_dropout.model/assets\n"
     ]
    },
    {
     "name": "stderr",
     "output_type": "stream",
     "text": [
      "INFO:tensorflow:Assets written to: btc_lstm_dropout.model/assets\n"
     ]
    },
    {
     "name": "stdout",
     "output_type": "stream",
     "text": [
      "2/2 [==============================] - 1s 1s/step - loss: 0.2592 - mae: 0.4022 - val_loss: 0.3922 - val_mae: 0.6042\n",
      "Epoch 7/10\n",
      "1/2 [==============>...............] - ETA: 0s - loss: 0.2885 - mae: 0.4322INFO:tensorflow:Assets written to: btc_lstm_dropout.model/assets\n"
     ]
    },
    {
     "name": "stderr",
     "output_type": "stream",
     "text": [
      "INFO:tensorflow:Assets written to: btc_lstm_dropout.model/assets\n"
     ]
    },
    {
     "name": "stdout",
     "output_type": "stream",
     "text": [
      "2/2 [==============================] - 1s 866ms/step - loss: 0.2939 - mae: 0.4290 - val_loss: 0.3073 - val_mae: 0.5298\n",
      "Epoch 8/10\n",
      "1/2 [==============>...............] - ETA: 0s - loss: 0.2600 - mae: 0.4006INFO:tensorflow:Assets written to: btc_lstm_dropout.model/assets\n"
     ]
    },
    {
     "name": "stderr",
     "output_type": "stream",
     "text": [
      "INFO:tensorflow:Assets written to: btc_lstm_dropout.model/assets\n"
     ]
    },
    {
     "name": "stdout",
     "output_type": "stream",
     "text": [
      "2/2 [==============================] - 1s 872ms/step - loss: 0.2482 - mae: 0.3915 - val_loss: 0.2838 - val_mae: 0.5074\n",
      "Epoch 9/10\n",
      "1/2 [==============>...............] - ETA: 0s - loss: 0.2772 - mae: 0.4167INFO:tensorflow:Assets written to: btc_lstm_dropout.model/assets\n"
     ]
    },
    {
     "name": "stderr",
     "output_type": "stream",
     "text": [
      "INFO:tensorflow:Assets written to: btc_lstm_dropout.model/assets\n"
     ]
    },
    {
     "name": "stdout",
     "output_type": "stream",
     "text": [
      "2/2 [==============================] - 1s 998ms/step - loss: 0.2582 - mae: 0.3974 - val_loss: 0.2524 - val_mae: 0.4758\n",
      "Epoch 10/10\n",
      "2/2 [==============================] - 0s 60ms/step - loss: 0.2376 - mae: 0.3862 - val_loss: 0.2786 - val_mae: 0.5027\n",
      "WARNING:tensorflow:Layer lstm_10 will not use cuDNN kernels since it doesn't meet the criteria. It will use a generic GPU kernel as fallback when running on GPU.\n"
     ]
    },
    {
     "name": "stderr",
     "output_type": "stream",
     "text": [
      "WARNING:tensorflow:Layer lstm_10 will not use cuDNN kernels since it doesn't meet the criteria. It will use a generic GPU kernel as fallback when running on GPU.\n"
     ]
    },
    {
     "name": "stdout",
     "output_type": "stream",
     "text": [
      "1/1 [==============================] - 0s 127ms/step - loss: 0.0705 - mae: 0.2190\n",
      "Test MAE: 0.22\n"
     ]
    }
   ],
   "source": [
    "inputs = keras.Input(shape=(sequence_length, 1))\n",
    "x = layers.LSTM(32, recurrent_dropout=0.25)(inputs)\n",
    "x = layers.Dropout(0.5)(x)\n",
    "x = layers.Dense(32)(x)\n",
    "outputs = layers.Dense(1)(x)\n",
    "model = keras.Model(inputs, outputs)\n",
    "\n",
    "callbacks = [\n",
    "    keras.callbacks.ModelCheckpoint(\"btc_lstm_dropout.model\",\n",
    "                                    save_best_only=True)\n",
    "]\n",
    "model.compile(optimizer=\"rmsprop\", loss=\"mse\", metrics=['mae'])\n",
    "history = model.fit(train_dataset,\n",
    "                    epochs=10,\n",
    "                    validation_data = val_dataset,\n",
    "                    callbacks = callbacks)\n",
    "model = keras.models.load_model(\"btc_lstm_dropout.model\")\n",
    "print(f\"Test MAE: {model.evaluate(test_dataset)[1]:.2f}\")"
   ]
  },
  {
   "cell_type": "markdown",
   "metadata": {
    "id": "Gh1jGLNhK8sk"
   },
   "source": [
    "# bidirectional LSTM"
   ]
  },
  {
   "cell_type": "code",
   "execution_count": 32,
   "metadata": {
    "colab": {
     "base_uri": "https://localhost:8080/"
    },
    "id": "k-Png11mLBGi",
    "outputId": "a546b46c-f21c-4e60-dec7-41907ffd9736",
    "scrolled": false
   },
   "outputs": [
    {
     "name": "stdout",
     "output_type": "stream",
     "text": [
      "Epoch 1/10\n",
      "1/2 [==============>...............] - ETA: 1s - loss: 1.0585 - mae: 0.7816INFO:tensorflow:Assets written to: btc_lstm_bidirectional.model/assets\n"
     ]
    },
    {
     "name": "stderr",
     "output_type": "stream",
     "text": [
      "INFO:tensorflow:Assets written to: btc_lstm_bidirectional.model/assets\n"
     ]
    },
    {
     "name": "stdout",
     "output_type": "stream",
     "text": [
      "2/2 [==============================] - 5s 4s/step - loss: 0.9847 - mae: 0.7609 - val_loss: 3.5028 - val_mae: 1.8582\n",
      "Epoch 2/10\n",
      "1/2 [==============>...............] - ETA: 0s - loss: 0.7983 - mae: 0.6946INFO:tensorflow:Assets written to: btc_lstm_bidirectional.model/assets\n"
     ]
    },
    {
     "name": "stderr",
     "output_type": "stream",
     "text": [
      "INFO:tensorflow:Assets written to: btc_lstm_bidirectional.model/assets\n"
     ]
    },
    {
     "name": "stdout",
     "output_type": "stream",
     "text": [
      "2/2 [==============================] - 3s 3s/step - loss: 0.7339 - mae: 0.6602 - val_loss: 2.8824 - val_mae: 1.6842\n",
      "Epoch 3/10\n",
      "1/2 [==============>...............] - ETA: 0s - loss: 0.6439 - mae: 0.6267INFO:tensorflow:Assets written to: btc_lstm_bidirectional.model/assets\n"
     ]
    },
    {
     "name": "stderr",
     "output_type": "stream",
     "text": [
      "INFO:tensorflow:Assets written to: btc_lstm_bidirectional.model/assets\n"
     ]
    },
    {
     "name": "stdout",
     "output_type": "stream",
     "text": [
      "2/2 [==============================] - 3s 3s/step - loss: 0.5940 - mae: 0.5968 - val_loss: 2.3597 - val_mae: 1.5221\n",
      "Epoch 4/10\n",
      "1/2 [==============>...............] - ETA: 0s - loss: 0.5563 - mae: 0.5905INFO:tensorflow:Assets written to: btc_lstm_bidirectional.model/assets\n"
     ]
    },
    {
     "name": "stderr",
     "output_type": "stream",
     "text": [
      "INFO:tensorflow:Assets written to: btc_lstm_bidirectional.model/assets\n"
     ]
    },
    {
     "name": "stdout",
     "output_type": "stream",
     "text": [
      "2/2 [==============================] - 3s 3s/step - loss: 0.4941 - mae: 0.5481 - val_loss: 1.9269 - val_mae: 1.3734\n",
      "Epoch 5/10\n",
      "1/2 [==============>...............] - ETA: 0s - loss: 0.4201 - mae: 0.5134INFO:tensorflow:Assets written to: btc_lstm_bidirectional.model/assets\n"
     ]
    },
    {
     "name": "stderr",
     "output_type": "stream",
     "text": [
      "INFO:tensorflow:Assets written to: btc_lstm_bidirectional.model/assets\n"
     ]
    },
    {
     "name": "stdout",
     "output_type": "stream",
     "text": [
      "2/2 [==============================] - 3s 3s/step - loss: 0.4164 - mae: 0.5083 - val_loss: 1.5521 - val_mae: 1.2303\n",
      "Epoch 6/10\n",
      "1/2 [==============>...............] - ETA: 0s - loss: 0.3730 - mae: 0.4899INFO:tensorflow:Assets written to: btc_lstm_bidirectional.model/assets\n"
     ]
    },
    {
     "name": "stderr",
     "output_type": "stream",
     "text": [
      "INFO:tensorflow:Assets written to: btc_lstm_bidirectional.model/assets\n"
     ]
    },
    {
     "name": "stdout",
     "output_type": "stream",
     "text": [
      "2/2 [==============================] - 3s 3s/step - loss: 0.3563 - mae: 0.4751 - val_loss: 1.2299 - val_mae: 1.0923\n",
      "Epoch 7/10\n",
      "1/2 [==============>...............] - ETA: 0s - loss: 0.2973 - mae: 0.4333INFO:tensorflow:Assets written to: btc_lstm_bidirectional.model/assets\n"
     ]
    },
    {
     "name": "stderr",
     "output_type": "stream",
     "text": [
      "INFO:tensorflow:Assets written to: btc_lstm_bidirectional.model/assets\n"
     ]
    },
    {
     "name": "stdout",
     "output_type": "stream",
     "text": [
      "2/2 [==============================] - 3s 3s/step - loss: 0.3126 - mae: 0.4475 - val_loss: 1.0001 - val_mae: 0.9822\n",
      "Epoch 8/10\n",
      "1/2 [==============>...............] - ETA: 0s - loss: 0.2792 - mae: 0.4203INFO:tensorflow:Assets written to: btc_lstm_bidirectional.model/assets\n"
     ]
    },
    {
     "name": "stderr",
     "output_type": "stream",
     "text": [
      "INFO:tensorflow:Assets written to: btc_lstm_bidirectional.model/assets\n"
     ]
    },
    {
     "name": "stdout",
     "output_type": "stream",
     "text": [
      "2/2 [==============================] - 3s 3s/step - loss: 0.2800 - mae: 0.4255 - val_loss: 0.7861 - val_mae: 0.8670\n",
      "Epoch 9/10\n",
      "1/2 [==============>...............] - ETA: 0s - loss: 0.2455 - mae: 0.3952INFO:tensorflow:Assets written to: btc_lstm_bidirectional.model/assets\n"
     ]
    },
    {
     "name": "stderr",
     "output_type": "stream",
     "text": [
      "INFO:tensorflow:Assets written to: btc_lstm_bidirectional.model/assets\n"
     ]
    },
    {
     "name": "stdout",
     "output_type": "stream",
     "text": [
      "2/2 [==============================] - 3s 3s/step - loss: 0.2583 - mae: 0.4096 - val_loss: 0.6152 - val_mae: 0.7628\n",
      "Epoch 10/10\n",
      "1/2 [==============>...............] - ETA: 0s - loss: 0.2557 - mae: 0.4066INFO:tensorflow:Assets written to: btc_lstm_bidirectional.model/assets\n"
     ]
    },
    {
     "name": "stderr",
     "output_type": "stream",
     "text": [
      "INFO:tensorflow:Assets written to: btc_lstm_bidirectional.model/assets\n"
     ]
    },
    {
     "name": "stdout",
     "output_type": "stream",
     "text": [
      "2/2 [==============================] - 3s 3s/step - loss: 0.2421 - mae: 0.3981 - val_loss: 0.5049 - val_mae: 0.6872\n",
      "1/1 [==============================] - 0s 268ms/step - loss: 0.1266 - mae: 0.3152\n",
      "Test MAE: 0.32\n"
     ]
    }
   ],
   "source": [
    "inputs = keras.Input(shape=(sequence_length, 1))\n",
    "x = layers.Bidirectional(layers.LSTM(16))(inputs)\n",
    "x = layers.Dense(32)(x)\n",
    "outputs = layers.Dense(1)(x)\n",
    "model = keras.Model(inputs, outputs)\n",
    "\n",
    "callbacks = [\n",
    "    keras.callbacks.ModelCheckpoint(\"btc_lstm_bidirectional.model\",\n",
    "                                    save_best_only=True)\n",
    "]\n",
    "model.compile(optimizer=\"rmsprop\", loss=\"mse\", metrics=['mae'])\n",
    "history = model.fit(train_dataset,\n",
    "                    epochs=10,\n",
    "                    validation_data = val_dataset,\n",
    "                    callbacks = callbacks)\n",
    "model = keras.models.load_model(\"btc_lstm_bidirectional.model\")\n",
    "print(f\"Test MAE: {model.evaluate(test_dataset)[1]:.2f}\")"
   ]
  },
  {
   "cell_type": "code",
   "execution_count": null,
   "metadata": {},
   "outputs": [],
   "source": []
  }
 ],
 "metadata": {
  "accelerator": "GPU",
  "colab": {
   "authorship_tag": "ABX9TyMx/LobYhXrYsFlp8PeIOIg",
   "gpuType": "T4",
   "include_colab_link": true,
   "provenance": []
  },
  "kernelspec": {
   "display_name": "Python 3 (ipykernel)",
   "language": "python",
   "name": "python3"
  },
  "language_info": {
   "codemirror_mode": {
    "name": "ipython",
    "version": 3
   },
   "file_extension": ".py",
   "mimetype": "text/x-python",
   "name": "python",
   "nbconvert_exporter": "python",
   "pygments_lexer": "ipython3",
   "version": "3.9.16"
  }
 },
 "nbformat": 4,
 "nbformat_minor": 1
}
