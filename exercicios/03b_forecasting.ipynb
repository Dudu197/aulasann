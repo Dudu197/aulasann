{
 "cells": [
  {
   "cell_type": "markdown",
   "metadata": {
    "colab_type": "text",
    "id": "view-in-github"
   },
   "source": [
    "<a href=\"https://colab.research.google.com/github/fboldt/aulasann/blob/main/aula10a_forecasting.ipynb\" target=\"_parent\"><img src=\"https://colab.research.google.com/assets/colab-badge.svg\" alt=\"Open In Colab\"/></a>"
   ]
  },
  {
   "cell_type": "code",
   "execution_count": 1,
   "metadata": {},
   "outputs": [],
   "source": [
    "!mkdir -p datasets\n",
    "!mkdir -p datasets/bitcoin"
   ]
  },
  {
   "cell_type": "code",
   "execution_count": 2,
   "metadata": {},
   "outputs": [
    {
     "name": "stdout",
     "output_type": "stream",
     "text": [
      "--2024-05-19 15:22:46--  https://gist.githubusercontent.com/Dudu197/a9a38c424fd41f82dc27ff34d8ee170f/raw/79927733065e72bbe8ab4d0a7255855e79584ae4/coin_prices.csv\n",
      "Resolving gist.githubusercontent.com (gist.githubusercontent.com)... 185.199.111.133, 185.199.108.133, 185.199.109.133, ...\n",
      "Connecting to gist.githubusercontent.com (gist.githubusercontent.com)|185.199.111.133|:443... connected.\n",
      "HTTP request sent, awaiting response... 200 OK\n",
      "Length: 8883805 (8.5M) [text/plain]\n",
      "Saving to: ‘datasets/bitcoin/coin_prices.csv.1’\n",
      "\n",
      "coin_prices.csv.1   100%[===================>]   8.47M  42.0MB/s    in 0.2s    \n",
      "\n",
      "2024-05-19 15:22:46 (42.0 MB/s) - ‘datasets/bitcoin/coin_prices.csv.1’ saved [8883805/8883805]\n",
      "\n"
     ]
    }
   ],
   "source": [
    "!wget https://gist.githubusercontent.com/Dudu197/a9a38c424fd41f82dc27ff34d8ee170f/raw/79927733065e72bbe8ab4d0a7255855e79584ae4/coin_prices.csv -P datasets/bitcoin"
   ]
  },
  {
   "cell_type": "code",
   "execution_count": 1,
   "metadata": {
    "colab": {
     "base_uri": "https://localhost:8080/"
    },
    "id": "KUxjHcpg3M8V",
    "outputId": "0a0b4f1e-0e1e-4fa1-f034-d640698fbee6"
   },
   "outputs": [
    {
     "name": "stderr",
     "output_type": "stream",
     "text": [
      "2024-05-21 18:45:37.366867: I tensorflow/core/util/port.cc:110] oneDNN custom operations are on. You may see slightly different numerical results due to floating-point round-off errors from different computation orders. To turn them off, set the environment variable `TF_ENABLE_ONEDNN_OPTS=0`.\n",
      "2024-05-21 18:45:37.391739: I tensorflow/core/platform/cpu_feature_guard.cc:182] This TensorFlow binary is optimized to use available CPU instructions in performance-critical operations.\n",
      "To enable the following instructions: AVX2 AVX_VNNI FMA, in other operations, rebuild TensorFlow with the appropriate compiler flags.\n",
      "2024-05-21 18:45:37.725709: W tensorflow/compiler/tf2tensorrt/utils/py_utils.cc:38] TF-TRT Warning: Could not find TensorRT\n"
     ]
    }
   ],
   "source": [
    "import pandas as pd\n",
    "import numpy as np\n",
    "from tensorflow import keras"
   ]
  },
  {
   "cell_type": "code",
   "execution_count": 2,
   "metadata": {},
   "outputs": [],
   "source": [
    "df = pd.read_csv(\"datasets/bitcoin/coin_prices.csv\")"
   ]
  },
  {
   "cell_type": "code",
   "execution_count": 3,
   "metadata": {},
   "outputs": [],
   "source": [
    "df = df[df[\"coin\"] == \"BTC\"]"
   ]
  },
  {
   "cell_type": "code",
   "execution_count": 4,
   "metadata": {},
   "outputs": [
    {
     "data": {
      "text/html": [
       "<div>\n",
       "<style scoped>\n",
       "    .dataframe tbody tr th:only-of-type {\n",
       "        vertical-align: middle;\n",
       "    }\n",
       "\n",
       "    .dataframe tbody tr th {\n",
       "        vertical-align: top;\n",
       "    }\n",
       "\n",
       "    .dataframe thead th {\n",
       "        text-align: right;\n",
       "    }\n",
       "</style>\n",
       "<table border=\"1\" class=\"dataframe\">\n",
       "  <thead>\n",
       "    <tr style=\"text-align: right;\">\n",
       "      <th></th>\n",
       "      <th>Unnamed: 0</th>\n",
       "      <th>date</th>\n",
       "      <th>coin</th>\n",
       "      <th>volume</th>\n",
       "      <th>price</th>\n",
       "    </tr>\n",
       "  </thead>\n",
       "  <tbody>\n",
       "    <tr>\n",
       "      <th>53</th>\n",
       "      <td>53</td>\n",
       "      <td>2021-05-13</td>\n",
       "      <td>BTC</td>\n",
       "      <td>7.852778e+10</td>\n",
       "      <td>47884.917106</td>\n",
       "    </tr>\n",
       "    <tr>\n",
       "      <th>154</th>\n",
       "      <td>154</td>\n",
       "      <td>2021-05-14</td>\n",
       "      <td>BTC</td>\n",
       "      <td>9.149487e+10</td>\n",
       "      <td>49997.846250</td>\n",
       "    </tr>\n",
       "    <tr>\n",
       "      <th>253</th>\n",
       "      <td>253</td>\n",
       "      <td>2021-05-15</td>\n",
       "      <td>BTC</td>\n",
       "      <td>5.551275e+10</td>\n",
       "      <td>50189.527235</td>\n",
       "    </tr>\n",
       "    <tr>\n",
       "      <th>353</th>\n",
       "      <td>353</td>\n",
       "      <td>2021-05-16</td>\n",
       "      <td>BTC</td>\n",
       "      <td>5.997922e+10</td>\n",
       "      <td>47480.816852</td>\n",
       "    </tr>\n",
       "    <tr>\n",
       "      <th>453</th>\n",
       "      <td>453</td>\n",
       "      <td>2021-05-17</td>\n",
       "      <td>BTC</td>\n",
       "      <td>6.306813e+10</td>\n",
       "      <td>46211.384370</td>\n",
       "    </tr>\n",
       "    <tr>\n",
       "      <th>...</th>\n",
       "      <td>...</td>\n",
       "      <td>...</td>\n",
       "      <td>...</td>\n",
       "      <td>...</td>\n",
       "      <td>...</td>\n",
       "    </tr>\n",
       "    <tr>\n",
       "      <th>90954</th>\n",
       "      <td>90954</td>\n",
       "      <td>2023-11-09</td>\n",
       "      <td>BTC</td>\n",
       "      <td>1.751828e+10</td>\n",
       "      <td>35661.036826</td>\n",
       "    </tr>\n",
       "    <tr>\n",
       "      <th>91054</th>\n",
       "      <td>91054</td>\n",
       "      <td>2023-11-10</td>\n",
       "      <td>BTC</td>\n",
       "      <td>3.753632e+10</td>\n",
       "      <td>36680.129620</td>\n",
       "    </tr>\n",
       "    <tr>\n",
       "      <th>91155</th>\n",
       "      <td>91155</td>\n",
       "      <td>2023-11-11</td>\n",
       "      <td>BTC</td>\n",
       "      <td>2.254243e+10</td>\n",
       "      <td>37338.914097</td>\n",
       "    </tr>\n",
       "    <tr>\n",
       "      <th>91254</th>\n",
       "      <td>91254</td>\n",
       "      <td>2023-11-12</td>\n",
       "      <td>BTC</td>\n",
       "      <td>1.390765e+10</td>\n",
       "      <td>37135.295578</td>\n",
       "    </tr>\n",
       "    <tr>\n",
       "      <th>91356</th>\n",
       "      <td>91356</td>\n",
       "      <td>2023-11-13</td>\n",
       "      <td>BTC</td>\n",
       "      <td>1.141887e+10</td>\n",
       "      <td>37095.188812</td>\n",
       "    </tr>\n",
       "  </tbody>\n",
       "</table>\n",
       "<p>914 rows × 5 columns</p>\n",
       "</div>"
      ],
      "text/plain": [
       "       Unnamed: 0        date coin        volume         price\n",
       "53             53  2021-05-13  BTC  7.852778e+10  47884.917106\n",
       "154           154  2021-05-14  BTC  9.149487e+10  49997.846250\n",
       "253           253  2021-05-15  BTC  5.551275e+10  50189.527235\n",
       "353           353  2021-05-16  BTC  5.997922e+10  47480.816852\n",
       "453           453  2021-05-17  BTC  6.306813e+10  46211.384370\n",
       "...           ...         ...  ...           ...           ...\n",
       "90954       90954  2023-11-09  BTC  1.751828e+10  35661.036826\n",
       "91054       91054  2023-11-10  BTC  3.753632e+10  36680.129620\n",
       "91155       91155  2023-11-11  BTC  2.254243e+10  37338.914097\n",
       "91254       91254  2023-11-12  BTC  1.390765e+10  37135.295578\n",
       "91356       91356  2023-11-13  BTC  1.141887e+10  37095.188812\n",
       "\n",
       "[914 rows x 5 columns]"
      ]
     },
     "execution_count": 4,
     "metadata": {},
     "output_type": "execute_result"
    }
   ],
   "source": [
    "df"
   ]
  },
  {
   "cell_type": "code",
   "execution_count": 5,
   "metadata": {},
   "outputs": [],
   "source": [
    "from matplotlib import pyplot as plt"
   ]
  },
  {
   "cell_type": "code",
   "execution_count": 6,
   "metadata": {},
   "outputs": [
    {
     "data": {
      "text/plain": [
       "<Axes: >"
      ]
     },
     "execution_count": 6,
     "metadata": {},
     "output_type": "execute_result"
    },
    {
     "data": {
      "image/png": "[encoded data removed]",
      "text/plain": [
       "<Figure size 640x480 with 1 Axes>"
      ]
     },
     "metadata": {},
     "output_type": "display_data"
    }
   ],
   "source": [
    "df[\"volume\"].plot()"
   ]
  },
  {
   "cell_type": "code",
   "execution_count": 7,
   "metadata": {},
   "outputs": [
    {
     "data": {
      "text/plain": [
       "<Axes: >"
      ]
     },
     "execution_count": 7,
     "metadata": {},
     "output_type": "execute_result"
    },
    {
     "data": {
      "image/png": "[encoded data removed]",
      "text/plain": [
       "<Figure size 640x480 with 1 Axes>"
      ]
     },
     "metadata": {},
     "output_type": "display_data"
    }
   ],
   "source": [
    "df[\"price\"].plot()"
   ]
  },
  {
   "cell_type": "code",
   "execution_count": 8,
   "metadata": {
    "colab": {
     "base_uri": "https://localhost:8080/"
    },
    "id": "0ndphMr69h1T",
    "outputId": "d3d1158d-1698-4fab-ddcc-cf16e434f342"
   },
   "outputs": [
    {
     "data": {
      "text/plain": [
       "(457, 228, 229)"
      ]
     },
     "execution_count": 8,
     "metadata": {},
     "output_type": "execute_result"
    }
   ],
   "source": [
    "num_train_samples = int(0.5 * len(df))\n",
    "num_val_samples = int(0.25 * len(df))\n",
    "num_test_samples = len(df) - num_train_samples - num_val_samples\n",
    "(num_train_samples, num_val_samples, num_test_samples)"
   ]
  },
  {
   "cell_type": "code",
   "execution_count": 9,
   "metadata": {
    "id": "Dx0-BSu-93pX"
   },
   "outputs": [],
   "source": [
    "price_mean = df.iloc[:num_train_samples][\"price\"].mean(axis=0)\n",
    "df[\"price\"] -= price_mean\n",
    "price_std = df.iloc[:num_train_samples][\"price\"].std(axis=0)\n",
    "df[\"price\"] /= price_std"
   ]
  },
  {
   "cell_type": "code",
   "execution_count": 10,
   "metadata": {},
   "outputs": [],
   "source": [
    "volume_mean = df.iloc[:num_train_samples][\"volume\"].mean(axis=0)\n",
    "df[\"volume\"] -= price_mean\n",
    "volume_std = df.iloc[:num_train_samples][\"volume\"].std(axis=0)\n",
    "df[\"volume\"] /= price_std"
   ]
  },
  {
   "cell_type": "code",
   "execution_count": 11,
   "metadata": {},
   "outputs": [],
   "source": [
    "prices = df[\"price\"].values\n",
    "prices = np.concatenate([prices[1:], [prices[-1]]])\n",
    "df[\"next_price\"] = prices"
   ]
  },
  {
   "cell_type": "code",
   "execution_count": 12,
   "metadata": {
    "colab": {
     "base_uri": "https://localhost:8080/"
    },
    "id": "-XhUwNcf-pud",
    "outputId": "8d601385-d9d8-4764-aef5-7cb0667b39a9"
   },
   "outputs": [
    {
     "name": "stderr",
     "output_type": "stream",
     "text": [
      "2024-05-21 18:45:45.474493: I tensorflow/compiler/xla/stream_executor/cuda/cuda_gpu_executor.cc:981] could not open file to read NUMA node: /sys/bus/pci/devices/0000:01:00.0/numa_node\n",
      "Your kernel may have been built without NUMA support.\n",
      "2024-05-21 18:45:45.498476: I tensorflow/compiler/xla/stream_executor/cuda/cuda_gpu_executor.cc:981] could not open file to read NUMA node: /sys/bus/pci/devices/0000:01:00.0/numa_node\n",
      "Your kernel may have been built without NUMA support.\n",
      "2024-05-21 18:45:45.498950: I tensorflow/compiler/xla/stream_executor/cuda/cuda_gpu_executor.cc:981] could not open file to read NUMA node: /sys/bus/pci/devices/0000:01:00.0/numa_node\n",
      "Your kernel may have been built without NUMA support.\n",
      "2024-05-21 18:45:45.500463: I tensorflow/compiler/xla/stream_executor/cuda/cuda_gpu_executor.cc:981] could not open file to read NUMA node: /sys/bus/pci/devices/0000:01:00.0/numa_node\n",
      "Your kernel may have been built without NUMA support.\n",
      "2024-05-21 18:45:45.500663: I tensorflow/compiler/xla/stream_executor/cuda/cuda_gpu_executor.cc:981] could not open file to read NUMA node: /sys/bus/pci/devices/0000:01:00.0/numa_node\n",
      "Your kernel may have been built without NUMA support.\n",
      "2024-05-21 18:45:45.500970: I tensorflow/compiler/xla/stream_executor/cuda/cuda_gpu_executor.cc:981] could not open file to read NUMA node: /sys/bus/pci/devices/0000:01:00.0/numa_node\n",
      "Your kernel may have been built without NUMA support.\n",
      "2024-05-21 18:45:45.576348: I tensorflow/compiler/xla/stream_executor/cuda/cuda_gpu_executor.cc:981] could not open file to read NUMA node: /sys/bus/pci/devices/0000:01:00.0/numa_node\n",
      "Your kernel may have been built without NUMA support.\n",
      "2024-05-21 18:45:45.576544: I tensorflow/compiler/xla/stream_executor/cuda/cuda_gpu_executor.cc:981] could not open file to read NUMA node: /sys/bus/pci/devices/0000:01:00.0/numa_node\n",
      "Your kernel may have been built without NUMA support.\n",
      "2024-05-21 18:45:45.576551: I tensorflow/core/common_runtime/gpu/gpu_device.cc:1726] Could not identify NUMA node of platform GPU id 0, defaulting to 0.  Your kernel may not have been built with NUMA support.\n",
      "2024-05-21 18:45:45.576700: I tensorflow/compiler/xla/stream_executor/cuda/cuda_gpu_executor.cc:981] could not open file to read NUMA node: /sys/bus/pci/devices/0000:01:00.0/numa_node\n",
      "Your kernel may have been built without NUMA support.\n",
      "2024-05-21 18:45:45.576719: I tensorflow/core/common_runtime/gpu/gpu_device.cc:1639] Created device /job:localhost/replica:0/task:0/device:GPU:0 with 9066 MB memory:  -> device: 0, name: NVIDIA GeForce RTX 4070, pci bus id: 0000:01:00.0, compute capability: 8.9\n"
     ]
    },
    {
     "name": "stdout",
     "output_type": "stream",
     "text": [
      "[<tf.Tensor: shape=(2,), dtype=float64, numpy=array([ 2.36175638e+06, -6.07241486e-01])>, <tf.Tensor: shape=(2,), dtype=float64, numpy=array([ 2.16596378e+06, -5.32369483e-01])>, <tf.Tensor: shape=(2,), dtype=float64, numpy=array([ 2.25002805e+06, -4.90069818e-01])>]\n",
      "0\n",
      "[<tf.Tensor: shape=(2,), dtype=float64, numpy=array([ 3.75919436e+06, -1.91526149e+00])>, <tf.Tensor: shape=(2,), dtype=float64, numpy=array([ 3.14409140e+06, -1.78996007e+00])>, <tf.Tensor: shape=(2,), dtype=float64, numpy=array([ 2.73491073e+06, -1.77190399e+00])>]\n",
      "-1\n",
      "[<tf.Tensor: shape=(2,), dtype=float64, numpy=array([ 2.34787906e+06, -3.17307018e-01])>, <tf.Tensor: shape=(2,), dtype=float64, numpy=array([ 2.80356031e+06, -3.16730917e-01])>, <tf.Tensor: shape=(2,), dtype=float64, numpy=array([ 2.25080750e+06, -2.81001906e-01])>]\n",
      "0\n",
      "[<tf.Tensor: shape=(2,), dtype=float64, numpy=array([3.47331233e+06, 1.79006328e+00])>, <tf.Tensor: shape=(2,), dtype=float64, numpy=array([3.71990994e+06, 1.50448351e+00])>, <tf.Tensor: shape=(2,), dtype=float64, numpy=array([3.44752546e+06, 1.60450649e+00])>]\n",
      "1\n",
      "[<tf.Tensor: shape=(2,), dtype=float64, numpy=array([3.08533899e+06, 7.70589884e-01])>, <tf.Tensor: shape=(2,), dtype=float64, numpy=array([3.58128357e+06, 7.53121797e-01])>, <tf.Tensor: shape=(2,), dtype=float64, numpy=array([2.26468551e+06, 7.99086845e-01])>]\n",
      "0\n",
      "[<tf.Tensor: shape=(2,), dtype=float64, numpy=array([2.67475633e+06, 5.18279207e-01])>, <tf.Tensor: shape=(2,), dtype=float64, numpy=array([2.36226182e+06, 6.09026484e-01])>, <tf.Tensor: shape=(2,), dtype=float64, numpy=array([3.31946791e+06, 5.24026658e-01])>]\n",
      "0\n",
      "[<tf.Tensor: shape=(2,), dtype=float64, numpy=array([2.52142217e+06, 1.51152026e+00])>, <tf.Tensor: shape=(2,), dtype=float64, numpy=array([2.88770332e+06, 1.55534322e+00])>, <tf.Tensor: shape=(2,), dtype=float64, numpy=array([3.28147235e+06, 1.50657059e+00])>]\n",
      "1\n",
      "[<tf.Tensor: shape=(2,), dtype=float64, numpy=array([3.53470907e+06, 1.27978940e+00])>, <tf.Tensor: shape=(2,), dtype=float64, numpy=array([3.77065159e+06, 1.47008564e+00])>, <tf.Tensor: shape=(2,), dtype=float64, numpy=array([3.65866922e+06, 1.40865249e+00])>]\n",
      "1\n",
      "[<tf.Tensor: shape=(2,), dtype=float64, numpy=array([3.01946761e+06, 1.84078863e+00])>, <tf.Tensor: shape=(2,), dtype=float64, numpy=array([2.58108193e+06, 1.87216549e+00])>, <tf.Tensor: shape=(2,), dtype=float64, numpy=array([3.39865495e+06, 1.94106111e+00])>]\n",
      "1\n",
      "[<tf.Tensor: shape=(2,), dtype=float64, numpy=array([3.53075430e+06, 5.31950422e-02])>, <tf.Tensor: shape=(2,), dtype=float64, numpy=array([1.95633754e+06, 3.14263308e-02])>, <tf.Tensor: shape=(2,), dtype=float64, numpy=array([3.06136366e+06, 1.18383949e-01])>]\n",
      "0\n",
      "[<tf.Tensor: shape=(2,), dtype=float64, numpy=array([ 1.66162937e+06, -7.93194008e-01])>, <tf.Tensor: shape=(2,), dtype=float64, numpy=array([ 1.67205997e+06, -7.72993631e-01])>, <tf.Tensor: shape=(2,), dtype=float64, numpy=array([ 1.81852618e+06, -8.55902507e-01])>]\n",
      "0\n",
      "[<tf.Tensor: shape=(2,), dtype=float64, numpy=array([ 4.92360890e+06, -4.13778024e-01])>, <tf.Tensor: shape=(2,), dtype=float64, numpy=array([ 3.96397720e+06, -5.55074271e-01])>, <tf.Tensor: shape=(2,), dtype=float64, numpy=array([ 2.82501477e+06, -4.14531433e-01])>]\n",
      "0\n",
      "[<tf.Tensor: shape=(2,), dtype=float64, numpy=array([2.26162228e+06, 8.44173563e-02])>, <tf.Tensor: shape=(2,), dtype=float64, numpy=array([ 2.35524051e+06, -3.78646050e-02])>, <tf.Tensor: shape=(2,), dtype=float64, numpy=array([ 2.27322953e+06, -1.41953498e-01])>]\n",
      "0\n",
      "[<tf.Tensor: shape=(2,), dtype=float64, numpy=array([3.17815239e+06, 1.96962767e-04])>, <tf.Tensor: shape=(2,), dtype=float64, numpy=array([ 2.48234769e+06, -6.34008168e-02])>, <tf.Tensor: shape=(2,), dtype=float64, numpy=array([ 1.43240619e+06, -8.11663666e-02])>]\n",
      "0\n",
      "[<tf.Tensor: shape=(2,), dtype=float64, numpy=array([7.52171998e+06, 1.05296500e-01])>, <tf.Tensor: shape=(2,), dtype=float64, numpy=array([2.49901757e+06, 9.61539474e-02])>, <tf.Tensor: shape=(2,), dtype=float64, numpy=array([1.88847989e+06, 1.28063900e-01])>]\n",
      "0\n"
     ]
    }
   ],
   "source": [
    "import numpy as np\n",
    "from tensorflow import keras\n",
    "int_sequence = np.arange(10)\n",
    "dummy_dataset = keras.utils.timeseries_dataset_from_array(\n",
    "    data = df.iloc[:num_train_samples][[\"volume\", \"price\"]].values,\n",
    "    targets = df.iloc[:num_train_samples][\"next_price\"].values,\n",
    "    sequence_length = 3,\n",
    "    batch_size = 32,\n",
    "    shuffle = True,\n",
    ")\n",
    "for inputs, targets in dummy_dataset:\n",
    "  for i in range(inputs.shape[0]):\n",
    "    print([x for x in inputs[i]])\n",
    "    print(int(targets[i]))\n",
    "    break"
   ]
  },
  {
   "cell_type": "code",
   "execution_count": 13,
   "metadata": {},
   "outputs": [
    {
     "data": {
      "text/plain": [
       "457"
      ]
     },
     "execution_count": 13,
     "metadata": {},
     "output_type": "execute_result"
    }
   ],
   "source": [
    "num_train_samples"
   ]
  },
  {
   "cell_type": "code",
   "execution_count": 14,
   "metadata": {},
   "outputs": [
    {
     "data": {
      "text/plain": [
       "914"
      ]
     },
     "execution_count": 14,
     "metadata": {},
     "output_type": "execute_result"
    }
   ],
   "source": [
    "len(df)"
   ]
  },
  {
   "cell_type": "code",
   "execution_count": 15,
   "metadata": {
    "id": "l1aCJN9uBm58"
   },
   "outputs": [],
   "source": [
    "sampling_rate = 6\n",
    "sequence_length = 7\n",
    "batch_size = 256\n",
    "train_dataset = keras.utils.timeseries_dataset_from_array(\n",
    "    data = df.iloc[:num_train_samples][[\"volume\", \"price\"]].values,\n",
    "    targets = df.iloc[:num_train_samples][\"next_price\"].values,\n",
    "    sampling_rate = sampling_rate,\n",
    "    sequence_length = sequence_length,\n",
    "    shuffle = True,\n",
    "    batch_size = batch_size)\n",
    "\n",
    "val_index = num_train_samples + num_val_samples\n",
    "val_dataset = keras.utils.timeseries_dataset_from_array(\n",
    "    data = df.iloc[num_train_samples:val_index][[\"volume\", \"price\"]].values,\n",
    "    targets = df.iloc[num_train_samples:val_index][\"next_price\"].values,\n",
    "    sampling_rate = sampling_rate,\n",
    "    sequence_length = sequence_length,\n",
    "    shuffle = True,\n",
    "    batch_size = batch_size)\n",
    "\n",
    "test_index = val_index + num_test_samples\n",
    "test_dataset = keras.utils.timeseries_dataset_from_array(\n",
    "    data = df.iloc[val_index:][[\"volume\", \"price\"]].values,\n",
    "    targets = df.iloc[val_index:][\"next_price\"].values,\n",
    "    sampling_rate = sampling_rate,\n",
    "    sequence_length = sequence_length,\n",
    "    shuffle = True,\n",
    "    batch_size = batch_size)"
   ]
  },
  {
   "cell_type": "code",
   "execution_count": 16,
   "metadata": {
    "colab": {
     "base_uri": "https://localhost:8080/"
    },
    "id": "VRZe2w_6DYwN",
    "outputId": "d8b2f31c-309e-4a28-af4f-d71301f71a63"
   },
   "outputs": [
    {
     "name": "stdout",
     "output_type": "stream",
     "text": [
      "samples shape (256, 7, 2)\n",
      "targets shape (256,)\n"
     ]
    }
   ],
   "source": [
    "for samples, targets in train_dataset:\n",
    "  print(\"samples shape\", samples.shape)\n",
    "  print(\"targets shape\", targets.shape)\n",
    "  break"
   ]
  },
  {
   "cell_type": "markdown",
   "metadata": {
    "id": "lfcYSNkCDtoH"
   },
   "source": [
    "# baseline"
   ]
  },
  {
   "cell_type": "code",
   "execution_count": 17,
   "metadata": {
    "colab": {
     "base_uri": "https://localhost:8080/"
    },
    "id": "Se5vQL43DgDP",
    "outputId": "f2acf767-73b0-4d81-cca8-fd3349e1bb25"
   },
   "outputs": [
    {
     "name": "stdout",
     "output_type": "stream",
     "text": [
      "Validation MAE: 0.23\n",
      "Test MAE: 0.26\n"
     ]
    }
   ],
   "source": [
    "def evaluate_naive_method(dataset):\n",
    "  total_abs_err = 0.\n",
    "  samples_seen = 0\n",
    "  for samples, targets in dataset:\n",
    "    preds = samples[:, -1, 1]\n",
    "    total_abs_err += np.sum(np.abs(preds - targets))\n",
    "    samples_seen += samples.shape[0]\n",
    "  return total_abs_err / samples_seen\n",
    "print(f\"Validation MAE: {evaluate_naive_method(val_dataset):.2f}\")\n",
    "print(f\"Test MAE: {evaluate_naive_method(test_dataset):.2f}\")"
   ]
  },
  {
   "cell_type": "markdown",
   "metadata": {
    "id": "TCiXemYCFavf"
   },
   "source": [
    "# densely conected"
   ]
  },
  {
   "cell_type": "code",
   "execution_count": 24,
   "metadata": {
    "colab": {
     "base_uri": "https://localhost:8080/"
    },
    "id": "-11VBrC1FHNF",
    "outputId": "bb5d896c-c3b9-4d5a-d049-d01148e69527"
   },
   "outputs": [
    {
     "name": "stdout",
     "output_type": "stream",
     "text": [
      "Epoch 1/10\n",
      "1/2 [==============>...............] - ETA: 0s - loss: 2717809377280.0000 - mae: 1609118.7500INFO:tensorflow:Assets written to: btc_b_dense.model/assets\n"
     ]
    },
    {
     "name": "stderr",
     "output_type": "stream",
     "text": [
      "INFO:tensorflow:Assets written to: btc_b_dense.model/assets\n"
     ]
    },
    {
     "name": "stdout",
     "output_type": "stream",
     "text": [
      "2/2 [==============================] - 1s 317ms/step - loss: 2140406415360.0000 - mae: 1404939.0000 - val_loss: 812214452224.0000 - val_mae: 812613.5000\n",
      "Epoch 2/10\n",
      "1/2 [==============>...............] - ETA: 0s - loss: 716053151744.0000 - mae: 819847.3750INFO:tensorflow:Assets written to: btc_b_dense.model/assets\n"
     ]
    },
    {
     "name": "stderr",
     "output_type": "stream",
     "text": [
      "INFO:tensorflow:Assets written to: btc_b_dense.model/assets\n"
     ]
    },
    {
     "name": "stdout",
     "output_type": "stream",
     "text": [
      "2/2 [==============================] - 0s 337ms/step - loss: 622501036032.0000 - mae: 753565.1875 - val_loss: 329232384000.0000 - val_mae: 471857.4062\n",
      "Epoch 3/10\n",
      "1/2 [==============>...............] - ETA: 0s - loss: 242085560320.0000 - mae: 453216.0312INFO:tensorflow:Assets written to: btc_b_dense.model/assets\n"
     ]
    },
    {
     "name": "stderr",
     "output_type": "stream",
     "text": [
      "INFO:tensorflow:Assets written to: btc_b_dense.model/assets\n"
     ]
    },
    {
     "name": "stdout",
     "output_type": "stream",
     "text": [
      "2/2 [==============================] - 0s 269ms/step - loss: 205181075456.0000 - mae: 406415.0000 - val_loss: 152555569152.0000 - val_mae: 272931.3438\n",
      "Epoch 4/10\n",
      "1/2 [==============>...............] - ETA: 0s - loss: 85825126400.0000 - mae: 232422.3438INFO:tensorflow:Assets written to: btc_b_dense.model/assets\n"
     ]
    },
    {
     "name": "stderr",
     "output_type": "stream",
     "text": [
      "INFO:tensorflow:Assets written to: btc_b_dense.model/assets\n"
     ]
    },
    {
     "name": "stdout",
     "output_type": "stream",
     "text": [
      "2/2 [==============================] - 0s 271ms/step - loss: 72186724352.0000 - mae: 206534.5312 - val_loss: 95125102592.0000 - val_mae: 205840.2031\n",
      "Epoch 5/10\n",
      "1/2 [==============>...............] - ETA: 0s - loss: 39309959168.0000 - mae: 144261.8281INFO:tensorflow:Assets written to: btc_b_dense.model/assets\n"
     ]
    },
    {
     "name": "stderr",
     "output_type": "stream",
     "text": [
      "INFO:tensorflow:Assets written to: btc_b_dense.model/assets\n"
     ]
    },
    {
     "name": "stdout",
     "output_type": "stream",
     "text": [
      "2/2 [==============================] - 0s 420ms/step - loss: 38954205184.0000 - mae: 142675.1562 - val_loss: 74720460800.0000 - val_mae: 188409.5156\n",
      "Epoch 6/10\n",
      "1/2 [==============>...............] - ETA: 0s - loss: 35556548608.0000 - mae: 136547.9219INFO:tensorflow:Assets written to: btc_b_dense.model/assets\n"
     ]
    },
    {
     "name": "stderr",
     "output_type": "stream",
     "text": [
      "INFO:tensorflow:Assets written to: btc_b_dense.model/assets\n"
     ]
    },
    {
     "name": "stdout",
     "output_type": "stream",
     "text": [
      "2/2 [==============================] - 0s 347ms/step - loss: 31123126272.0000 - mae: 130265.4531 - val_loss: 65406644224.0000 - val_mae: 178755.1250\n",
      "Epoch 7/10\n",
      "1/2 [==============>...............] - ETA: 0s - loss: 29486409728.0000 - mae: 127197.6484INFO:tensorflow:Assets written to: btc_b_dense.model/assets\n"
     ]
    },
    {
     "name": "stderr",
     "output_type": "stream",
     "text": [
      "INFO:tensorflow:Assets written to: btc_b_dense.model/assets\n"
     ]
    },
    {
     "name": "stdout",
     "output_type": "stream",
     "text": [
      "2/2 [==============================] - 0s 400ms/step - loss: 27607482368.0000 - mae: 124071.3047 - val_loss: 57414336512.0000 - val_mae: 169186.2969\n",
      "Epoch 8/10\n",
      "1/2 [==============>...............] - ETA: 0s - loss: 25441310720.0000 - mae: 118739.6016INFO:tensorflow:Assets written to: btc_b_dense.model/assets\n"
     ]
    },
    {
     "name": "stderr",
     "output_type": "stream",
     "text": [
      "INFO:tensorflow:Assets written to: btc_b_dense.model/assets\n"
     ]
    },
    {
     "name": "stdout",
     "output_type": "stream",
     "text": [
      "2/2 [==============================] - 0s 306ms/step - loss: 24526219264.0000 - mae: 117550.9297 - val_loss: 49906331648.0000 - val_mae: 159366.9531\n",
      "Epoch 9/10\n",
      "1/2 [==============>...............] - ETA: 0s - loss: 20153681920.0000 - mae: 108819.5156INFO:tensorflow:Assets written to: btc_b_dense.model/assets\n"
     ]
    },
    {
     "name": "stderr",
     "output_type": "stream",
     "text": [
      "INFO:tensorflow:Assets written to: btc_b_dense.model/assets\n"
     ]
    },
    {
     "name": "stdout",
     "output_type": "stream",
     "text": [
      "2/2 [==============================] - 0s 265ms/step - loss: 21725003776.0000 - mae: 111417.7422 - val_loss: 42780127232.0000 - val_mae: 148922.0156\n",
      "Epoch 10/10\n",
      "1/2 [==============>...............] - ETA: 0s - loss: 20168472576.0000 - mae: 106750.2422INFO:tensorflow:Assets written to: btc_b_dense.model/assets\n"
     ]
    },
    {
     "name": "stderr",
     "output_type": "stream",
     "text": [
      "INFO:tensorflow:Assets written to: btc_b_dense.model/assets\n"
     ]
    },
    {
     "name": "stdout",
     "output_type": "stream",
     "text": [
      "2/2 [==============================] - 0s 283ms/step - loss: 19024062464.0000 - mae: 104907.7656 - val_loss: 36836470784.0000 - val_mae: 138028.0156\n",
      "1/1 [==============================] - 0s 70ms/step - loss: 6757544448.0000 - mae: 66603.2656\n",
      "Test MAE: 66603.27\n"
     ]
    }
   ],
   "source": [
    "from tensorflow import keras\n",
    "from tensorflow.keras import layers\n",
    "\n",
    "inputs = keras.Input(shape=(sequence_length, 2))\n",
    "x = layers.Flatten()(inputs)\n",
    "x = layers.Dense(16, activation=\"relu\")(x)\n",
    "x = layers.Dense(32, activation=\"relu\")(x)\n",
    "x = layers.Dense(64, activation=\"relu\")(x)\n",
    "outputs = layers.Dense(1)(x)\n",
    "model = keras.Model(inputs, outputs)\n",
    "\n",
    "callbacks = [\n",
    "    keras.callbacks.ModelCheckpoint(\"btc_b_dense.model\",\n",
    "                                    save_best_only=True)\n",
    "]\n",
    "model.compile(optimizer=\"rmsprop\", loss=\"mse\", metrics=['mae'])\n",
    "history = model.fit(train_dataset,\n",
    "                    epochs=10,\n",
    "                    validation_data = val_dataset,\n",
    "                    callbacks = callbacks)\n",
    "model = keras.models.load_model(\"btc_b_dense.model\")\n",
    "print(f\"Test MAE: {model.evaluate(test_dataset)[1]:.2f}\")"
   ]
  },
  {
   "cell_type": "code",
   "execution_count": 19,
   "metadata": {
    "colab": {
     "base_uri": "https://localhost:8080/",
     "height": 452
    },
    "id": "GtW9DnuvHR9E",
    "outputId": "f3d7a86c-147c-40cf-d8f6-92efc627038e"
   },
   "outputs": [
    {
     "data": {
      "image/png": "[encoded data removed]",
      "text/plain": [
       "<Figure size 640x480 with 1 Axes>"
      ]
     },
     "metadata": {},
     "output_type": "display_data"
    }
   ],
   "source": [
    "import matplotlib.pyplot as plt\n",
    "loss = history.history[\"mae\"]\n",
    "val_loss = history.history[\"val_mae\"]\n",
    "epochs = range(1, len(loss)+1)\n",
    "plt.figure()\n",
    "plt.plot(epochs, loss, \"bo\", label=\"Training MAE\")\n",
    "plt.plot(epochs, val_loss, \"b\", label=\"Validation MAE\")\n",
    "plt.title(\"Training and Validation MAE\")\n",
    "plt.legend()\n",
    "plt.show()"
   ]
  },
  {
   "cell_type": "markdown",
   "metadata": {
    "id": "lcNQ4GpQJ2yC"
   },
   "source": [
    "# LSTM"
   ]
  },
  {
   "cell_type": "code",
   "execution_count": 36,
   "metadata": {
    "colab": {
     "base_uri": "https://localhost:8080/"
    },
    "id": "xkbGKTxqJ5zC",
    "outputId": "432912d0-2c56-4b15-c4f1-ad5b147aafc6"
   },
   "outputs": [
    {
     "name": "stdout",
     "output_type": "stream",
     "text": [
      "Epoch 1/10\n",
      "1/2 [==============>...............] - ETA: 0s - loss: 1793967915008.0000 - mae: 1281364.8750INFO:tensorflow:Assets written to: btc_b_lstm.model/assets\n"
     ]
    },
    {
     "name": "stderr",
     "output_type": "stream",
     "text": [
      "INFO:tensorflow:Assets written to: btc_b_lstm.model/assets\n"
     ]
    },
    {
     "name": "stdout",
     "output_type": "stream",
     "text": [
      "2/2 [==============================] - 1s 272ms/step - loss: 1733051547648.0000 - mae: 1251885.2500 - val_loss: 1313766768640.0000 - val_mae: 1024332.5625\n",
      "Epoch 2/10\n",
      "1/2 [==============>...............] - ETA: 0s - loss: 1403054587904.0000 - mae: 1126588.2500INFO:tensorflow:Assets written to: btc_b_lstm.model/assets\n"
     ]
    },
    {
     "name": "stderr",
     "output_type": "stream",
     "text": [
      "INFO:tensorflow:Assets written to: btc_b_lstm.model/assets\n"
     ]
    },
    {
     "name": "stdout",
     "output_type": "stream",
     "text": [
      "2/2 [==============================] - 0s 370ms/step - loss: 1354449289216.0000 - mae: 1106297.3750 - val_loss: 1091549724672.0000 - val_mae: 933691.8750\n",
      "Epoch 3/10\n",
      "1/2 [==============>...............] - ETA: 0s - loss: 1164320702464.0000 - mae: 1023976.5000INFO:tensorflow:Assets written to: btc_b_lstm.model/assets\n"
     ]
    },
    {
     "name": "stderr",
     "output_type": "stream",
     "text": [
      "INFO:tensorflow:Assets written to: btc_b_lstm.model/assets\n"
     ]
    },
    {
     "name": "stdout",
     "output_type": "stream",
     "text": [
      "2/2 [==============================] - 0s 268ms/step - loss: 1131109416960.0000 - mae: 1011008.3750 - val_loss: 927562727424.0000 - val_mae: 860703.4375\n",
      "Epoch 4/10\n",
      "1/2 [==============>...............] - ETA: 0s - loss: 1010007605248.0000 - mae: 952178.4375INFO:tensorflow:Assets written to: btc_b_lstm.model/assets\n"
     ]
    },
    {
     "name": "stderr",
     "output_type": "stream",
     "text": [
      "INFO:tensorflow:Assets written to: btc_b_lstm.model/assets\n"
     ]
    },
    {
     "name": "stdout",
     "output_type": "stream",
     "text": [
      "2/2 [==============================] - 0s 225ms/step - loss: 963700523008.0000 - mae: 932952.2500 - val_loss: 796592373760.0000 - val_mae: 797627.1250\n",
      "Epoch 5/10\n",
      "1/2 [==============>...............] - ETA: 0s - loss: 843742511104.0000 - mae: 871974.1250INFO:tensorflow:Assets written to: btc_b_lstm.model/assets\n"
     ]
    },
    {
     "name": "stderr",
     "output_type": "stream",
     "text": [
      "INFO:tensorflow:Assets written to: btc_b_lstm.model/assets\n"
     ]
    },
    {
     "name": "stdout",
     "output_type": "stream",
     "text": [
      "2/2 [==============================] - 0s 224ms/step - loss: 827864842240.0000 - mae: 865041.6250 - val_loss: 685768769536.0000 - val_mae: 740066.5000\n",
      "Epoch 6/10\n",
      "1/2 [==============>...............] - ETA: 0s - loss: 717677789184.0000 - mae: 808353.5000INFO:tensorflow:Assets written to: btc_b_lstm.model/assets\n"
     ]
    },
    {
     "name": "stderr",
     "output_type": "stream",
     "text": [
      "INFO:tensorflow:Assets written to: btc_b_lstm.model/assets\n"
     ]
    },
    {
     "name": "stdout",
     "output_type": "stream",
     "text": [
      "2/2 [==============================] - 0s 231ms/step - loss: 712733687808.0000 - mae: 802837.6875 - val_loss: 590511079424.0000 - val_mae: 686745.6250\n",
      "Epoch 7/10\n",
      "1/2 [==============>...............] - ETA: 0s - loss: 633686327296.0000 - mae: 756576.6875INFO:tensorflow:Assets written to: btc_b_lstm.model/assets\n"
     ]
    },
    {
     "name": "stderr",
     "output_type": "stream",
     "text": [
      "INFO:tensorflow:Assets written to: btc_b_lstm.model/assets\n"
     ]
    },
    {
     "name": "stdout",
     "output_type": "stream",
     "text": [
      "2/2 [==============================] - 0s 224ms/step - loss: 613913133056.0000 - mae: 744831.6250 - val_loss: 508374974464.0000 - val_mae: 637197.3750\n",
      "Epoch 8/10\n",
      "1/2 [==============>...............] - ETA: 0s - loss: 545927954432.0000 - mae: 701867.5000INFO:tensorflow:Assets written to: btc_b_lstm.model/assets\n"
     ]
    },
    {
     "name": "stderr",
     "output_type": "stream",
     "text": [
      "INFO:tensorflow:Assets written to: btc_b_lstm.model/assets\n"
     ]
    },
    {
     "name": "stdout",
     "output_type": "stream",
     "text": [
      "2/2 [==============================] - 0s 215ms/step - loss: 528248930304.0000 - mae: 690894.7500 - val_loss: 436281180160.0000 - val_mae: 590289.5625\n",
      "Epoch 9/10\n",
      "1/2 [==============>...............] - ETA: 0s - loss: 479662342144.0000 - mae: 656960.5625INFO:tensorflow:Assets written to: btc_b_lstm.model/assets\n"
     ]
    },
    {
     "name": "stderr",
     "output_type": "stream",
     "text": [
      "INFO:tensorflow:Assets written to: btc_b_lstm.model/assets\n"
     ]
    },
    {
     "name": "stdout",
     "output_type": "stream",
     "text": [
      "2/2 [==============================] - 0s 238ms/step - loss: 453204606976.0000 - mae: 639719.4375 - val_loss: 373144322048.0000 - val_mae: 545909.1250\n",
      "Epoch 10/10\n",
      "1/2 [==============>...............] - ETA: 0s - loss: 406494412800.0000 - mae: 606711.8750INFO:tensorflow:Assets written to: btc_b_lstm.model/assets\n"
     ]
    },
    {
     "name": "stderr",
     "output_type": "stream",
     "text": [
      "INFO:tensorflow:Assets written to: btc_b_lstm.model/assets\n"
     ]
    },
    {
     "name": "stdout",
     "output_type": "stream",
     "text": [
      "2/2 [==============================] - 0s 228ms/step - loss: 387136323584.0000 - mae: 591358.8750 - val_loss: 317121003520.0000 - val_mae: 503262.3438\n",
      "1/1 [==============================] - 0s 78ms/step - loss: 68961992704.0000 - mae: 244334.7031\n",
      "Test MAE: 244334.70\n"
     ]
    }
   ],
   "source": [
    "inputs = keras.Input(shape=(sequence_length, 2))\n",
    "x = layers.LSTM(16)(inputs)\n",
    "x = layers.LSTM(32)(inputs)\n",
    "x = layers.LSTM(64)(inputs)\n",
    "x = layers.Dense(16)(inputs)\n",
    "outputs = layers.Dense(1)(x)\n",
    "model = keras.Model(inputs, outputs)\n",
    "\n",
    "callbacks = [\n",
    "    keras.callbacks.ModelCheckpoint(\"btc_b_lstm.model\",\n",
    "                                    save_best_only=True)\n",
    "]\n",
    "model.compile(optimizer=\"rmsprop\", loss=\"mse\", metrics=['mae'])\n",
    "history = model.fit(train_dataset,\n",
    "                    epochs=10,\n",
    "                    validation_data = val_dataset,\n",
    "                    callbacks = callbacks)\n",
    "model = keras.models.load_model(\"btc_b_lstm.model\")\n",
    "print(f\"Test MAE: {model.evaluate(test_dataset)[1]:.2f}\")"
   ]
  },
  {
   "cell_type": "markdown",
   "metadata": {
    "id": "MAh8I281KhnP"
   },
   "source": [
    "# dropout-regularized LSTM"
   ]
  },
  {
   "cell_type": "code",
   "execution_count": 21,
   "metadata": {
    "id": "tz16ayVkKoFK"
   },
   "outputs": [
    {
     "name": "stdout",
     "output_type": "stream",
     "text": [
      "WARNING:tensorflow:Layer lstm_1 will not use cuDNN kernels since it doesn't meet the criteria. It will use a generic GPU kernel as fallback when running on GPU.\n"
     ]
    },
    {
     "name": "stderr",
     "output_type": "stream",
     "text": [
      "WARNING:tensorflow:Layer lstm_1 will not use cuDNN kernels since it doesn't meet the criteria. It will use a generic GPU kernel as fallback when running on GPU.\n"
     ]
    },
    {
     "name": "stdout",
     "output_type": "stream",
     "text": [
      "Epoch 1/10\n",
      "1/2 [==============>...............] - ETA: 1s - loss: 1.0825 - mae: 0.8093INFO:tensorflow:Assets written to: btc_b_lstm_dropout.model/assets\n"
     ]
    },
    {
     "name": "stderr",
     "output_type": "stream",
     "text": [
      "INFO:tensorflow:Assets written to: btc_b_lstm_dropout.model/assets\n"
     ]
    },
    {
     "name": "stdout",
     "output_type": "stream",
     "text": [
      "2/2 [==============================] - 2s 1s/step - loss: 1.0480 - mae: 0.7912 - val_loss: 3.1899 - val_mae: 1.7729\n",
      "Epoch 2/10\n",
      "2/2 [==============================] - 0s 83ms/step - loss: 1.0914 - mae: 0.8309 - val_loss: 3.2406 - val_mae: 1.7872\n",
      "Epoch 3/10\n",
      "2/2 [==============================] - 0s 66ms/step - loss: 1.1029 - mae: 0.8123 - val_loss: 3.2559 - val_mae: 1.7914\n",
      "Epoch 4/10\n",
      "2/2 [==============================] - 0s 62ms/step - loss: 1.0934 - mae: 0.8106 - val_loss: 3.2805 - val_mae: 1.7983\n",
      "Epoch 5/10\n",
      "2/2 [==============================] - 0s 63ms/step - loss: 1.1099 - mae: 0.8322 - val_loss: 3.3066 - val_mae: 1.8055\n",
      "Epoch 6/10\n",
      "2/2 [==============================] - 0s 66ms/step - loss: 1.1634 - mae: 0.8395 - val_loss: 3.3210 - val_mae: 1.8095\n",
      "Epoch 7/10\n",
      "2/2 [==============================] - 0s 62ms/step - loss: 1.0956 - mae: 0.8210 - val_loss: 3.3474 - val_mae: 1.8168\n",
      "Epoch 8/10\n",
      "2/2 [==============================] - 0s 58ms/step - loss: 0.9977 - mae: 0.7843 - val_loss: 3.3692 - val_mae: 1.8228\n",
      "Epoch 9/10\n",
      "2/2 [==============================] - 0s 60ms/step - loss: 1.1174 - mae: 0.8464 - val_loss: 3.3832 - val_mae: 1.8266\n",
      "Epoch 10/10\n",
      "2/2 [==============================] - 0s 62ms/step - loss: 1.0422 - mae: 0.7942 - val_loss: 3.4057 - val_mae: 1.8328\n",
      "WARNING:tensorflow:Layer lstm_1 will not use cuDNN kernels since it doesn't meet the criteria. It will use a generic GPU kernel as fallback when running on GPU.\n"
     ]
    },
    {
     "name": "stderr",
     "output_type": "stream",
     "text": [
      "WARNING:tensorflow:Layer lstm_1 will not use cuDNN kernels since it doesn't meet the criteria. It will use a generic GPU kernel as fallback when running on GPU.\n"
     ]
    },
    {
     "name": "stdout",
     "output_type": "stream",
     "text": [
      "1/1 [==============================] - 0s 132ms/step - loss: 1.0597 - mae: 1.0193\n",
      "Test MAE: 1.02\n"
     ]
    }
   ],
   "source": [
    "inputs = keras.Input(shape=(sequence_length, 2))\n",
    "x = layers.LSTM(32, recurrent_dropout=0.25)(inputs)\n",
    "x = layers.Dropout(0.5)(x)\n",
    "outputs = layers.Dense(1)(x)\n",
    "model = keras.Model(inputs, outputs)\n",
    "\n",
    "callbacks = [\n",
    "    keras.callbacks.ModelCheckpoint(\"btc_b_lstm_dropout.model\",\n",
    "                                    save_best_only=True)\n",
    "]\n",
    "model.compile(optimizer=\"rmsprop\", loss=\"mse\", metrics=['mae'])\n",
    "history = model.fit(train_dataset,\n",
    "                    epochs=10,\n",
    "                    validation_data = val_dataset,\n",
    "                    callbacks = callbacks)\n",
    "model = keras.models.load_model(\"btc_b_lstm_dropout.model\")\n",
    "print(f\"Test MAE: {model.evaluate(test_dataset)[1]:.2f}\")"
   ]
  },
  {
   "cell_type": "markdown",
   "metadata": {
    "id": "Gh1jGLNhK8sk"
   },
   "source": [
    "# bidirectional LSTM"
   ]
  },
  {
   "cell_type": "code",
   "execution_count": 22,
   "metadata": {
    "colab": {
     "base_uri": "https://localhost:8080/"
    },
    "id": "k-Png11mLBGi",
    "outputId": "a546b46c-f21c-4e60-dec7-41907ffd9736"
   },
   "outputs": [
    {
     "name": "stdout",
     "output_type": "stream",
     "text": [
      "Epoch 1/10\n",
      "1/2 [==============>...............] - ETA: 1s - loss: 0.8725 - mae: 0.7112INFO:tensorflow:Assets written to: btc_b_lstm_bidirectional.model/assets\n"
     ]
    },
    {
     "name": "stderr",
     "output_type": "stream",
     "text": [
      "INFO:tensorflow:Assets written to: btc_b_lstm_bidirectional.model/assets\n"
     ]
    },
    {
     "name": "stdout",
     "output_type": "stream",
     "text": [
      "2/2 [==============================] - 5s 4s/step - loss: 0.8803 - mae: 0.7182 - val_loss: 3.4288 - val_mae: 1.8391\n",
      "Epoch 2/10\n",
      "2/2 [==============================] - 0s 58ms/step - loss: 0.8700 - mae: 0.7145 - val_loss: 3.5011 - val_mae: 1.8586\n",
      "Epoch 3/10\n",
      "2/2 [==============================] - 0s 44ms/step - loss: 0.8647 - mae: 0.7128 - val_loss: 3.5591 - val_mae: 1.8742\n",
      "Epoch 4/10\n",
      "2/2 [==============================] - 0s 38ms/step - loss: 0.8610 - mae: 0.7116 - val_loss: 3.6145 - val_mae: 1.8889\n",
      "Epoch 5/10\n",
      "2/2 [==============================] - 0s 41ms/step - loss: 0.8581 - mae: 0.7107 - val_loss: 3.6623 - val_mae: 1.9015\n",
      "Epoch 6/10\n",
      "2/2 [==============================] - 0s 50ms/step - loss: 0.8556 - mae: 0.7101 - val_loss: 3.6912 - val_mae: 1.9091\n",
      "Epoch 7/10\n",
      "2/2 [==============================] - 0s 66ms/step - loss: 0.8541 - mae: 0.7096 - val_loss: 3.7233 - val_mae: 1.9175\n",
      "Epoch 8/10\n",
      "2/2 [==============================] - 0s 42ms/step - loss: 0.8528 - mae: 0.7092 - val_loss: 3.7580 - val_mae: 1.9265\n",
      "Epoch 9/10\n",
      "2/2 [==============================] - 0s 36ms/step - loss: 0.8517 - mae: 0.7091 - val_loss: 3.7811 - val_mae: 1.9325\n",
      "Epoch 10/10\n",
      "2/2 [==============================] - 0s 37ms/step - loss: 0.8509 - mae: 0.7089 - val_loss: 3.8056 - val_mae: 1.9388\n",
      "1/1 [==============================] - 0s 287ms/step - loss: 1.1989 - mae: 1.0855\n",
      "Test MAE: 1.09\n"
     ]
    }
   ],
   "source": [
    "inputs = keras.Input(shape=(sequence_length, 2))\n",
    "x = layers.Bidirectional(layers.LSTM(16))(inputs)\n",
    "outputs = layers.Dense(1)(x)\n",
    "model = keras.Model(inputs, outputs)\n",
    "\n",
    "callbacks = [\n",
    "    keras.callbacks.ModelCheckpoint(\"btc_b_lstm_bidirectional.model\",\n",
    "                                    save_best_only=True)\n",
    "]\n",
    "model.compile(optimizer=\"rmsprop\", loss=\"mse\", metrics=['mae'])\n",
    "history = model.fit(train_dataset,\n",
    "                    epochs=10,\n",
    "                    validation_data = val_dataset,\n",
    "                    callbacks = callbacks)\n",
    "model = keras.models.load_model(\"btc_b_lstm_bidirectional.model\")\n",
    "print(f\"Test MAE: {model.evaluate(test_dataset)[1]:.2f}\")"
   ]
  },
  {
   "cell_type": "code",
   "execution_count": null,
   "metadata": {},
   "outputs": [],
   "source": []
  }
 ],
 "metadata": {
  "accelerator": "GPU",
  "colab": {
   "authorship_tag": "ABX9TyMx/LobYhXrYsFlp8PeIOIg",
   "gpuType": "T4",
   "include_colab_link": true,
   "provenance": []
  },
  "kernelspec": {
   "display_name": "Python 3 (ipykernel)",
   "language": "python",
   "name": "python3"
  },
  "language_info": {
   "codemirror_mode": {
    "name": "ipython",
    "version": 3
   },
   "file_extension": ".py",
   "mimetype": "text/x-python",
   "name": "python",
   "nbconvert_exporter": "python",
   "pygments_lexer": "ipython3",
   "version": "3.9.16"
  }
 },
 "nbformat": 4,
 "nbformat_minor": 1
}
